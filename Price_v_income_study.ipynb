{
 "cells": [
  {
   "cell_type": "code",
   "execution_count": 141,
   "metadata": {},
   "outputs": [],
   "source": [
    "import pandas as pd\n",
    "import numpy as np\n",
    "import plotly.express as px\n",
    "import plotly.graph_objs as go\n",
    "import chart_studio.plotly as py\n",
    "from plotly.offline import download_plotlyjs, init_notebook_mode, plot, iplot\n",
    "import plotly.offline as offline\n",
    "import json"
   ]
  },
  {
   "cell_type": "code",
   "execution_count": 142,
   "metadata": {},
   "outputs": [],
   "source": [
    "#import median family income files 2017-2021\n",
    "fy2017 = pd.read_excel('~/Downloads/S235-S236-FY17.xlsx')\n",
    "fy2018 = pd.read_excel('~/Downloads/S235-S236-FY18.xlsx')\n",
    "fy2019 = pd.read_excel('~/Downloads/S235-S236-FY19.xlsx')\n",
    "fy2020 = pd.read_excel('~/Downloads/S235-S236-FY20.xlsx')\n",
    "fy2021 = pd.read_excel('~/Downloads/S235-S236-FY21.xlsx')"
   ]
  },
  {
   "cell_type": "code",
   "execution_count": 143,
   "metadata": {},
   "outputs": [],
   "source": [
    "#drop data for cities that are not metro areas\n",
    "fy2017 = fy2017[['Metro_Area_Name','median2017']].loc[fy2017['metro'] == 1]\n",
    "fy2018 = fy2018[['Metro_Area_Name','median2018']].loc[fy2018['metro'] == 1]\n",
    "fy2019 = fy2019[['Metro_Area_Name','median2019']].loc[fy2019['metro'] == 1]\n",
    "fy2020 = fy2020[['Metro_Area_Name','median2020']].loc[fy2020['metro'] == 1]\n",
    "fy2021 = fy2021[['Metro_Area_Name','median2021']].loc[fy2021['metro'] == 1]"
   ]
  },
  {
   "cell_type": "code",
   "execution_count": 144,
   "metadata": {},
   "outputs": [],
   "source": [
    "#drop duplicate data\n",
    "fy2017 = fy2017.drop_duplicates()\n",
    "fy2018 = fy2018.drop_duplicates()\n",
    "fy2019 = fy2019.drop_duplicates()\n",
    "fy2020 = fy2020.drop_duplicates()\n",
    "fy2021 = fy2021.drop_duplicates()"
   ]
  },
  {
   "cell_type": "code",
   "execution_count": 145,
   "metadata": {},
   "outputs": [],
   "source": [
    "#merge median family income files on metro name\n",
    "all_data = fy2017.merge(fy2018, on='Metro_Area_Name')"
   ]
  },
  {
   "cell_type": "code",
   "execution_count": 146,
   "metadata": {},
   "outputs": [],
   "source": [
    "all_data = all_data.merge(fy2019, on='Metro_Area_Name')"
   ]
  },
  {
   "cell_type": "code",
   "execution_count": 147,
   "metadata": {},
   "outputs": [],
   "source": [
    "all_data = all_data.merge(fy2020, on='Metro_Area_Name')"
   ]
  },
  {
   "cell_type": "code",
   "execution_count": 148,
   "metadata": {},
   "outputs": [],
   "source": [
    "all_data = all_data.merge(fy2021, on='Metro_Area_Name')"
   ]
  },
  {
   "cell_type": "code",
   "execution_count": 149,
   "metadata": {},
   "outputs": [
    {
     "data": {
      "text/plain": [
       "(622, 6)"
      ]
     },
     "execution_count": 149,
     "metadata": {},
     "output_type": "execute_result"
    }
   ],
   "source": [
    "all_data.shape"
   ]
  },
  {
   "cell_type": "code",
   "execution_count": 150,
   "metadata": {},
   "outputs": [
    {
     "data": {
      "text/html": [
       "<div>\n",
       "<style scoped>\n",
       "    .dataframe tbody tr th:only-of-type {\n",
       "        vertical-align: middle;\n",
       "    }\n",
       "\n",
       "    .dataframe tbody tr th {\n",
       "        vertical-align: top;\n",
       "    }\n",
       "\n",
       "    .dataframe thead th {\n",
       "        text-align: right;\n",
       "    }\n",
       "</style>\n",
       "<table border=\"1\" class=\"dataframe\">\n",
       "  <thead>\n",
       "    <tr style=\"text-align: right;\">\n",
       "      <th></th>\n",
       "      <th>Metro_Area_Name</th>\n",
       "      <th>median2017</th>\n",
       "      <th>median2018</th>\n",
       "      <th>median2019</th>\n",
       "      <th>median2020</th>\n",
       "      <th>median2021</th>\n",
       "    </tr>\n",
       "  </thead>\n",
       "  <tbody>\n",
       "    <tr>\n",
       "      <th>0</th>\n",
       "      <td>Montgomery, AL MSA</td>\n",
       "      <td>59700</td>\n",
       "      <td>62900</td>\n",
       "      <td>65900</td>\n",
       "      <td>65700</td>\n",
       "      <td>67600</td>\n",
       "    </tr>\n",
       "    <tr>\n",
       "      <th>1</th>\n",
       "      <td>Daphne-Fairhope-Foley, AL MSA</td>\n",
       "      <td>61500</td>\n",
       "      <td>69400</td>\n",
       "      <td>80500</td>\n",
       "      <td>81000</td>\n",
       "      <td>74300</td>\n",
       "    </tr>\n",
       "    <tr>\n",
       "      <th>2</th>\n",
       "      <td>Birmingham-Hoover, AL HUD Metro FMR Area</td>\n",
       "      <td>63100</td>\n",
       "      <td>71000</td>\n",
       "      <td>74400</td>\n",
       "      <td>73100</td>\n",
       "      <td>78000</td>\n",
       "    </tr>\n",
       "    <tr>\n",
       "      <th>3</th>\n",
       "      <td>Anniston-Oxford-Jacksonville, AL MSA</td>\n",
       "      <td>53000</td>\n",
       "      <td>56800</td>\n",
       "      <td>56200</td>\n",
       "      <td>61500</td>\n",
       "      <td>63700</td>\n",
       "    </tr>\n",
       "    <tr>\n",
       "      <th>4</th>\n",
       "      <td>Chilton County, AL HUD Metro FMR Area</td>\n",
       "      <td>52700</td>\n",
       "      <td>54600</td>\n",
       "      <td>55300</td>\n",
       "      <td>56100</td>\n",
       "      <td>56700</td>\n",
       "    </tr>\n",
       "  </tbody>\n",
       "</table>\n",
       "</div>"
      ],
      "text/plain": [
       "                            Metro_Area_Name  median2017  median2018  \\\n",
       "0                        Montgomery, AL MSA       59700       62900   \n",
       "1             Daphne-Fairhope-Foley, AL MSA       61500       69400   \n",
       "2  Birmingham-Hoover, AL HUD Metro FMR Area       63100       71000   \n",
       "3      Anniston-Oxford-Jacksonville, AL MSA       53000       56800   \n",
       "4     Chilton County, AL HUD Metro FMR Area       52700       54600   \n",
       "\n",
       "   median2019  median2020  median2021  \n",
       "0       65900       65700       67600  \n",
       "1       80500       81000       74300  \n",
       "2       74400       73100       78000  \n",
       "3       56200       61500       63700  \n",
       "4       55300       56100       56700  "
      ]
     },
     "execution_count": 150,
     "metadata": {},
     "output_type": "execute_result"
    }
   ],
   "source": [
    "all_data.head()"
   ]
  },
  {
   "cell_type": "code",
   "execution_count": 151,
   "metadata": {},
   "outputs": [],
   "source": [
    "#export cleaned family incomes data\n",
    "all_data.to_csv('familyincomes.csv')"
   ]
  },
  {
   "cell_type": "code",
   "execution_count": 121,
   "metadata": {},
   "outputs": [],
   "source": [
    "#import metro data \n",
    "#(this is a csv from data combined in a google spreadsheet using the family income data from the above csv and zillow)\n",
    "metro_data = pd.read_csv('~/Downloads/metrodatas.csv')"
   ]
  },
  {
   "cell_type": "code",
   "execution_count": 122,
   "metadata": {},
   "outputs": [],
   "source": [
    "#add id to data -- this doesn't end up getting used\n",
    "metro_data['id'] = metro_data.index"
   ]
  },
  {
   "cell_type": "code",
   "execution_count": 123,
   "metadata": {},
   "outputs": [],
   "source": [
    "#convert data from wide to long (one col for years) to get min/max later\n",
    "metro_data_long = pd.wide_to_long(metro_data, stubnames = [\"PIratio\",\"Home\"], i='ZillowName', j='year').reset_index()"
   ]
  },
  {
   "cell_type": "code",
   "execution_count": 124,
   "metadata": {},
   "outputs": [
    {
     "data": {
      "text/html": [
       "<div>\n",
       "<style scoped>\n",
       "    .dataframe tbody tr th:only-of-type {\n",
       "        vertical-align: middle;\n",
       "    }\n",
       "\n",
       "    .dataframe tbody tr th {\n",
       "        vertical-align: top;\n",
       "    }\n",
       "\n",
       "    .dataframe thead th {\n",
       "        text-align: right;\n",
       "    }\n",
       "</style>\n",
       "<table border=\"1\" class=\"dataframe\">\n",
       "  <thead>\n",
       "    <tr style=\"text-align: right;\">\n",
       "      <th></th>\n",
       "      <th>ZillowName</th>\n",
       "      <th>year</th>\n",
       "      <th>Longitude</th>\n",
       "      <th>id</th>\n",
       "      <th>Home Change 2000 to 21</th>\n",
       "      <th>Latitude</th>\n",
       "      <th>Home Change 2008 to 2021</th>\n",
       "      <th>Metropolitan statistical area</th>\n",
       "      <th>PIratio</th>\n",
       "      <th>Home</th>\n",
       "    </tr>\n",
       "  </thead>\n",
       "  <tbody>\n",
       "    <tr>\n",
       "      <th>0</th>\n",
       "      <td>Los Angeles-Long Beach-Anaheim, CA</td>\n",
       "      <td>2000</td>\n",
       "      <td>-118.182750</td>\n",
       "      <td>0</td>\n",
       "      <td>1.016030</td>\n",
       "      <td>34.108703</td>\n",
       "      <td>0.267929</td>\n",
       "      <td>Los Angeles-Long Beach-Anaheim, CA MSA</td>\n",
       "      <td>4.852012</td>\n",
       "      <td>401467.98</td>\n",
       "    </tr>\n",
       "    <tr>\n",
       "      <th>1</th>\n",
       "      <td>San Jose, CA</td>\n",
       "      <td>2000</td>\n",
       "      <td>-121.371370</td>\n",
       "      <td>1</td>\n",
       "      <td>0.488040</td>\n",
       "      <td>36.908472</td>\n",
       "      <td>0.328905</td>\n",
       "      <td>San Jose-Sunnyvale-Santa Clara, CA MSA</td>\n",
       "      <td>6.109914</td>\n",
       "      <td>844200.58</td>\n",
       "    </tr>\n",
       "    <tr>\n",
       "      <th>2</th>\n",
       "      <td>San Francisco, CA</td>\n",
       "      <td>2000</td>\n",
       "      <td>-122.274430</td>\n",
       "      <td>2</td>\n",
       "      <td>0.469275</td>\n",
       "      <td>37.773718</td>\n",
       "      <td>0.237575</td>\n",
       "      <td>San Francisco-Oakland-Berkeley, CA MSA</td>\n",
       "      <td>5.647744</td>\n",
       "      <td>671812.54</td>\n",
       "    </tr>\n",
       "    <tr>\n",
       "      <th>3</th>\n",
       "      <td>San Diego, CA</td>\n",
       "      <td>2000</td>\n",
       "      <td>-116.776120</td>\n",
       "      <td>3</td>\n",
       "      <td>0.598213</td>\n",
       "      <td>33.023604</td>\n",
       "      <td>0.367383</td>\n",
       "      <td>San Diego-Chula Vista-Carlsbad, CA MSA</td>\n",
       "      <td>4.853127</td>\n",
       "      <td>413892.20</td>\n",
       "    </tr>\n",
       "    <tr>\n",
       "      <th>4</th>\n",
       "      <td>New York, NY</td>\n",
       "      <td>2000</td>\n",
       "      <td>-73.873758</td>\n",
       "      <td>4</td>\n",
       "      <td>0.488695</td>\n",
       "      <td>40.774930</td>\n",
       "      <td>-0.098756</td>\n",
       "      <td>New York-Newark-Jersey City, NY-NJ-PA MSA</td>\n",
       "      <td>4.426770</td>\n",
       "      <td>395106.91</td>\n",
       "    </tr>\n",
       "  </tbody>\n",
       "</table>\n",
       "</div>"
      ],
      "text/plain": [
       "                           ZillowName  year   Longitude  id  \\\n",
       "0  Los Angeles-Long Beach-Anaheim, CA  2000 -118.182750   0   \n",
       "1                        San Jose, CA  2000 -121.371370   1   \n",
       "2                   San Francisco, CA  2000 -122.274430   2   \n",
       "3                       San Diego, CA  2000 -116.776120   3   \n",
       "4                        New York, NY  2000  -73.873758   4   \n",
       "\n",
       "   Home Change 2000 to 21   Latitude  Home Change 2008 to 2021  \\\n",
       "0                1.016030  34.108703                  0.267929   \n",
       "1                0.488040  36.908472                  0.328905   \n",
       "2                0.469275  37.773718                  0.237575   \n",
       "3                0.598213  33.023604                  0.367383   \n",
       "4                0.488695  40.774930                 -0.098756   \n",
       "\n",
       "               Metropolitan statistical area   PIratio       Home  \n",
       "0     Los Angeles-Long Beach-Anaheim, CA MSA  4.852012  401467.98  \n",
       "1     San Jose-Sunnyvale-Santa Clara, CA MSA  6.109914  844200.58  \n",
       "2     San Francisco-Oakland-Berkeley, CA MSA  5.647744  671812.54  \n",
       "3     San Diego-Chula Vista-Carlsbad, CA MSA  4.853127  413892.20  \n",
       "4  New York-Newark-Jersey City, NY-NJ-PA MSA  4.426770  395106.91  "
      ]
     },
     "execution_count": 124,
     "metadata": {},
     "output_type": "execute_result"
    }
   ],
   "source": [
    "metro_data_long.head()"
   ]
  },
  {
   "cell_type": "code",
   "execution_count": 125,
   "metadata": {},
   "outputs": [],
   "source": [
    "#get data for price-to-income map\n",
    "metro_data_df = metro_data[['Metropolitan statistical area','id','ZillowName','Latitude','Longitude','PIratio2000', 'PIratio2008','PIratio2017','PIratio2018','PIratio2019','PIratio2020','PIratio2021']]"
   ]
  },
  {
   "cell_type": "code",
   "execution_count": 126,
   "metadata": {
    "scrolled": true
   },
   "outputs": [
    {
     "data": {
      "text/plain": [
       "Metropolitan statistical area    False\n",
       "id                               False\n",
       "ZillowName                       False\n",
       "Latitude                         False\n",
       "Longitude                        False\n",
       "PIratio2000                       True\n",
       "PIratio2008                      False\n",
       "PIratio2017                      False\n",
       "PIratio2018                      False\n",
       "PIratio2019                      False\n",
       "PIratio2020                      False\n",
       "PIratio2021                      False\n",
       "dtype: bool"
      ]
     },
     "execution_count": 126,
     "metadata": {},
     "output_type": "execute_result"
    }
   ],
   "source": [
    "#check for NaN values\n",
    "metro_data_df.isna().any()"
   ]
  },
  {
   "cell_type": "code",
   "execution_count": 127,
   "metadata": {},
   "outputs": [
    {
     "name": "stderr",
     "output_type": "stream",
     "text": [
      "/usr/local/lib/python3.7/site-packages/pandas/core/generic.py:6245: SettingWithCopyWarning:\n",
      "\n",
      "\n",
      "A value is trying to be set on a copy of a slice from a DataFrame\n",
      "\n",
      "See the caveats in the documentation: https://pandas.pydata.org/pandas-docs/stable/user_guide/indexing.html#returning-a-view-versus-a-copy\n",
      "\n"
     ]
    }
   ],
   "source": [
    "#only NaN value was for Indianapolis in 2000, so fillig it with the 2000 PI median\n",
    "metro_data_df['PIratio2000'].fillna(metro_data_df['PIratio2000'].median(),inplace=True)"
   ]
  },
  {
   "cell_type": "code",
   "execution_count": 128,
   "metadata": {},
   "outputs": [
    {
     "data": {
      "text/plain": [
       "Metropolitan statistical area    False\n",
       "id                               False\n",
       "ZillowName                       False\n",
       "Latitude                         False\n",
       "Longitude                        False\n",
       "PIratio2000                      False\n",
       "PIratio2008                      False\n",
       "PIratio2017                      False\n",
       "PIratio2018                      False\n",
       "PIratio2019                      False\n",
       "PIratio2020                      False\n",
       "PIratio2021                      False\n",
       "dtype: bool"
      ]
     },
     "execution_count": 128,
     "metadata": {},
     "output_type": "execute_result"
    }
   ],
   "source": [
    "metro_data_df.isna().any()"
   ]
  },
  {
   "cell_type": "code",
   "execution_count": 134,
   "metadata": {},
   "outputs": [
    {
     "name": "stderr",
     "output_type": "stream",
     "text": [
      "/Users/francescaortegren/Library/Python/3.7/lib/python/site-packages/ipykernel_launcher.py:19: SettingWithCopyWarning:\n",
      "\n",
      "\n",
      "A value is trying to be set on a copy of a slice from a DataFrame.\n",
      "Try using .loc[row_indexer,col_indexer] = value instead\n",
      "\n",
      "See the caveats in the documentation: https://pandas.pydata.org/pandas-docs/stable/user_guide/indexing.html#returning-a-view-versus-a-copy\n",
      "\n"
     ]
    },
    {
     "data": {
      "application/vnd.plotly.v1+json": {
       "config": {
        "plotlyServerURL": "https://plot.ly"
       },
       "data": [
        {
         "hovertemplate": [
          "Los Angeles-Long Beach-Anaheim, CA<br> Price to income: 4.9",
          "San Jose, CA<br> Price to income: 6.1",
          "San Francisco, CA<br> Price to income: 5.6",
          "San Diego, CA<br> Price to income: 4.9",
          "New York, NY<br> Price to income: 4.4",
          "Riverside, CA<br> Price to income: 3.3",
          "Miami-Fort Lauderdale, FL<br> Price to income: 3.1",
          "Sacramento, CA<br> Price to income: 3.6",
          "Seattle, WA<br> Price to income: 3.5",
          "Salt Lake City, UT<br> Price to income: 3.7",
          "Portland, OR<br> Price to income: 3.4",
          "Denver, CO<br> Price to income: 3.6",
          "Boston, MA<br> Price to income: 4.0",
          "Las Vegas, NV<br> Price to income: 3.4",
          "Phoenix, AZ<br> Price to income: 2.8",
          "Austin, TX<br> Price to income: 3.2",
          "Providence, RI<br> Price to income: 3.3",
          "Orlando, FL<br> Price to income: 2.7",
          "Nashville, TN<br> Price to income: 2.5",
          "Washington, DC<br> Price to income: 2.5",
          "Tampa, FL<br> Price to income: 2.4",
          "Jacksonville, FL<br> Price to income: 2.5",
          "Raleigh, NC<br> Price to income: 2.9",
          "Charlotte, NC<br> Price to income: 2.7",
          "New Orleans, LA<br> Price to income: 3.1",
          "Dallas-Fort Worth, TX<br> Price to income: 2.2",
          "Atlanta, GA<br> Price to income: 2.6",
          "Virginia Beach, VA<br> Price to income: 2.6",
          "San Antonio, TX<br> Price to income: 2.7",
          "Minneapolis-St Paul, MN<br> Price to income: 2.5",
          "Baltimore, MD<br> Price to income: 2.6",
          "Houston, TX<br> Price to income: 2.2",
          "Richmond, VA<br> Price to income: 2.3",
          "Philadelphia, PA<br> Price to income: 2.4",
          "Columbus, OH<br> Price to income: 2.4",
          "Chicago, IL<br> Price to income: 2.7",
          "Milwaukee, WI<br> Price to income: 2.1",
          "Kansas City, MO<br> Price to income: 2.1",
          "Louisville-Jefferson County, KY<br> Price to income: 2.3",
          "Memphis, TN<br> Price to income: 2.4",
          "Indianapolis, IN<br> Price to income: 2.6",
          "Buffalo, NY<br> Price to income: 2.0",
          "Hartford, CT<br> Price to income: 2.8",
          "Detroit, MI<br> Price to income: 2.4",
          "Cincinnati, OH<br> Price to income: 2.3",
          "Birmingham, AL<br> Price to income: 2.4",
          "St. Louis, MO<br> Price to income: 2.2",
          "Oklahoma City, OK<br> Price to income: 2.1",
          "Cleveland, OH<br> Price to income: 2.4",
          "Pittsburgh, PA<br> Price to income: 2.1"
         ],
         "lat": [
          34.108703000000006,
          36.908471999999996,
          37.773718,
          33.023604,
          40.77493,
          34.538476,
          26.101828,
          38.790271999999995,
          47.490552,
          40.572887,
          45.600621999999994,
          39.434789,
          42.517606,
          36.21413,
          33.185765,
          30.249744,
          41.70684,
          28.434396000000003,
          36.118182,
          38.798204999999996,
          28.120540999999996,
          30.236594,
          35.756746,
          35.166342,
          30.053420000000003,
          32.849171000000005,
          33.693728,
          36.804408,
          29.433059999999998,
          45.096664000000004,
          39.304361,
          29.749593,
          37.411324,
          39.894958,
          39.968562,
          41.823521,
          42.912643,
          38.931857,
          38.305838,
          35.024419,
          39.748670000000004,
          43.044371000000005,
          41.71865,
          42.721848,
          39.100546,
          33.402599,
          38.740210999999995,
          35.430968,
          41.555037,
          40.439525
         ],
         "lon": [
          -118.18275,
          -121.37137,
          -122.27443000000001,
          -116.77611999999999,
          -73.873758,
          -116.13453999999999,
          -80.478755,
          -121.00563999999999,
          -121.83398000000001,
          -112.95325,
          -122.48438,
          -104.90106999999999,
          -71.02199300000001,
          -115.0144,
          -112.06786000000001,
          -97.649842,
          -71.286687,
          -81.356084,
          -86.64412,
          -77.486882,
          -82.525188,
          -81.754446,
          -78.460441,
          -80.797285,
          -89.934502,
          -96.970489,
          -84.399911,
          -76.449526,
          -98.606973,
          -93.275361,
          -76.549501,
          -95.35364200000001,
          -77.441816,
          -75.311982,
          -82.835911,
          -87.82829699999999,
          -87.862312,
          -94.443841,
          -85.68164499999999,
          -89.871971,
          -86.21238199999999,
          -78.777335,
          -72.57391899999999,
          -83.200846,
          -84.47953299999999,
          -86.729515,
          -90.345825,
          -97.506966,
          -81.604957,
          -79.836097
         ],
         "marker": {
          "autocolorscale": false,
          "cmax": 10.40284413,
          "cmin": 1.9188183419999998,
          "color": [
           4.852012453,
           6.109913962,
           5.647743576,
           4.853127113,
           4.426770277,
           3.2966773810000003,
           3.0599295810000005,
           3.638878537,
           3.5194465619999997,
           3.7343445139999996,
           3.440642581,
           3.592314736,
           4.019589273,
           3.445875932,
           2.8255212339999995,
           3.193486155,
           3.348554296,
           2.67518325,
           2.526826943,
           2.485673249,
           2.35370174,
           2.469155358,
           2.913341322,
           2.706726551,
           3.0766149339999997,
           2.185847126,
           2.592602878,
           2.557648588,
           2.682374367,
           2.521134489,
           2.567812887,
           2.240540885,
           2.263067163,
           2.360109474,
           2.430638471,
           2.689806115,
           2.146780777,
           2.125456411,
           2.286551642,
           2.385842924,
           2.592602878,
           2.038759764,
           2.79197379,
           2.430034344,
           2.337433519,
           2.369313296,
           2.152988234,
           2.143369298,
           2.4195877930000003,
           2.073379964
          ],
          "colorbar": {
           "dtick": 0.5,
           "title": {
            "text": "Price to income ratio"
           }
          },
          "colorscale": [
           [
            0,
            "rgb(103,0,31)"
           ],
           [
            0.1,
            "rgb(178,24,43)"
           ],
           [
            0.2,
            "rgb(214,96,77)"
           ],
           [
            0.3,
            "rgb(244,165,130)"
           ],
           [
            0.4,
            "rgb(253,219,199)"
           ],
           [
            0.5,
            "rgb(247,247,247)"
           ],
           [
            0.6,
            "rgb(209,229,240)"
           ],
           [
            0.7,
            "rgb(146,197,222)"
           ],
           [
            0.8,
            "rgb(67,147,195)"
           ],
           [
            0.9,
            "rgb(33,102,172)"
           ],
           [
            1,
            "rgb(5,48,97)"
           ]
          ],
          "opacity": 0.6,
          "reversescale": true,
          "size": 15,
          "symbol": "circle"
         },
         "mode": "markers",
         "name": "",
         "showlegend": false,
         "type": "scattergeo",
         "visible": true
        },
        {
         "hovertemplate": [
          "Los Angeles-Long Beach-Anaheim, CA<br> Price to income: 7.7",
          "San Jose, CA<br> Price to income: 6.8",
          "San Francisco, CA<br> Price to income: 6.7",
          "San Diego, CA<br> Price to income: 5.7",
          "New York, NY<br> Price to income: 7.3",
          "Riverside, CA<br> Price to income: 4.0",
          "Miami-Fort Lauderdale, FL<br> Price to income: 4.7",
          "Sacramento, CA<br> Price to income: 4.0",
          "Seattle, WA<br> Price to income: 4.4",
          "Salt Lake City, UT<br> Price to income: 4.1",
          "Portland, OR<br> Price to income: 4.4",
          "Denver, CO<br> Price to income: 3.5",
          "Boston, MA<br> Price to income: 4.3",
          "Las Vegas, NV<br> Price to income: 3.5",
          "Phoenix, AZ<br> Price to income: 3.1",
          "Austin, TX<br> Price to income: 3.1",
          "Providence, RI<br> Price to income: 4.1",
          "Orlando, FL<br> Price to income: 3.4",
          "Nashville, TN<br> Price to income: 3.0",
          "Washington, DC<br> Price to income: 3.7",
          "Tampa, FL<br> Price to income: 3.1",
          "Jacksonville, FL<br> Price to income: 3.1",
          "Raleigh, NC<br> Price to income: 3.0",
          "Charlotte, NC<br> Price to income: 2.8",
          "New Orleans, LA<br> Price to income: 3.1",
          "Dallas-Fort Worth, TX<br> Price to income: 2.4",
          "Atlanta, GA<br> Price to income: 2.6",
          "Virginia Beach, VA<br> Price to income: 3.8",
          "San Antonio, TX<br> Price to income: 2.8",
          "Minneapolis-St Paul, MN<br> Price to income: 2.8",
          "Baltimore, MD<br> Price to income: 3.9",
          "Houston, TX<br> Price to income: 2.5",
          "Richmond, VA<br> Price to income: 3.2",
          "Philadelphia, PA<br> Price to income: 3.2",
          "Columbus, OH<br> Price to income: 2.4",
          "Chicago, IL<br> Price to income: 3.4",
          "Milwaukee, WI<br> Price to income: 2.6",
          "Kansas City, MO<br> Price to income: 2.3",
          "Louisville-Jefferson County, KY<br> Price to income: 2.4",
          "Memphis, TN<br> Price to income: 2.4",
          "Indianapolis, IN<br> Price to income: 2.1",
          "Buffalo, NY<br> Price to income: 2.1",
          "Hartford, CT<br> Price to income: 3.2",
          "Detroit, MI<br> Price to income: 1.9",
          "Cincinnati, OH<br> Price to income: 2.3",
          "Birmingham, AL<br> Price to income: 2.6",
          "St. Louis, MO<br> Price to income: 2.5",
          "Oklahoma City, OK<br> Price to income: 2.3",
          "Cleveland, OH<br> Price to income: 2.3",
          "Pittsburgh, PA<br> Price to income: 2.0"
         ],
         "lat": [
          34.108703000000006,
          36.908471999999996,
          37.773718,
          33.023604,
          40.77493,
          34.538476,
          26.101828,
          38.790271999999995,
          47.490552,
          40.572887,
          45.600621999999994,
          39.434789,
          42.517606,
          36.21413,
          33.185765,
          30.249744,
          41.70684,
          28.434396000000003,
          36.118182,
          38.798204999999996,
          28.120540999999996,
          30.236594,
          35.756746,
          35.166342,
          30.053420000000003,
          32.849171000000005,
          33.693728,
          36.804408,
          29.433059999999998,
          45.096664000000004,
          39.304361,
          29.749593,
          37.411324,
          39.894958,
          39.968562,
          41.823521,
          42.912643,
          38.931857,
          38.305838,
          35.024419,
          39.748670000000004,
          43.044371000000005,
          41.71865,
          42.721848,
          39.100546,
          33.402599,
          38.740210999999995,
          35.430968,
          41.555037,
          40.439525
         ],
         "lon": [
          -118.18275,
          -121.37137,
          -122.27443000000001,
          -116.77611999999999,
          -73.873758,
          -116.13453999999999,
          -80.478755,
          -121.00563999999999,
          -121.83398000000001,
          -112.95325,
          -122.48438,
          -104.90106999999999,
          -71.02199300000001,
          -115.0144,
          -112.06786000000001,
          -97.649842,
          -71.286687,
          -81.356084,
          -86.64412,
          -77.486882,
          -82.525188,
          -81.754446,
          -78.460441,
          -80.797285,
          -89.934502,
          -96.970489,
          -84.399911,
          -76.449526,
          -98.606973,
          -93.275361,
          -76.549501,
          -95.35364200000001,
          -77.441816,
          -75.311982,
          -82.835911,
          -87.82829699999999,
          -87.862312,
          -94.443841,
          -85.68164499999999,
          -89.871971,
          -86.21238199999999,
          -78.777335,
          -72.57391899999999,
          -83.200846,
          -84.47953299999999,
          -86.729515,
          -90.345825,
          -97.506966,
          -81.604957,
          -79.836097
         ],
         "marker": {
          "autocolorscale": false,
          "cmax": 10.40284413,
          "cmin": 1.9188183419999998,
          "color": [
           7.7147858629999995,
           6.841573738999999,
           6.7051176429999995,
           5.672392335,
           7.3122362910000005,
           4.047634302,
           4.692198499,
           4.0436596,
           4.402583914,
           4.102810057,
           4.3504951919999995,
           3.47750218,
           4.2600387060000005,
           3.479646701,
           3.128406074,
           3.1333801930000003,
           4.115777229,
           3.3970511310000004,
           3.008622025,
           3.703707894,
           3.0539737039999997,
           3.141602805,
           2.9947330460000003,
           2.831272568,
           3.142292585,
           2.376713075,
           2.644041413,
           3.811651476,
           2.7853505189999996,
           2.826432875,
           3.917332762,
           2.518415077,
           3.231034312,
           3.2497499089999997,
           2.4319397130000002,
           3.445515672,
           2.642647728,
           2.298142859,
           2.417908365,
           2.431162846,
           2.104695466,
           2.074206365,
           3.2488686860000002,
           1.9188183419999998,
           2.321993962,
           2.6010505790000003,
           2.538682028,
           2.325402452,
           2.288664863,
           2.014529256
          ],
          "colorbar": {
           "dtick": 0.5,
           "title": {
            "text": "Price to income ratio"
           }
          },
          "colorscale": [
           [
            0,
            "rgb(103,0,31)"
           ],
           [
            0.1,
            "rgb(178,24,43)"
           ],
           [
            0.2,
            "rgb(214,96,77)"
           ],
           [
            0.3,
            "rgb(244,165,130)"
           ],
           [
            0.4,
            "rgb(253,219,199)"
           ],
           [
            0.5,
            "rgb(247,247,247)"
           ],
           [
            0.6,
            "rgb(209,229,240)"
           ],
           [
            0.7,
            "rgb(146,197,222)"
           ],
           [
            0.8,
            "rgb(67,147,195)"
           ],
           [
            0.9,
            "rgb(33,102,172)"
           ],
           [
            1,
            "rgb(5,48,97)"
           ]
          ],
          "opacity": 0.6,
          "reversescale": true,
          "size": 15,
          "symbol": "circle"
         },
         "mode": "markers",
         "name": "",
         "showlegend": false,
         "type": "scattergeo",
         "visible": false
        },
        {
         "hovertemplate": [
          "Los Angeles-Long Beach-Anaheim, CA<br> Price to income: 9.6",
          "San Jose, CA<br> Price to income: 9.6",
          "San Francisco, CA<br> Price to income: 8.5",
          "San Diego, CA<br> Price to income: 6.9",
          "New York, NY<br> Price to income: 6.7",
          "Riverside, CA<br> Price to income: 5.4",
          "Miami-Fort Lauderdale, FL<br> Price to income: 5.2",
          "Sacramento, CA<br> Price to income: 5.0",
          "Seattle, WA<br> Price to income: 4.7",
          "Salt Lake City, UT<br> Price to income: 4.3",
          "Portland, OR<br> Price to income: 5.2",
          "Denver, CO<br> Price to income: 4.8",
          "Boston, MA<br> Price to income: 4.4",
          "Las Vegas, NV<br> Price to income: 3.8",
          "Phoenix, AZ<br> Price to income: 3.6",
          "Austin, TX<br> Price to income: 3.8",
          "Providence, RI<br> Price to income: 4.0",
          "Orlando, FL<br> Price to income: 3.8",
          "Nashville, TN<br> Price to income: 3.6",
          "Washington, DC<br> Price to income: 3.7",
          "Tampa, FL<br> Price to income: 3.3",
          "Jacksonville, FL<br> Price to income: 3.1",
          "Raleigh, NC<br> Price to income: 3.2",
          "Charlotte, NC<br> Price to income: 2.9",
          "New Orleans, LA<br> Price to income: 3.1",
          "Dallas-Fort Worth, TX<br> Price to income: 3.1",
          "Atlanta, GA<br> Price to income: 2.9",
          "Virginia Beach, VA<br> Price to income: 3.1",
          "San Antonio, TX<br> Price to income: 3.0",
          "Minneapolis-St Paul, MN<br> Price to income: 2.9",
          "Baltimore, MD<br> Price to income: 3.1",
          "Houston, TX<br> Price to income: 2.8",
          "Richmond, VA<br> Price to income: 2.8",
          "Philadelphia, PA<br> Price to income: 2.8",
          "Columbus, OH<br> Price to income: 2.4",
          "Chicago, IL<br> Price to income: 2.9",
          "Milwaukee, WI<br> Price to income: 2.5",
          "Kansas City, MO<br> Price to income: 2.4",
          "Louisville-Jefferson County, KY<br> Price to income: 2.4",
          "Memphis, TN<br> Price to income: 2.2",
          "Indianapolis, IN<br> Price to income: 2.3",
          "Buffalo, NY<br> Price to income: 2.3",
          "Hartford, CT<br> Price to income: 2.6",
          "Detroit, MI<br> Price to income: 2.3",
          "Cincinnati, OH<br> Price to income: 2.2",
          "Birmingham, AL<br> Price to income: 2.4",
          "St. Louis, MO<br> Price to income: 2.2",
          "Oklahoma City, OK<br> Price to income: 2.2",
          "Cleveland, OH<br> Price to income: 2.1",
          "Pittsburgh, PA<br> Price to income: 2.0"
         ],
         "lat": [
          34.108703000000006,
          36.908471999999996,
          37.773718,
          33.023604,
          40.77493,
          34.538476,
          26.101828,
          38.790271999999995,
          47.490552,
          40.572887,
          45.600621999999994,
          39.434789,
          42.517606,
          36.21413,
          33.185765,
          30.249744,
          41.70684,
          28.434396000000003,
          36.118182,
          38.798204999999996,
          28.120540999999996,
          30.236594,
          35.756746,
          35.166342,
          30.053420000000003,
          32.849171000000005,
          33.693728,
          36.804408,
          29.433059999999998,
          45.096664000000004,
          39.304361,
          29.749593,
          37.411324,
          39.894958,
          39.968562,
          41.823521,
          42.912643,
          38.931857,
          38.305838,
          35.024419,
          39.748670000000004,
          43.044371000000005,
          41.71865,
          42.721848,
          39.100546,
          33.402599,
          38.740210999999995,
          35.430968,
          41.555037,
          40.439525
         ],
         "lon": [
          -118.18275,
          -121.37137,
          -122.27443000000001,
          -116.77611999999999,
          -73.873758,
          -116.13453999999999,
          -80.478755,
          -121.00563999999999,
          -121.83398000000001,
          -112.95325,
          -122.48438,
          -104.90106999999999,
          -71.02199300000001,
          -115.0144,
          -112.06786000000001,
          -97.649842,
          -71.286687,
          -81.356084,
          -86.64412,
          -77.486882,
          -82.525188,
          -81.754446,
          -78.460441,
          -80.797285,
          -89.934502,
          -96.970489,
          -84.399911,
          -76.449526,
          -98.606973,
          -93.275361,
          -76.549501,
          -95.35364200000001,
          -77.441816,
          -75.311982,
          -82.835911,
          -87.82829699999999,
          -87.862312,
          -94.443841,
          -85.68164499999999,
          -89.871971,
          -86.21238199999999,
          -78.777335,
          -72.57391899999999,
          -83.200846,
          -84.47953299999999,
          -86.729515,
          -90.345825,
          -97.506966,
          -81.604957,
          -79.836097
         ],
         "marker": {
          "autocolorscale": false,
          "cmax": 10.40284413,
          "cmin": 1.9188183419999998,
          "color": [
           9.564010212000001,
           9.603305074,
           8.518085185,
           6.908307347999999,
           6.73129696,
           5.363107612,
           5.24984071,
           5.047354895,
           4.7194746180000005,
           4.337507826,
           5.17711762,
           4.756565461,
           4.382717698,
           3.835836283,
           3.633161069,
           3.76533085,
           3.991444585,
           3.798247655,
           3.621881464,
           3.6637813739999996,
           3.268817058,
           3.142506613,
           3.1745884419999997,
           2.8828430739999997,
           3.140107794,
           3.0640100169999998,
           2.9451433839999996,
           3.137020623,
           2.988844981,
           2.8795299219999997,
           3.1017444,
           2.833115414,
           2.825786634,
           2.750530703,
           2.429785095,
           2.888704769,
           2.4755549080000003,
           2.391087418,
           2.407124865,
           2.20129586,
           2.264404964,
           2.250629364,
           2.586946399,
           2.286682556,
           2.1980121319999997,
           2.3958464580000003,
           2.2225267619999998,
           2.194668127,
           2.0600820669999997,
           2.001254631
          ],
          "colorbar": {
           "dtick": 0.5,
           "title": {
            "text": "Price to income ratio"
           }
          },
          "colorscale": [
           [
            0,
            "rgb(103,0,31)"
           ],
           [
            0.1,
            "rgb(178,24,43)"
           ],
           [
            0.2,
            "rgb(214,96,77)"
           ],
           [
            0.3,
            "rgb(244,165,130)"
           ],
           [
            0.4,
            "rgb(253,219,199)"
           ],
           [
            0.5,
            "rgb(247,247,247)"
           ],
           [
            0.6,
            "rgb(209,229,240)"
           ],
           [
            0.7,
            "rgb(146,197,222)"
           ],
           [
            0.8,
            "rgb(67,147,195)"
           ],
           [
            0.9,
            "rgb(33,102,172)"
           ],
           [
            1,
            "rgb(5,48,97)"
           ]
          ],
          "opacity": 0.6,
          "reversescale": true,
          "size": 15,
          "symbol": "circle"
         },
         "mode": "markers",
         "name": "",
         "showlegend": false,
         "type": "scattergeo",
         "visible": false
        },
        {
         "hovertemplate": [
          "Los Angeles-Long Beach-Anaheim, CA<br> Price to income: 9.5",
          "San Jose, CA<br> Price to income: 10.4",
          "San Francisco, CA<br> Price to income: 9.3",
          "San Diego, CA<br> Price to income: 7.2",
          "New York, NY<br> Price to income: 6.7",
          "Riverside, CA<br> Price to income: 5.6",
          "Miami-Fort Lauderdale, FL<br> Price to income: 5.5",
          "Sacramento, CA<br> Price to income: 5.1",
          "Seattle, WA<br> Price to income: 4.9",
          "Salt Lake City, UT<br> Price to income: 4.5",
          "Portland, OR<br> Price to income: 5.0",
          "Denver, CO<br> Price to income: 4.8",
          "Boston, MA<br> Price to income: 4.5",
          "Las Vegas, NV<br> Price to income: 4.3",
          "Phoenix, AZ<br> Price to income: 3.7",
          "Austin, TX<br> Price to income: 3.7",
          "Providence, RI<br> Price to income: 3.8",
          "Orlando, FL<br> Price to income: 3.8",
          "Nashville, TN<br> Price to income: 3.6",
          "Washington, DC<br> Price to income: 3.6",
          "Tampa, FL<br> Price to income: 3.3",
          "Jacksonville, FL<br> Price to income: 3.1",
          "Raleigh, NC<br> Price to income: 3.2",
          "Charlotte, NC<br> Price to income: 3.0",
          "New Orleans, LA<br> Price to income: 3.1",
          "Dallas-Fort Worth, TX<br> Price to income: 3.2",
          "Atlanta, GA<br> Price to income: 3.0",
          "Virginia Beach, VA<br> Price to income: 3.1",
          "San Antonio, TX<br> Price to income: 3.0",
          "Minneapolis-St Paul, MN<br> Price to income: 3.0",
          "Baltimore, MD<br> Price to income: 3.1",
          "Houston, TX<br> Price to income: 2.8",
          "Richmond, VA<br> Price to income: 2.8",
          "Philadelphia, PA<br> Price to income: 2.7",
          "Columbus, OH<br> Price to income: 2.6",
          "Chicago, IL<br> Price to income: 2.8",
          "Milwaukee, WI<br> Price to income: 2.5",
          "Kansas City, MO<br> Price to income: 2.4",
          "Louisville-Jefferson County, KY<br> Price to income: 2.4",
          "Memphis, TN<br> Price to income: 2.2",
          "Indianapolis, IN<br> Price to income: 2.2",
          "Buffalo, NY<br> Price to income: 2.2",
          "Hartford, CT<br> Price to income: 2.5",
          "Detroit, MI<br> Price to income: 2.4",
          "Cincinnati, OH<br> Price to income: 2.2",
          "Birmingham, AL<br> Price to income: 2.2",
          "St. Louis, MO<br> Price to income: 2.3",
          "Oklahoma City, OK<br> Price to income: 2.2",
          "Cleveland, OH<br> Price to income: 2.1",
          "Pittsburgh, PA<br> Price to income: 2.0"
         ],
         "lat": [
          34.108703000000006,
          36.908471999999996,
          37.773718,
          33.023604,
          40.77493,
          34.538476,
          26.101828,
          38.790271999999995,
          47.490552,
          40.572887,
          45.600621999999994,
          39.434789,
          42.517606,
          36.21413,
          33.185765,
          30.249744,
          41.70684,
          28.434396000000003,
          36.118182,
          38.798204999999996,
          28.120540999999996,
          30.236594,
          35.756746,
          35.166342,
          30.053420000000003,
          32.849171000000005,
          33.693728,
          36.804408,
          29.433059999999998,
          45.096664000000004,
          39.304361,
          29.749593,
          37.411324,
          39.894958,
          39.968562,
          41.823521,
          42.912643,
          38.931857,
          38.305838,
          35.024419,
          39.748670000000004,
          43.044371000000005,
          41.71865,
          42.721848,
          39.100546,
          33.402599,
          38.740210999999995,
          35.430968,
          41.555037,
          40.439525
         ],
         "lon": [
          -118.18275,
          -121.37137,
          -122.27443000000001,
          -116.77611999999999,
          -73.873758,
          -116.13453999999999,
          -80.478755,
          -121.00563999999999,
          -121.83398000000001,
          -112.95325,
          -122.48438,
          -104.90106999999999,
          -71.02199300000001,
          -115.0144,
          -112.06786000000001,
          -97.649842,
          -71.286687,
          -81.356084,
          -86.64412,
          -77.486882,
          -82.525188,
          -81.754446,
          -78.460441,
          -80.797285,
          -89.934502,
          -96.970489,
          -84.399911,
          -76.449526,
          -98.606973,
          -93.275361,
          -76.549501,
          -95.35364200000001,
          -77.441816,
          -75.311982,
          -82.835911,
          -87.82829699999999,
          -87.862312,
          -94.443841,
          -85.68164499999999,
          -89.871971,
          -86.21238199999999,
          -78.777335,
          -72.57391899999999,
          -83.200846,
          -84.47953299999999,
          -86.729515,
          -90.345825,
          -97.506966,
          -81.604957,
          -79.836097
         ],
         "marker": {
          "autocolorscale": false,
          "cmax": 10.40284413,
          "cmin": 1.9188183419999998,
          "color": [
           9.491212633,
           10.40284413,
           9.32529418,
           7.164214829,
           6.683430565,
           5.551557897,
           5.525694525,
           5.080131127,
           4.889668572,
           4.458228293,
           5.011828188,
           4.768446474,
           4.463486316,
           4.251434898,
           3.74177653,
           3.7151386410000002,
           3.814473915,
           3.825137771,
           3.612070348,
           3.5727517,
           3.328101021,
           3.132733879,
           3.186388874,
           2.9869906860000004,
           3.0820439389999996,
           3.154124505,
           3.000422153,
           3.12905237,
           2.979421168,
           2.9504879,
           3.0690991010000004,
           2.807380752,
           2.80687387,
           2.742685153,
           2.56134152,
           2.8158214289999997,
           2.470648085,
           2.423755329,
           2.3796130840000003,
           2.209370404,
           2.2084584730000003,
           2.19435186,
           2.453250597,
           2.4082134859999997,
           2.225009619,
           2.2303308530000003,
           2.250143242,
           2.178406594,
           2.099254986,
           2.014941827
          ],
          "colorbar": {
           "dtick": 0.5,
           "title": {
            "text": "Price to income ratio"
           }
          },
          "colorscale": [
           [
            0,
            "rgb(103,0,31)"
           ],
           [
            0.1,
            "rgb(178,24,43)"
           ],
           [
            0.2,
            "rgb(214,96,77)"
           ],
           [
            0.3,
            "rgb(244,165,130)"
           ],
           [
            0.4,
            "rgb(253,219,199)"
           ],
           [
            0.5,
            "rgb(247,247,247)"
           ],
           [
            0.6,
            "rgb(209,229,240)"
           ],
           [
            0.7,
            "rgb(146,197,222)"
           ],
           [
            0.8,
            "rgb(67,147,195)"
           ],
           [
            0.9,
            "rgb(33,102,172)"
           ],
           [
            1,
            "rgb(5,48,97)"
           ]
          ],
          "opacity": 0.6,
          "reversescale": true,
          "size": 15,
          "symbol": "circle"
         },
         "mode": "markers",
         "name": "",
         "showlegend": false,
         "type": "scattergeo",
         "visible": false
        },
        {
         "hovertemplate": [
          "Los Angeles-Long Beach-Anaheim, CA<br> Price to income: 9.1",
          "San Jose, CA<br> Price to income: 9.2",
          "San Francisco, CA<br> Price to income: 8.1",
          "San Diego, CA<br> Price to income: 6.9",
          "New York, NY<br> Price to income: 6.4",
          "Riverside, CA<br> Price to income: 5.4",
          "Miami-Fort Lauderdale, FL<br> Price to income: 5.5",
          "Sacramento, CA<br> Price to income: 5.0",
          "Seattle, WA<br> Price to income: 4.7",
          "Salt Lake City, UT<br> Price to income: 4.7",
          "Portland, OR<br> Price to income: 4.7",
          "Denver, CO<br> Price to income: 4.8",
          "Boston, MA<br> Price to income: 4.3",
          "Las Vegas, NV<br> Price to income: 4.3",
          "Phoenix, AZ<br> Price to income: 3.8",
          "Austin, TX<br> Price to income: 3.5",
          "Providence, RI<br> Price to income: 3.9",
          "Orlando, FL<br> Price to income: 3.9",
          "Nashville, TN<br> Price to income: 3.5",
          "Washington, DC<br> Price to income: 3.6",
          "Tampa, FL<br> Price to income: 3.4",
          "Jacksonville, FL<br> Price to income: 3.1",
          "Raleigh, NC<br> Price to income: 3.0",
          "Charlotte, NC<br> Price to income: 3.0",
          "New Orleans, LA<br> Price to income: 3.0",
          "Dallas-Fort Worth, TX<br> Price to income: 3.1",
          "Atlanta, GA<br> Price to income: 3.0",
          "Virginia Beach, VA<br> Price to income: 3.1",
          "San Antonio, TX<br> Price to income: 2.9",
          "Minneapolis-St Paul, MN<br> Price to income: 2.9",
          "Baltimore, MD<br> Price to income: 2.9",
          "Houston, TX<br> Price to income: 2.9",
          "Richmond, VA<br> Price to income: 2.8",
          "Philadelphia, PA<br> Price to income: 2.8",
          "Columbus, OH<br> Price to income: 2.7",
          "Chicago, IL<br> Price to income: 2.7",
          "Milwaukee, WI<br> Price to income: 2.4",
          "Kansas City, MO<br> Price to income: 2.5",
          "Louisville-Jefferson County, KY<br> Price to income: 2.3",
          "Memphis, TN<br> Price to income: 2.3",
          "Indianapolis, IN<br> Price to income: 2.3",
          "Buffalo, NY<br> Price to income: 2.3",
          "Hartford, CT<br> Price to income: 2.4",
          "Detroit, MI<br> Price to income: 2.4",
          "Cincinnati, OH<br> Price to income: 2.3",
          "Birmingham, AL<br> Price to income: 2.2",
          "St. Louis, MO<br> Price to income: 2.2",
          "Oklahoma City, OK<br> Price to income: 2.1",
          "Cleveland, OH<br> Price to income: 2.1",
          "Pittsburgh, PA<br> Price to income: 2.0"
         ],
         "lat": [
          34.108703000000006,
          36.908471999999996,
          37.773718,
          33.023604,
          40.77493,
          34.538476,
          26.101828,
          38.790271999999995,
          47.490552,
          40.572887,
          45.600621999999994,
          39.434789,
          42.517606,
          36.21413,
          33.185765,
          30.249744,
          41.70684,
          28.434396000000003,
          36.118182,
          38.798204999999996,
          28.120540999999996,
          30.236594,
          35.756746,
          35.166342,
          30.053420000000003,
          32.849171000000005,
          33.693728,
          36.804408,
          29.433059999999998,
          45.096664000000004,
          39.304361,
          29.749593,
          37.411324,
          39.894958,
          39.968562,
          41.823521,
          42.912643,
          38.931857,
          38.305838,
          35.024419,
          39.748670000000004,
          43.044371000000005,
          41.71865,
          42.721848,
          39.100546,
          33.402599,
          38.740210999999995,
          35.430968,
          41.555037,
          40.439525
         ],
         "lon": [
          -118.18275,
          -121.37137,
          -122.27443000000001,
          -116.77611999999999,
          -73.873758,
          -116.13453999999999,
          -80.478755,
          -121.00563999999999,
          -121.83398000000001,
          -112.95325,
          -122.48438,
          -104.90106999999999,
          -71.02199300000001,
          -115.0144,
          -112.06786000000001,
          -97.649842,
          -71.286687,
          -81.356084,
          -86.64412,
          -77.486882,
          -82.525188,
          -81.754446,
          -78.460441,
          -80.797285,
          -89.934502,
          -96.970489,
          -84.399911,
          -76.449526,
          -98.606973,
          -93.275361,
          -76.549501,
          -95.35364200000001,
          -77.441816,
          -75.311982,
          -82.835911,
          -87.82829699999999,
          -87.862312,
          -94.443841,
          -85.68164499999999,
          -89.871971,
          -86.21238199999999,
          -78.777335,
          -72.57391899999999,
          -83.200846,
          -84.47953299999999,
          -86.729515,
          -90.345825,
          -97.506966,
          -81.604957,
          -79.836097
         ],
         "marker": {
          "autocolorscale": false,
          "cmax": 10.40284413,
          "cmin": 1.9188183419999998,
          "color": [
           9.106741824,
           9.24576151,
           8.074594747,
           6.887618133999999,
           6.385491511000001,
           5.439128338,
           5.470974269,
           5.016095671,
           4.710243398999999,
           4.650360649,
           4.747569262,
           4.788502963,
           4.345570197,
           4.313897305,
           3.762624689,
           3.4784619830000003,
           3.87097171,
           3.9203365569999997,
           3.53026759,
           3.5650589910000003,
           3.3590857539999996,
           3.1329717710000002,
           3.030517503,
           2.982337624,
           3.036326802,
           3.0600883289999996,
           3.0021247030000002,
           3.0513282110000004,
           2.942562192,
           2.90779508,
           2.929286246,
           2.8598329469999997,
           2.8307591660000004,
           2.7608646880000003,
           2.683718863,
           2.730386357,
           2.4283425419999998,
           2.465553097,
           2.32430734,
           2.318913666,
           2.274887352,
           2.254089784,
           2.440931328,
           2.364809988,
           2.273062704,
           2.244642738,
           2.218356865,
           2.1185738069999998,
           2.115776845,
           2.006412192
          ],
          "colorbar": {
           "dtick": 0.5,
           "title": {
            "text": "Price to income ratio"
           }
          },
          "colorscale": [
           [
            0,
            "rgb(103,0,31)"
           ],
           [
            0.1,
            "rgb(178,24,43)"
           ],
           [
            0.2,
            "rgb(214,96,77)"
           ],
           [
            0.3,
            "rgb(244,165,130)"
           ],
           [
            0.4,
            "rgb(253,219,199)"
           ],
           [
            0.5,
            "rgb(247,247,247)"
           ],
           [
            0.6,
            "rgb(209,229,240)"
           ],
           [
            0.7,
            "rgb(146,197,222)"
           ],
           [
            0.8,
            "rgb(67,147,195)"
           ],
           [
            0.9,
            "rgb(33,102,172)"
           ],
           [
            1,
            "rgb(5,48,97)"
           ]
          ],
          "opacity": 0.6,
          "reversescale": true,
          "size": 15,
          "symbol": "circle"
         },
         "mode": "markers",
         "name": "",
         "showlegend": false,
         "type": "scattergeo",
         "visible": false
        },
        {
         "hovertemplate": [
          "Los Angeles-Long Beach-Anaheim, CA<br> Price to income: 9.1",
          "San Jose, CA<br> Price to income: 8.8",
          "San Francisco, CA<br> Price to income: 7.9",
          "San Diego, CA<br> Price to income: 6.8",
          "New York, NY<br> Price to income: 6.3",
          "Riverside, CA<br> Price to income: 5.3",
          "Miami-Fort Lauderdale, FL<br> Price to income: 5.3",
          "Sacramento, CA<br> Price to income: 5.2",
          "Seattle, WA<br> Price to income: 4.9",
          "Salt Lake City, UT<br> Price to income: 4.7",
          "Portland, OR<br> Price to income: 4.7",
          "Denver, CO<br> Price to income: 4.6",
          "Boston, MA<br> Price to income: 4.3",
          "Las Vegas, NV<br> Price to income: 4.3",
          "Phoenix, AZ<br> Price to income: 3.9",
          "Austin, TX<br> Price to income: 3.6",
          "Providence, RI<br> Price to income: 3.8",
          "Orlando, FL<br> Price to income: 3.9",
          "Nashville, TN<br> Price to income: 3.6",
          "Washington, DC<br> Price to income: 3.6",
          "Tampa, FL<br> Price to income: 3.5",
          "Jacksonville, FL<br> Price to income: 3.2",
          "Raleigh, NC<br> Price to income: 3.1",
          "Charlotte, NC<br> Price to income: 3.0",
          "New Orleans, LA<br> Price to income: 3.1",
          "Dallas-Fort Worth, TX<br> Price to income: 3.1",
          "Atlanta, GA<br> Price to income: 3.1",
          "Virginia Beach, VA<br> Price to income: 3.1",
          "San Antonio, TX<br> Price to income: 3.0",
          "Minneapolis-St Paul, MN<br> Price to income: 3.0",
          "Baltimore, MD<br> Price to income: 2.9",
          "Houston, TX<br> Price to income: 2.9",
          "Richmond, VA<br> Price to income: 2.9",
          "Philadelphia, PA<br> Price to income: 2.7",
          "Columbus, OH<br> Price to income: 2.7",
          "Chicago, IL<br> Price to income: 2.7",
          "Milwaukee, WI<br> Price to income: 2.6",
          "Kansas City, MO<br> Price to income: 2.5",
          "Louisville-Jefferson County, KY<br> Price to income: 2.4",
          "Memphis, TN<br> Price to income: 2.4",
          "Indianapolis, IN<br> Price to income: 2.4",
          "Buffalo, NY<br> Price to income: 2.4",
          "Hartford, CT<br> Price to income: 2.5",
          "Detroit, MI<br> Price to income: 2.4",
          "Cincinnati, OH<br> Price to income: 2.3",
          "Birmingham, AL<br> Price to income: 2.5",
          "St. Louis, MO<br> Price to income: 2.3",
          "Oklahoma City, OK<br> Price to income: 2.2",
          "Cleveland, OH<br> Price to income: 2.2",
          "Pittsburgh, PA<br> Price to income: 2.0"
         ],
         "lat": [
          34.108703000000006,
          36.908471999999996,
          37.773718,
          33.023604,
          40.77493,
          34.538476,
          26.101828,
          38.790271999999995,
          47.490552,
          40.572887,
          45.600621999999994,
          39.434789,
          42.517606,
          36.21413,
          33.185765,
          30.249744,
          41.70684,
          28.434396000000003,
          36.118182,
          38.798204999999996,
          28.120540999999996,
          30.236594,
          35.756746,
          35.166342,
          30.053420000000003,
          32.849171000000005,
          33.693728,
          36.804408,
          29.433059999999998,
          45.096664000000004,
          39.304361,
          29.749593,
          37.411324,
          39.894958,
          39.968562,
          41.823521,
          42.912643,
          38.931857,
          38.305838,
          35.024419,
          39.748670000000004,
          43.044371000000005,
          41.71865,
          42.721848,
          39.100546,
          33.402599,
          38.740210999999995,
          35.430968,
          41.555037,
          40.439525
         ],
         "lon": [
          -118.18275,
          -121.37137,
          -122.27443000000001,
          -116.77611999999999,
          -73.873758,
          -116.13453999999999,
          -80.478755,
          -121.00563999999999,
          -121.83398000000001,
          -112.95325,
          -122.48438,
          -104.90106999999999,
          -71.02199300000001,
          -115.0144,
          -112.06786000000001,
          -97.649842,
          -71.286687,
          -81.356084,
          -86.64412,
          -77.486882,
          -82.525188,
          -81.754446,
          -78.460441,
          -80.797285,
          -89.934502,
          -96.970489,
          -84.399911,
          -76.449526,
          -98.606973,
          -93.275361,
          -76.549501,
          -95.35364200000001,
          -77.441816,
          -75.311982,
          -82.835911,
          -87.82829699999999,
          -87.862312,
          -94.443841,
          -85.68164499999999,
          -89.871971,
          -86.21238199999999,
          -78.777335,
          -72.57391899999999,
          -83.200846,
          -84.47953299999999,
          -86.729515,
          -90.345825,
          -97.506966,
          -81.604957,
          -79.836097
         ],
         "marker": {
          "autocolorscale": false,
          "cmax": 10.40284413,
          "cmin": 1.9188183419999998,
          "color": [
           9.081483874,
           8.830199641,
           7.920371908,
           6.825691327,
           6.275807014,
           5.298499395,
           5.2830086739999995,
           5.15389063,
           4.878410455,
           4.6991344889999995,
           4.743331635,
           4.634655929,
           4.321650572,
           4.276044056,
           3.885972372,
           3.634012246,
           3.843109019,
           3.939924375,
           3.623175595,
           3.587635483,
           3.463907833,
           3.2291290189999997,
           3.1282101680000003,
           3.0272764569999997,
           3.0639464010000004,
           3.0634115,
           3.059242249,
           3.065897838,
           3.0051016230000003,
           2.95808843,
           2.9264334780000003,
           2.861415985,
           2.865030641,
           2.7011534389999996,
           2.650515841,
           2.73191858,
           2.5526112690000002,
           2.508988519,
           2.440804174,
           2.431334171,
           2.373595448,
           2.367827579,
           2.536893444,
           2.419545647,
           2.282879549,
           2.457015642,
           2.274047144,
           2.225946575,
           2.185915666,
           2.036047162
          ],
          "colorbar": {
           "dtick": 0.5,
           "title": {
            "text": "Price to income ratio"
           }
          },
          "colorscale": [
           [
            0,
            "rgb(103,0,31)"
           ],
           [
            0.1,
            "rgb(178,24,43)"
           ],
           [
            0.2,
            "rgb(214,96,77)"
           ],
           [
            0.3,
            "rgb(244,165,130)"
           ],
           [
            0.4,
            "rgb(253,219,199)"
           ],
           [
            0.5,
            "rgb(247,247,247)"
           ],
           [
            0.6,
            "rgb(209,229,240)"
           ],
           [
            0.7,
            "rgb(146,197,222)"
           ],
           [
            0.8,
            "rgb(67,147,195)"
           ],
           [
            0.9,
            "rgb(33,102,172)"
           ],
           [
            1,
            "rgb(5,48,97)"
           ]
          ],
          "opacity": 0.6,
          "reversescale": true,
          "size": 15,
          "symbol": "circle"
         },
         "mode": "markers",
         "name": "",
         "showlegend": false,
         "type": "scattergeo",
         "visible": false
        },
        {
         "hovertemplate": [
          "Los Angeles-Long Beach-Anaheim, CA<br> Price to income: 9.8",
          "San Jose, CA<br> Price to income: 9.1",
          "San Francisco, CA<br> Price to income: 8.3",
          "San Diego, CA<br> Price to income: 7.8",
          "New York, NY<br> Price to income: 6.6",
          "Riverside, CA<br> Price to income: 6.0",
          "Miami-Fort Lauderdale, FL<br> Price to income: 5.6",
          "Sacramento, CA<br> Price to income: 5.6",
          "Seattle, WA<br> Price to income: 5.5",
          "Salt Lake City, UT<br> Price to income: 5.2",
          "Portland, OR<br> Price to income: 5.1",
          "Denver, CO<br> Price to income: 5.0",
          "Boston, MA<br> Price to income: 4.7",
          "Las Vegas, NV<br> Price to income: 4.7",
          "Phoenix, AZ<br> Price to income: 4.6",
          "Austin, TX<br> Price to income: 4.5",
          "Providence, RI<br> Price to income: 4.4",
          "Orlando, FL<br> Price to income: 4.1",
          "Nashville, TN<br> Price to income: 3.9",
          "Washington, DC<br> Price to income: 3.9",
          "Tampa, FL<br> Price to income: 3.8",
          "Jacksonville, FL<br> Price to income: 3.6",
          "Raleigh, NC<br> Price to income: 3.5",
          "Charlotte, NC<br> Price to income: 3.4",
          "New Orleans, LA<br> Price to income: 3.3",
          "Dallas-Fort Worth, TX<br> Price to income: 3.3",
          "Atlanta, GA<br> Price to income: 3.3",
          "Virginia Beach, VA<br> Price to income: 3.3",
          "San Antonio, TX<br> Price to income: 3.2",
          "Minneapolis-St Paul, MN<br> Price to income: 3.2",
          "Baltimore, MD<br> Price to income: 3.2",
          "Houston, TX<br> Price to income: 3.1",
          "Richmond, VA<br> Price to income: 3.1",
          "Philadelphia, PA<br> Price to income: 3.1",
          "Columbus, OH<br> Price to income: 3.0",
          "Chicago, IL<br> Price to income: 2.9",
          "Milwaukee, WI<br> Price to income: 2.9",
          "Kansas City, MO<br> Price to income: 2.8",
          "Louisville-Jefferson County, KY<br> Price to income: 2.7",
          "Memphis, TN<br> Price to income: 2.7",
          "Indianapolis, IN<br> Price to income: 2.7",
          "Buffalo, NY<br> Price to income: 2.7",
          "Hartford, CT<br> Price to income: 2.7",
          "Detroit, MI<br> Price to income: 2.7",
          "Cincinnati, OH<br> Price to income: 2.6",
          "Birmingham, AL<br> Price to income: 2.5",
          "St. Louis, MO<br> Price to income: 2.5",
          "Oklahoma City, OK<br> Price to income: 2.5",
          "Cleveland, OH<br> Price to income: 2.4",
          "Pittsburgh, PA<br> Price to income: 2.2"
         ],
         "lat": [
          34.108703000000006,
          36.908471999999996,
          37.773718,
          33.023604,
          40.77493,
          34.538476,
          26.101828,
          38.790271999999995,
          47.490552,
          40.572887,
          45.600621999999994,
          39.434789,
          42.517606,
          36.21413,
          33.185765,
          30.249744,
          41.70684,
          28.434396000000003,
          36.118182,
          38.798204999999996,
          28.120540999999996,
          30.236594,
          35.756746,
          35.166342,
          30.053420000000003,
          32.849171000000005,
          33.693728,
          36.804408,
          29.433059999999998,
          45.096664000000004,
          39.304361,
          29.749593,
          37.411324,
          39.894958,
          39.968562,
          41.823521,
          42.912643,
          38.931857,
          38.305838,
          35.024419,
          39.748670000000004,
          43.044371000000005,
          41.71865,
          42.721848,
          39.100546,
          33.402599,
          38.740210999999995,
          35.430968,
          41.555037,
          40.439525
         ],
         "lon": [
          -118.18275,
          -121.37137,
          -122.27443000000001,
          -116.77611999999999,
          -73.873758,
          -116.13453999999999,
          -80.478755,
          -121.00563999999999,
          -121.83398000000001,
          -112.95325,
          -122.48438,
          -104.90106999999999,
          -71.02199300000001,
          -115.0144,
          -112.06786000000001,
          -97.649842,
          -71.286687,
          -81.356084,
          -86.64412,
          -77.486882,
          -82.525188,
          -81.754446,
          -78.460441,
          -80.797285,
          -89.934502,
          -96.970489,
          -84.399911,
          -76.449526,
          -98.606973,
          -93.275361,
          -76.549501,
          -95.35364200000001,
          -77.441816,
          -75.311982,
          -82.835911,
          -87.82829699999999,
          -87.862312,
          -94.443841,
          -85.68164499999999,
          -89.871971,
          -86.21238199999999,
          -78.777335,
          -72.57391899999999,
          -83.200846,
          -84.47953299999999,
          -86.729515,
          -90.345825,
          -97.506966,
          -81.604957,
          -79.836097
         ],
         "marker": {
          "autocolorscale": false,
          "cmax": 10.40284413,
          "cmin": 1.9188183419999998,
          "color": [
           9.781801625,
           9.091798612,
           8.298086564,
           7.756330179,
           6.59010869,
           5.971158065,
           5.61777459,
           5.610194841,
           5.476340795,
           5.22942282,
           5.078152735,
           4.99848645,
           4.725662252,
           4.69867058,
           4.618856076,
           4.514610718,
           4.398226936,
           4.14468404,
           3.929765718,
           3.857108527,
           3.821339477,
           3.6483790110000003,
           3.4762904910000003,
           3.4180285039999996,
           3.337089872,
           3.3243469660000002,
           3.318558585,
           3.271446746,
           3.22780027,
           3.1971103910000003,
           3.17700647,
           3.119663889,
           3.117982,
           3.087268571,
           2.977574582,
           2.8978903430000003,
           2.8536982230000003,
           2.8123523089999996,
           2.695941222,
           2.6917158660000005,
           2.6780698530000002,
           2.661586058,
           2.6523238730000003,
           2.651996875,
           2.5929273999999998,
           2.530969615,
           2.4577223790000002,
           2.45329918,
           2.373223664,
           2.241526297
          ],
          "colorbar": {
           "dtick": 0.5,
           "title": {
            "text": "Price to income ratio"
           }
          },
          "colorscale": [
           [
            0,
            "rgb(103,0,31)"
           ],
           [
            0.1,
            "rgb(178,24,43)"
           ],
           [
            0.2,
            "rgb(214,96,77)"
           ],
           [
            0.3,
            "rgb(244,165,130)"
           ],
           [
            0.4,
            "rgb(253,219,199)"
           ],
           [
            0.5,
            "rgb(247,247,247)"
           ],
           [
            0.6,
            "rgb(209,229,240)"
           ],
           [
            0.7,
            "rgb(146,197,222)"
           ],
           [
            0.8,
            "rgb(67,147,195)"
           ],
           [
            0.9,
            "rgb(33,102,172)"
           ],
           [
            1,
            "rgb(5,48,97)"
           ]
          ],
          "opacity": 0.6,
          "reversescale": true,
          "size": 15,
          "symbol": "circle"
         },
         "mode": "markers",
         "name": "",
         "showlegend": false,
         "type": "scattergeo",
         "visible": false
        }
       ],
       "layout": {
        "geo": {
         "projection": {
          "type": "albers usa"
         },
         "scope": "usa",
         "showland": true
        },
        "sliders": [
         {
          "active": 0,
          "currentvalue": {
           "prefix": "Date: "
          },
          "pad": {
           "t": 1
          },
          "steps": [
           {
            "args": [
             {
              "visible": [
               true,
               false,
               false,
               false,
               false,
               false,
               false
              ]
             },
             {
              "title": "<b>Price to Income Ratio by Metro</b> <br><i>2000 Average: 2.96</i>"
             }
            ],
            "label": "Year 2000",
            "method": "update"
           },
           {
            "args": [
             {
              "visible": [
               false,
               true,
               false,
               false,
               false,
               false,
               false
              ]
             },
             {
              "title": "<b>Price to Income Ratio by Metro</b> <br><i>2008 Average: 3.46</i>"
             }
            ],
            "label": "Year 2008",
            "method": "update"
           },
           {
            "args": [
             {
              "visible": [
               false,
               false,
               true,
               false,
               false,
               false,
               false
              ]
             },
             {
              "title": "<b>Price to Income Ratio by Metro</b> <br><i>2017 Average: 3.72</i>"
             }
            ],
            "label": "Year 2017",
            "method": "update"
           },
           {
            "args": [
             {
              "visible": [
               false,
               false,
               false,
               true,
               false,
               false,
               false
              ]
             },
             {
              "title": "<b>Price to Income Ratio by Metro</b> <br><i>2018 Average: 3.78</i>"
             }
            ],
            "label": "Year 2018",
            "method": "update"
           },
           {
            "args": [
             {
              "visible": [
               false,
               false,
               false,
               false,
               true,
               false,
               false
              ]
             },
             {
              "title": "<b>Price to Income Ratio by Metro</b> <br><i>2019 Average: 3.69</i>"
             }
            ],
            "label": "Year 2019",
            "method": "update"
           },
           {
            "args": [
             {
              "visible": [
               false,
               false,
               false,
               false,
               false,
               true,
               false
              ]
             },
             {
              "title": "<b>Price to Income Ratio by Metro</b> <br><i>2020 Average: 3.71</i>"
             }
            ],
            "label": "Year 2020",
            "method": "update"
           },
           {
            "args": [
             {
              "visible": [
               false,
               false,
               false,
               false,
               false,
               false,
               true
              ]
             },
             {
              "title": "<b>Price to Income Ratio by Metro</b> <br><i>2021 Average: 4.06</i>"
             }
            ],
            "label": "Year 2021",
            "method": "update"
           }
          ]
         }
        ],
        "template": {
         "data": {
          "bar": [
           {
            "error_x": {
             "color": "#2a3f5f"
            },
            "error_y": {
             "color": "#2a3f5f"
            },
            "marker": {
             "line": {
              "color": "#E5ECF6",
              "width": 0.5
             }
            },
            "type": "bar"
           }
          ],
          "barpolar": [
           {
            "marker": {
             "line": {
              "color": "#E5ECF6",
              "width": 0.5
             }
            },
            "type": "barpolar"
           }
          ],
          "carpet": [
           {
            "aaxis": {
             "endlinecolor": "#2a3f5f",
             "gridcolor": "white",
             "linecolor": "white",
             "minorgridcolor": "white",
             "startlinecolor": "#2a3f5f"
            },
            "baxis": {
             "endlinecolor": "#2a3f5f",
             "gridcolor": "white",
             "linecolor": "white",
             "minorgridcolor": "white",
             "startlinecolor": "#2a3f5f"
            },
            "type": "carpet"
           }
          ],
          "choropleth": [
           {
            "colorbar": {
             "outlinewidth": 0,
             "ticks": ""
            },
            "type": "choropleth"
           }
          ],
          "contour": [
           {
            "colorbar": {
             "outlinewidth": 0,
             "ticks": ""
            },
            "colorscale": [
             [
              0,
              "#0d0887"
             ],
             [
              0.1111111111111111,
              "#46039f"
             ],
             [
              0.2222222222222222,
              "#7201a8"
             ],
             [
              0.3333333333333333,
              "#9c179e"
             ],
             [
              0.4444444444444444,
              "#bd3786"
             ],
             [
              0.5555555555555556,
              "#d8576b"
             ],
             [
              0.6666666666666666,
              "#ed7953"
             ],
             [
              0.7777777777777778,
              "#fb9f3a"
             ],
             [
              0.8888888888888888,
              "#fdca26"
             ],
             [
              1,
              "#f0f921"
             ]
            ],
            "type": "contour"
           }
          ],
          "contourcarpet": [
           {
            "colorbar": {
             "outlinewidth": 0,
             "ticks": ""
            },
            "type": "contourcarpet"
           }
          ],
          "heatmap": [
           {
            "colorbar": {
             "outlinewidth": 0,
             "ticks": ""
            },
            "colorscale": [
             [
              0,
              "#0d0887"
             ],
             [
              0.1111111111111111,
              "#46039f"
             ],
             [
              0.2222222222222222,
              "#7201a8"
             ],
             [
              0.3333333333333333,
              "#9c179e"
             ],
             [
              0.4444444444444444,
              "#bd3786"
             ],
             [
              0.5555555555555556,
              "#d8576b"
             ],
             [
              0.6666666666666666,
              "#ed7953"
             ],
             [
              0.7777777777777778,
              "#fb9f3a"
             ],
             [
              0.8888888888888888,
              "#fdca26"
             ],
             [
              1,
              "#f0f921"
             ]
            ],
            "type": "heatmap"
           }
          ],
          "heatmapgl": [
           {
            "colorbar": {
             "outlinewidth": 0,
             "ticks": ""
            },
            "colorscale": [
             [
              0,
              "#0d0887"
             ],
             [
              0.1111111111111111,
              "#46039f"
             ],
             [
              0.2222222222222222,
              "#7201a8"
             ],
             [
              0.3333333333333333,
              "#9c179e"
             ],
             [
              0.4444444444444444,
              "#bd3786"
             ],
             [
              0.5555555555555556,
              "#d8576b"
             ],
             [
              0.6666666666666666,
              "#ed7953"
             ],
             [
              0.7777777777777778,
              "#fb9f3a"
             ],
             [
              0.8888888888888888,
              "#fdca26"
             ],
             [
              1,
              "#f0f921"
             ]
            ],
            "type": "heatmapgl"
           }
          ],
          "histogram": [
           {
            "marker": {
             "colorbar": {
              "outlinewidth": 0,
              "ticks": ""
             }
            },
            "type": "histogram"
           }
          ],
          "histogram2d": [
           {
            "colorbar": {
             "outlinewidth": 0,
             "ticks": ""
            },
            "colorscale": [
             [
              0,
              "#0d0887"
             ],
             [
              0.1111111111111111,
              "#46039f"
             ],
             [
              0.2222222222222222,
              "#7201a8"
             ],
             [
              0.3333333333333333,
              "#9c179e"
             ],
             [
              0.4444444444444444,
              "#bd3786"
             ],
             [
              0.5555555555555556,
              "#d8576b"
             ],
             [
              0.6666666666666666,
              "#ed7953"
             ],
             [
              0.7777777777777778,
              "#fb9f3a"
             ],
             [
              0.8888888888888888,
              "#fdca26"
             ],
             [
              1,
              "#f0f921"
             ]
            ],
            "type": "histogram2d"
           }
          ],
          "histogram2dcontour": [
           {
            "colorbar": {
             "outlinewidth": 0,
             "ticks": ""
            },
            "colorscale": [
             [
              0,
              "#0d0887"
             ],
             [
              0.1111111111111111,
              "#46039f"
             ],
             [
              0.2222222222222222,
              "#7201a8"
             ],
             [
              0.3333333333333333,
              "#9c179e"
             ],
             [
              0.4444444444444444,
              "#bd3786"
             ],
             [
              0.5555555555555556,
              "#d8576b"
             ],
             [
              0.6666666666666666,
              "#ed7953"
             ],
             [
              0.7777777777777778,
              "#fb9f3a"
             ],
             [
              0.8888888888888888,
              "#fdca26"
             ],
             [
              1,
              "#f0f921"
             ]
            ],
            "type": "histogram2dcontour"
           }
          ],
          "mesh3d": [
           {
            "colorbar": {
             "outlinewidth": 0,
             "ticks": ""
            },
            "type": "mesh3d"
           }
          ],
          "parcoords": [
           {
            "line": {
             "colorbar": {
              "outlinewidth": 0,
              "ticks": ""
             }
            },
            "type": "parcoords"
           }
          ],
          "pie": [
           {
            "automargin": true,
            "type": "pie"
           }
          ],
          "scatter": [
           {
            "marker": {
             "colorbar": {
              "outlinewidth": 0,
              "ticks": ""
             }
            },
            "type": "scatter"
           }
          ],
          "scatter3d": [
           {
            "line": {
             "colorbar": {
              "outlinewidth": 0,
              "ticks": ""
             }
            },
            "marker": {
             "colorbar": {
              "outlinewidth": 0,
              "ticks": ""
             }
            },
            "type": "scatter3d"
           }
          ],
          "scattercarpet": [
           {
            "marker": {
             "colorbar": {
              "outlinewidth": 0,
              "ticks": ""
             }
            },
            "type": "scattercarpet"
           }
          ],
          "scattergeo": [
           {
            "marker": {
             "colorbar": {
              "outlinewidth": 0,
              "ticks": ""
             }
            },
            "type": "scattergeo"
           }
          ],
          "scattergl": [
           {
            "marker": {
             "colorbar": {
              "outlinewidth": 0,
              "ticks": ""
             }
            },
            "type": "scattergl"
           }
          ],
          "scattermapbox": [
           {
            "marker": {
             "colorbar": {
              "outlinewidth": 0,
              "ticks": ""
             }
            },
            "type": "scattermapbox"
           }
          ],
          "scatterpolar": [
           {
            "marker": {
             "colorbar": {
              "outlinewidth": 0,
              "ticks": ""
             }
            },
            "type": "scatterpolar"
           }
          ],
          "scatterpolargl": [
           {
            "marker": {
             "colorbar": {
              "outlinewidth": 0,
              "ticks": ""
             }
            },
            "type": "scatterpolargl"
           }
          ],
          "scatterternary": [
           {
            "marker": {
             "colorbar": {
              "outlinewidth": 0,
              "ticks": ""
             }
            },
            "type": "scatterternary"
           }
          ],
          "surface": [
           {
            "colorbar": {
             "outlinewidth": 0,
             "ticks": ""
            },
            "colorscale": [
             [
              0,
              "#0d0887"
             ],
             [
              0.1111111111111111,
              "#46039f"
             ],
             [
              0.2222222222222222,
              "#7201a8"
             ],
             [
              0.3333333333333333,
              "#9c179e"
             ],
             [
              0.4444444444444444,
              "#bd3786"
             ],
             [
              0.5555555555555556,
              "#d8576b"
             ],
             [
              0.6666666666666666,
              "#ed7953"
             ],
             [
              0.7777777777777778,
              "#fb9f3a"
             ],
             [
              0.8888888888888888,
              "#fdca26"
             ],
             [
              1,
              "#f0f921"
             ]
            ],
            "type": "surface"
           }
          ],
          "table": [
           {
            "cells": {
             "fill": {
              "color": "#EBF0F8"
             },
             "line": {
              "color": "white"
             }
            },
            "header": {
             "fill": {
              "color": "#C8D4E3"
             },
             "line": {
              "color": "white"
             }
            },
            "type": "table"
           }
          ]
         },
         "layout": {
          "annotationdefaults": {
           "arrowcolor": "#2a3f5f",
           "arrowhead": 0,
           "arrowwidth": 1
          },
          "coloraxis": {
           "colorbar": {
            "outlinewidth": 0,
            "ticks": ""
           }
          },
          "colorscale": {
           "diverging": [
            [
             0,
             "#8e0152"
            ],
            [
             0.1,
             "#c51b7d"
            ],
            [
             0.2,
             "#de77ae"
            ],
            [
             0.3,
             "#f1b6da"
            ],
            [
             0.4,
             "#fde0ef"
            ],
            [
             0.5,
             "#f7f7f7"
            ],
            [
             0.6,
             "#e6f5d0"
            ],
            [
             0.7,
             "#b8e186"
            ],
            [
             0.8,
             "#7fbc41"
            ],
            [
             0.9,
             "#4d9221"
            ],
            [
             1,
             "#276419"
            ]
           ],
           "sequential": [
            [
             0,
             "#0d0887"
            ],
            [
             0.1111111111111111,
             "#46039f"
            ],
            [
             0.2222222222222222,
             "#7201a8"
            ],
            [
             0.3333333333333333,
             "#9c179e"
            ],
            [
             0.4444444444444444,
             "#bd3786"
            ],
            [
             0.5555555555555556,
             "#d8576b"
            ],
            [
             0.6666666666666666,
             "#ed7953"
            ],
            [
             0.7777777777777778,
             "#fb9f3a"
            ],
            [
             0.8888888888888888,
             "#fdca26"
            ],
            [
             1,
             "#f0f921"
            ]
           ],
           "sequentialminus": [
            [
             0,
             "#0d0887"
            ],
            [
             0.1111111111111111,
             "#46039f"
            ],
            [
             0.2222222222222222,
             "#7201a8"
            ],
            [
             0.3333333333333333,
             "#9c179e"
            ],
            [
             0.4444444444444444,
             "#bd3786"
            ],
            [
             0.5555555555555556,
             "#d8576b"
            ],
            [
             0.6666666666666666,
             "#ed7953"
            ],
            [
             0.7777777777777778,
             "#fb9f3a"
            ],
            [
             0.8888888888888888,
             "#fdca26"
            ],
            [
             1,
             "#f0f921"
            ]
           ]
          },
          "colorway": [
           "#636efa",
           "#EF553B",
           "#00cc96",
           "#ab63fa",
           "#FFA15A",
           "#19d3f3",
           "#FF6692",
           "#B6E880",
           "#FF97FF",
           "#FECB52"
          ],
          "font": {
           "color": "#2a3f5f"
          },
          "geo": {
           "bgcolor": "white",
           "lakecolor": "white",
           "landcolor": "#E5ECF6",
           "showlakes": true,
           "showland": true,
           "subunitcolor": "white"
          },
          "hoverlabel": {
           "align": "left"
          },
          "hovermode": "closest",
          "mapbox": {
           "style": "light"
          },
          "paper_bgcolor": "white",
          "plot_bgcolor": "#E5ECF6",
          "polar": {
           "angularaxis": {
            "gridcolor": "white",
            "linecolor": "white",
            "ticks": ""
           },
           "bgcolor": "#E5ECF6",
           "radialaxis": {
            "gridcolor": "white",
            "linecolor": "white",
            "ticks": ""
           }
          },
          "scene": {
           "xaxis": {
            "backgroundcolor": "#E5ECF6",
            "gridcolor": "white",
            "gridwidth": 2,
            "linecolor": "white",
            "showbackground": true,
            "ticks": "",
            "zerolinecolor": "white"
           },
           "yaxis": {
            "backgroundcolor": "#E5ECF6",
            "gridcolor": "white",
            "gridwidth": 2,
            "linecolor": "white",
            "showbackground": true,
            "ticks": "",
            "zerolinecolor": "white"
           },
           "zaxis": {
            "backgroundcolor": "#E5ECF6",
            "gridcolor": "white",
            "gridwidth": 2,
            "linecolor": "white",
            "showbackground": true,
            "ticks": "",
            "zerolinecolor": "white"
           }
          },
          "shapedefaults": {
           "line": {
            "color": "#2a3f5f"
           }
          },
          "ternary": {
           "aaxis": {
            "gridcolor": "white",
            "linecolor": "white",
            "ticks": ""
           },
           "baxis": {
            "gridcolor": "white",
            "linecolor": "white",
            "ticks": ""
           },
           "bgcolor": "#E5ECF6",
           "caxis": {
            "gridcolor": "white",
            "linecolor": "white",
            "ticks": ""
           }
          },
          "title": {
           "x": 0.05
          },
          "xaxis": {
           "automargin": true,
           "gridcolor": "white",
           "linecolor": "white",
           "ticks": "",
           "title": {
            "standoff": 15
           },
           "zerolinecolor": "white",
           "zerolinewidth": 2
          },
          "yaxis": {
           "automargin": true,
           "gridcolor": "white",
           "linecolor": "white",
           "ticks": "",
           "title": {
            "standoff": 15
           },
           "zerolinecolor": "white",
           "zerolinewidth": 2
          }
         }
        },
        "title": {
         "text": "<b>Price to Income Ratio by Metro</b> <br><i>2000 Average: 2.96</i>"
        }
       }
      },
      "text/html": [
       "<div>\n",
       "        \n",
       "        \n",
       "            <div id=\"687c95a9-9d26-4060-8fab-f231736c5682\" class=\"plotly-graph-div\" style=\"height:525px; width:100%;\"></div>\n",
       "            <script type=\"text/javascript\">\n",
       "                require([\"plotly\"], function(Plotly) {\n",
       "                    window.PLOTLYENV=window.PLOTLYENV || {};\n",
       "                    \n",
       "                if (document.getElementById(\"687c95a9-9d26-4060-8fab-f231736c5682\")) {\n",
       "                    Plotly.newPlot(\n",
       "                        '687c95a9-9d26-4060-8fab-f231736c5682',\n",
       "                        [{\"hovertemplate\": [\"Los Angeles-Long Beach-Anaheim, CA<br> Price to income: 4.9\", \"San Jose, CA<br> Price to income: 6.1\", \"San Francisco, CA<br> Price to income: 5.6\", \"San Diego, CA<br> Price to income: 4.9\", \"New York, NY<br> Price to income: 4.4\", \"Riverside, CA<br> Price to income: 3.3\", \"Miami-Fort Lauderdale, FL<br> Price to income: 3.1\", \"Sacramento, CA<br> Price to income: 3.6\", \"Seattle, WA<br> Price to income: 3.5\", \"Salt Lake City, UT<br> Price to income: 3.7\", \"Portland, OR<br> Price to income: 3.4\", \"Denver, CO<br> Price to income: 3.6\", \"Boston, MA<br> Price to income: 4.0\", \"Las Vegas, NV<br> Price to income: 3.4\", \"Phoenix, AZ<br> Price to income: 2.8\", \"Austin, TX<br> Price to income: 3.2\", \"Providence, RI<br> Price to income: 3.3\", \"Orlando, FL<br> Price to income: 2.7\", \"Nashville, TN<br> Price to income: 2.5\", \"Washington, DC<br> Price to income: 2.5\", \"Tampa, FL<br> Price to income: 2.4\", \"Jacksonville, FL<br> Price to income: 2.5\", \"Raleigh, NC<br> Price to income: 2.9\", \"Charlotte, NC<br> Price to income: 2.7\", \"New Orleans, LA<br> Price to income: 3.1\", \"Dallas-Fort Worth, TX<br> Price to income: 2.2\", \"Atlanta, GA<br> Price to income: 2.6\", \"Virginia Beach, VA<br> Price to income: 2.6\", \"San Antonio, TX<br> Price to income: 2.7\", \"Minneapolis-St Paul, MN<br> Price to income: 2.5\", \"Baltimore, MD<br> Price to income: 2.6\", \"Houston, TX<br> Price to income: 2.2\", \"Richmond, VA<br> Price to income: 2.3\", \"Philadelphia, PA<br> Price to income: 2.4\", \"Columbus, OH<br> Price to income: 2.4\", \"Chicago, IL<br> Price to income: 2.7\", \"Milwaukee, WI<br> Price to income: 2.1\", \"Kansas City, MO<br> Price to income: 2.1\", \"Louisville-Jefferson County, KY<br> Price to income: 2.3\", \"Memphis, TN<br> Price to income: 2.4\", \"Indianapolis, IN<br> Price to income: 2.6\", \"Buffalo, NY<br> Price to income: 2.0\", \"Hartford, CT<br> Price to income: 2.8\", \"Detroit, MI<br> Price to income: 2.4\", \"Cincinnati, OH<br> Price to income: 2.3\", \"Birmingham, AL<br> Price to income: 2.4\", \"St. Louis, MO<br> Price to income: 2.2\", \"Oklahoma City, OK<br> Price to income: 2.1\", \"Cleveland, OH<br> Price to income: 2.4\", \"Pittsburgh, PA<br> Price to income: 2.1\"], \"lat\": [34.108703000000006, 36.908471999999996, 37.773718, 33.023604, 40.77493, 34.538476, 26.101828, 38.790271999999995, 47.490552, 40.572887, 45.600621999999994, 39.434789, 42.517606, 36.21413, 33.185765, 30.249744, 41.70684, 28.434396000000003, 36.118182, 38.798204999999996, 28.120540999999996, 30.236594, 35.756746, 35.166342, 30.053420000000003, 32.849171000000005, 33.693728, 36.804408, 29.433059999999998, 45.096664000000004, 39.304361, 29.749593, 37.411324, 39.894958, 39.968562, 41.823521, 42.912643, 38.931857, 38.305838, 35.024419, 39.748670000000004, 43.044371000000005, 41.71865, 42.721848, 39.100546, 33.402599, 38.740210999999995, 35.430968, 41.555037, 40.439525], \"lon\": [-118.18275, -121.37137, -122.27443000000001, -116.77611999999999, -73.873758, -116.13453999999999, -80.478755, -121.00563999999999, -121.83398000000001, -112.95325, -122.48438, -104.90106999999999, -71.02199300000001, -115.0144, -112.06786000000001, -97.649842, -71.286687, -81.356084, -86.64412, -77.486882, -82.525188, -81.754446, -78.460441, -80.797285, -89.934502, -96.970489, -84.399911, -76.449526, -98.606973, -93.275361, -76.549501, -95.35364200000001, -77.441816, -75.311982, -82.835911, -87.82829699999999, -87.862312, -94.443841, -85.68164499999999, -89.871971, -86.21238199999999, -78.777335, -72.57391899999999, -83.200846, -84.47953299999999, -86.729515, -90.345825, -97.506966, -81.604957, -79.836097], \"marker\": {\"autocolorscale\": false, \"cmax\": 10.40284413, \"cmin\": 1.9188183419999998, \"color\": [4.852012453, 6.109913962, 5.647743576, 4.853127113, 4.426770277, 3.2966773810000003, 3.0599295810000005, 3.638878537, 3.5194465619999997, 3.7343445139999996, 3.440642581, 3.592314736, 4.019589273, 3.445875932, 2.8255212339999995, 3.193486155, 3.348554296, 2.67518325, 2.526826943, 2.485673249, 2.35370174, 2.469155358, 2.913341322, 2.706726551, 3.0766149339999997, 2.185847126, 2.592602878, 2.557648588, 2.682374367, 2.521134489, 2.567812887, 2.240540885, 2.263067163, 2.360109474, 2.430638471, 2.689806115, 2.146780777, 2.125456411, 2.286551642, 2.385842924, 2.592602878, 2.038759764, 2.79197379, 2.430034344, 2.337433519, 2.369313296, 2.152988234, 2.143369298, 2.4195877930000003, 2.073379964], \"colorbar\": {\"dtick\": 0.5, \"title\": {\"text\": \"Price to income ratio\"}}, \"colorscale\": [[0.0, \"rgb(103,0,31)\"], [0.1, \"rgb(178,24,43)\"], [0.2, \"rgb(214,96,77)\"], [0.3, \"rgb(244,165,130)\"], [0.4, \"rgb(253,219,199)\"], [0.5, \"rgb(247,247,247)\"], [0.6, \"rgb(209,229,240)\"], [0.7, \"rgb(146,197,222)\"], [0.8, \"rgb(67,147,195)\"], [0.9, \"rgb(33,102,172)\"], [1.0, \"rgb(5,48,97)\"]], \"opacity\": 0.6, \"reversescale\": true, \"size\": 15, \"symbol\": \"circle\"}, \"mode\": \"markers\", \"name\": \"\", \"showlegend\": false, \"type\": \"scattergeo\", \"visible\": true}, {\"hovertemplate\": [\"Los Angeles-Long Beach-Anaheim, CA<br> Price to income: 7.7\", \"San Jose, CA<br> Price to income: 6.8\", \"San Francisco, CA<br> Price to income: 6.7\", \"San Diego, CA<br> Price to income: 5.7\", \"New York, NY<br> Price to income: 7.3\", \"Riverside, CA<br> Price to income: 4.0\", \"Miami-Fort Lauderdale, FL<br> Price to income: 4.7\", \"Sacramento, CA<br> Price to income: 4.0\", \"Seattle, WA<br> Price to income: 4.4\", \"Salt Lake City, UT<br> Price to income: 4.1\", \"Portland, OR<br> Price to income: 4.4\", \"Denver, CO<br> Price to income: 3.5\", \"Boston, MA<br> Price to income: 4.3\", \"Las Vegas, NV<br> Price to income: 3.5\", \"Phoenix, AZ<br> Price to income: 3.1\", \"Austin, TX<br> Price to income: 3.1\", \"Providence, RI<br> Price to income: 4.1\", \"Orlando, FL<br> Price to income: 3.4\", \"Nashville, TN<br> Price to income: 3.0\", \"Washington, DC<br> Price to income: 3.7\", \"Tampa, FL<br> Price to income: 3.1\", \"Jacksonville, FL<br> Price to income: 3.1\", \"Raleigh, NC<br> Price to income: 3.0\", \"Charlotte, NC<br> Price to income: 2.8\", \"New Orleans, LA<br> Price to income: 3.1\", \"Dallas-Fort Worth, TX<br> Price to income: 2.4\", \"Atlanta, GA<br> Price to income: 2.6\", \"Virginia Beach, VA<br> Price to income: 3.8\", \"San Antonio, TX<br> Price to income: 2.8\", \"Minneapolis-St Paul, MN<br> Price to income: 2.8\", \"Baltimore, MD<br> Price to income: 3.9\", \"Houston, TX<br> Price to income: 2.5\", \"Richmond, VA<br> Price to income: 3.2\", \"Philadelphia, PA<br> Price to income: 3.2\", \"Columbus, OH<br> Price to income: 2.4\", \"Chicago, IL<br> Price to income: 3.4\", \"Milwaukee, WI<br> Price to income: 2.6\", \"Kansas City, MO<br> Price to income: 2.3\", \"Louisville-Jefferson County, KY<br> Price to income: 2.4\", \"Memphis, TN<br> Price to income: 2.4\", \"Indianapolis, IN<br> Price to income: 2.1\", \"Buffalo, NY<br> Price to income: 2.1\", \"Hartford, CT<br> Price to income: 3.2\", \"Detroit, MI<br> Price to income: 1.9\", \"Cincinnati, OH<br> Price to income: 2.3\", \"Birmingham, AL<br> Price to income: 2.6\", \"St. Louis, MO<br> Price to income: 2.5\", \"Oklahoma City, OK<br> Price to income: 2.3\", \"Cleveland, OH<br> Price to income: 2.3\", \"Pittsburgh, PA<br> Price to income: 2.0\"], \"lat\": [34.108703000000006, 36.908471999999996, 37.773718, 33.023604, 40.77493, 34.538476, 26.101828, 38.790271999999995, 47.490552, 40.572887, 45.600621999999994, 39.434789, 42.517606, 36.21413, 33.185765, 30.249744, 41.70684, 28.434396000000003, 36.118182, 38.798204999999996, 28.120540999999996, 30.236594, 35.756746, 35.166342, 30.053420000000003, 32.849171000000005, 33.693728, 36.804408, 29.433059999999998, 45.096664000000004, 39.304361, 29.749593, 37.411324, 39.894958, 39.968562, 41.823521, 42.912643, 38.931857, 38.305838, 35.024419, 39.748670000000004, 43.044371000000005, 41.71865, 42.721848, 39.100546, 33.402599, 38.740210999999995, 35.430968, 41.555037, 40.439525], \"lon\": [-118.18275, -121.37137, -122.27443000000001, -116.77611999999999, -73.873758, -116.13453999999999, -80.478755, -121.00563999999999, -121.83398000000001, -112.95325, -122.48438, -104.90106999999999, -71.02199300000001, -115.0144, -112.06786000000001, -97.649842, -71.286687, -81.356084, -86.64412, -77.486882, -82.525188, -81.754446, -78.460441, -80.797285, -89.934502, -96.970489, -84.399911, -76.449526, -98.606973, -93.275361, -76.549501, -95.35364200000001, -77.441816, -75.311982, -82.835911, -87.82829699999999, -87.862312, -94.443841, -85.68164499999999, -89.871971, -86.21238199999999, -78.777335, -72.57391899999999, -83.200846, -84.47953299999999, -86.729515, -90.345825, -97.506966, -81.604957, -79.836097], \"marker\": {\"autocolorscale\": false, \"cmax\": 10.40284413, \"cmin\": 1.9188183419999998, \"color\": [7.7147858629999995, 6.841573738999999, 6.7051176429999995, 5.672392335, 7.3122362910000005, 4.047634302, 4.692198499, 4.0436596, 4.402583914, 4.102810057, 4.3504951919999995, 3.47750218, 4.2600387060000005, 3.479646701, 3.128406074, 3.1333801930000003, 4.115777229, 3.3970511310000004, 3.008622025, 3.703707894, 3.0539737039999997, 3.141602805, 2.9947330460000003, 2.831272568, 3.142292585, 2.376713075, 2.644041413, 3.811651476, 2.7853505189999996, 2.826432875, 3.917332762, 2.518415077, 3.231034312, 3.2497499089999997, 2.4319397130000002, 3.445515672, 2.642647728, 2.298142859, 2.417908365, 2.431162846, 2.104695466, 2.074206365, 3.2488686860000002, 1.9188183419999998, 2.321993962, 2.6010505790000003, 2.538682028, 2.325402452, 2.288664863, 2.014529256], \"colorbar\": {\"dtick\": 0.5, \"title\": {\"text\": \"Price to income ratio\"}}, \"colorscale\": [[0.0, \"rgb(103,0,31)\"], [0.1, \"rgb(178,24,43)\"], [0.2, \"rgb(214,96,77)\"], [0.3, \"rgb(244,165,130)\"], [0.4, \"rgb(253,219,199)\"], [0.5, \"rgb(247,247,247)\"], [0.6, \"rgb(209,229,240)\"], [0.7, \"rgb(146,197,222)\"], [0.8, \"rgb(67,147,195)\"], [0.9, \"rgb(33,102,172)\"], [1.0, \"rgb(5,48,97)\"]], \"opacity\": 0.6, \"reversescale\": true, \"size\": 15, \"symbol\": \"circle\"}, \"mode\": \"markers\", \"name\": \"\", \"showlegend\": false, \"type\": \"scattergeo\", \"visible\": false}, {\"hovertemplate\": [\"Los Angeles-Long Beach-Anaheim, CA<br> Price to income: 9.6\", \"San Jose, CA<br> Price to income: 9.6\", \"San Francisco, CA<br> Price to income: 8.5\", \"San Diego, CA<br> Price to income: 6.9\", \"New York, NY<br> Price to income: 6.7\", \"Riverside, CA<br> Price to income: 5.4\", \"Miami-Fort Lauderdale, FL<br> Price to income: 5.2\", \"Sacramento, CA<br> Price to income: 5.0\", \"Seattle, WA<br> Price to income: 4.7\", \"Salt Lake City, UT<br> Price to income: 4.3\", \"Portland, OR<br> Price to income: 5.2\", \"Denver, CO<br> Price to income: 4.8\", \"Boston, MA<br> Price to income: 4.4\", \"Las Vegas, NV<br> Price to income: 3.8\", \"Phoenix, AZ<br> Price to income: 3.6\", \"Austin, TX<br> Price to income: 3.8\", \"Providence, RI<br> Price to income: 4.0\", \"Orlando, FL<br> Price to income: 3.8\", \"Nashville, TN<br> Price to income: 3.6\", \"Washington, DC<br> Price to income: 3.7\", \"Tampa, FL<br> Price to income: 3.3\", \"Jacksonville, FL<br> Price to income: 3.1\", \"Raleigh, NC<br> Price to income: 3.2\", \"Charlotte, NC<br> Price to income: 2.9\", \"New Orleans, LA<br> Price to income: 3.1\", \"Dallas-Fort Worth, TX<br> Price to income: 3.1\", \"Atlanta, GA<br> Price to income: 2.9\", \"Virginia Beach, VA<br> Price to income: 3.1\", \"San Antonio, TX<br> Price to income: 3.0\", \"Minneapolis-St Paul, MN<br> Price to income: 2.9\", \"Baltimore, MD<br> Price to income: 3.1\", \"Houston, TX<br> Price to income: 2.8\", \"Richmond, VA<br> Price to income: 2.8\", \"Philadelphia, PA<br> Price to income: 2.8\", \"Columbus, OH<br> Price to income: 2.4\", \"Chicago, IL<br> Price to income: 2.9\", \"Milwaukee, WI<br> Price to income: 2.5\", \"Kansas City, MO<br> Price to income: 2.4\", \"Louisville-Jefferson County, KY<br> Price to income: 2.4\", \"Memphis, TN<br> Price to income: 2.2\", \"Indianapolis, IN<br> Price to income: 2.3\", \"Buffalo, NY<br> Price to income: 2.3\", \"Hartford, CT<br> Price to income: 2.6\", \"Detroit, MI<br> Price to income: 2.3\", \"Cincinnati, OH<br> Price to income: 2.2\", \"Birmingham, AL<br> Price to income: 2.4\", \"St. Louis, MO<br> Price to income: 2.2\", \"Oklahoma City, OK<br> Price to income: 2.2\", \"Cleveland, OH<br> Price to income: 2.1\", \"Pittsburgh, PA<br> Price to income: 2.0\"], \"lat\": [34.108703000000006, 36.908471999999996, 37.773718, 33.023604, 40.77493, 34.538476, 26.101828, 38.790271999999995, 47.490552, 40.572887, 45.600621999999994, 39.434789, 42.517606, 36.21413, 33.185765, 30.249744, 41.70684, 28.434396000000003, 36.118182, 38.798204999999996, 28.120540999999996, 30.236594, 35.756746, 35.166342, 30.053420000000003, 32.849171000000005, 33.693728, 36.804408, 29.433059999999998, 45.096664000000004, 39.304361, 29.749593, 37.411324, 39.894958, 39.968562, 41.823521, 42.912643, 38.931857, 38.305838, 35.024419, 39.748670000000004, 43.044371000000005, 41.71865, 42.721848, 39.100546, 33.402599, 38.740210999999995, 35.430968, 41.555037, 40.439525], \"lon\": [-118.18275, -121.37137, -122.27443000000001, -116.77611999999999, -73.873758, -116.13453999999999, -80.478755, -121.00563999999999, -121.83398000000001, -112.95325, -122.48438, -104.90106999999999, -71.02199300000001, -115.0144, -112.06786000000001, -97.649842, -71.286687, -81.356084, -86.64412, -77.486882, -82.525188, -81.754446, -78.460441, -80.797285, -89.934502, -96.970489, -84.399911, -76.449526, -98.606973, -93.275361, -76.549501, -95.35364200000001, -77.441816, -75.311982, -82.835911, -87.82829699999999, -87.862312, -94.443841, -85.68164499999999, -89.871971, -86.21238199999999, -78.777335, -72.57391899999999, -83.200846, -84.47953299999999, -86.729515, -90.345825, -97.506966, -81.604957, -79.836097], \"marker\": {\"autocolorscale\": false, \"cmax\": 10.40284413, \"cmin\": 1.9188183419999998, \"color\": [9.564010212000001, 9.603305074, 8.518085185, 6.908307347999999, 6.73129696, 5.363107612, 5.24984071, 5.047354895, 4.7194746180000005, 4.337507826, 5.17711762, 4.756565461, 4.382717698, 3.835836283, 3.633161069, 3.76533085, 3.991444585, 3.798247655, 3.621881464, 3.6637813739999996, 3.268817058, 3.142506613, 3.1745884419999997, 2.8828430739999997, 3.140107794, 3.0640100169999998, 2.9451433839999996, 3.137020623, 2.988844981, 2.8795299219999997, 3.1017444, 2.833115414, 2.825786634, 2.750530703, 2.429785095, 2.888704769, 2.4755549080000003, 2.391087418, 2.407124865, 2.20129586, 2.264404964, 2.250629364, 2.586946399, 2.286682556, 2.1980121319999997, 2.3958464580000003, 2.2225267619999998, 2.194668127, 2.0600820669999997, 2.001254631], \"colorbar\": {\"dtick\": 0.5, \"title\": {\"text\": \"Price to income ratio\"}}, \"colorscale\": [[0.0, \"rgb(103,0,31)\"], [0.1, \"rgb(178,24,43)\"], [0.2, \"rgb(214,96,77)\"], [0.3, \"rgb(244,165,130)\"], [0.4, \"rgb(253,219,199)\"], [0.5, \"rgb(247,247,247)\"], [0.6, \"rgb(209,229,240)\"], [0.7, \"rgb(146,197,222)\"], [0.8, \"rgb(67,147,195)\"], [0.9, \"rgb(33,102,172)\"], [1.0, \"rgb(5,48,97)\"]], \"opacity\": 0.6, \"reversescale\": true, \"size\": 15, \"symbol\": \"circle\"}, \"mode\": \"markers\", \"name\": \"\", \"showlegend\": false, \"type\": \"scattergeo\", \"visible\": false}, {\"hovertemplate\": [\"Los Angeles-Long Beach-Anaheim, CA<br> Price to income: 9.5\", \"San Jose, CA<br> Price to income: 10.4\", \"San Francisco, CA<br> Price to income: 9.3\", \"San Diego, CA<br> Price to income: 7.2\", \"New York, NY<br> Price to income: 6.7\", \"Riverside, CA<br> Price to income: 5.6\", \"Miami-Fort Lauderdale, FL<br> Price to income: 5.5\", \"Sacramento, CA<br> Price to income: 5.1\", \"Seattle, WA<br> Price to income: 4.9\", \"Salt Lake City, UT<br> Price to income: 4.5\", \"Portland, OR<br> Price to income: 5.0\", \"Denver, CO<br> Price to income: 4.8\", \"Boston, MA<br> Price to income: 4.5\", \"Las Vegas, NV<br> Price to income: 4.3\", \"Phoenix, AZ<br> Price to income: 3.7\", \"Austin, TX<br> Price to income: 3.7\", \"Providence, RI<br> Price to income: 3.8\", \"Orlando, FL<br> Price to income: 3.8\", \"Nashville, TN<br> Price to income: 3.6\", \"Washington, DC<br> Price to income: 3.6\", \"Tampa, FL<br> Price to income: 3.3\", \"Jacksonville, FL<br> Price to income: 3.1\", \"Raleigh, NC<br> Price to income: 3.2\", \"Charlotte, NC<br> Price to income: 3.0\", \"New Orleans, LA<br> Price to income: 3.1\", \"Dallas-Fort Worth, TX<br> Price to income: 3.2\", \"Atlanta, GA<br> Price to income: 3.0\", \"Virginia Beach, VA<br> Price to income: 3.1\", \"San Antonio, TX<br> Price to income: 3.0\", \"Minneapolis-St Paul, MN<br> Price to income: 3.0\", \"Baltimore, MD<br> Price to income: 3.1\", \"Houston, TX<br> Price to income: 2.8\", \"Richmond, VA<br> Price to income: 2.8\", \"Philadelphia, PA<br> Price to income: 2.7\", \"Columbus, OH<br> Price to income: 2.6\", \"Chicago, IL<br> Price to income: 2.8\", \"Milwaukee, WI<br> Price to income: 2.5\", \"Kansas City, MO<br> Price to income: 2.4\", \"Louisville-Jefferson County, KY<br> Price to income: 2.4\", \"Memphis, TN<br> Price to income: 2.2\", \"Indianapolis, IN<br> Price to income: 2.2\", \"Buffalo, NY<br> Price to income: 2.2\", \"Hartford, CT<br> Price to income: 2.5\", \"Detroit, MI<br> Price to income: 2.4\", \"Cincinnati, OH<br> Price to income: 2.2\", \"Birmingham, AL<br> Price to income: 2.2\", \"St. Louis, MO<br> Price to income: 2.3\", \"Oklahoma City, OK<br> Price to income: 2.2\", \"Cleveland, OH<br> Price to income: 2.1\", \"Pittsburgh, PA<br> Price to income: 2.0\"], \"lat\": [34.108703000000006, 36.908471999999996, 37.773718, 33.023604, 40.77493, 34.538476, 26.101828, 38.790271999999995, 47.490552, 40.572887, 45.600621999999994, 39.434789, 42.517606, 36.21413, 33.185765, 30.249744, 41.70684, 28.434396000000003, 36.118182, 38.798204999999996, 28.120540999999996, 30.236594, 35.756746, 35.166342, 30.053420000000003, 32.849171000000005, 33.693728, 36.804408, 29.433059999999998, 45.096664000000004, 39.304361, 29.749593, 37.411324, 39.894958, 39.968562, 41.823521, 42.912643, 38.931857, 38.305838, 35.024419, 39.748670000000004, 43.044371000000005, 41.71865, 42.721848, 39.100546, 33.402599, 38.740210999999995, 35.430968, 41.555037, 40.439525], \"lon\": [-118.18275, -121.37137, -122.27443000000001, -116.77611999999999, -73.873758, -116.13453999999999, -80.478755, -121.00563999999999, -121.83398000000001, -112.95325, -122.48438, -104.90106999999999, -71.02199300000001, -115.0144, -112.06786000000001, -97.649842, -71.286687, -81.356084, -86.64412, -77.486882, -82.525188, -81.754446, -78.460441, -80.797285, -89.934502, -96.970489, -84.399911, -76.449526, -98.606973, -93.275361, -76.549501, -95.35364200000001, -77.441816, -75.311982, -82.835911, -87.82829699999999, -87.862312, -94.443841, -85.68164499999999, -89.871971, -86.21238199999999, -78.777335, -72.57391899999999, -83.200846, -84.47953299999999, -86.729515, -90.345825, -97.506966, -81.604957, -79.836097], \"marker\": {\"autocolorscale\": false, \"cmax\": 10.40284413, \"cmin\": 1.9188183419999998, \"color\": [9.491212633, 10.40284413, 9.32529418, 7.164214829, 6.683430565, 5.551557897, 5.525694525, 5.080131127, 4.889668572, 4.458228293, 5.011828188, 4.768446474, 4.463486316, 4.251434898, 3.74177653, 3.7151386410000002, 3.814473915, 3.825137771, 3.612070348, 3.5727517, 3.328101021, 3.132733879, 3.186388874, 2.9869906860000004, 3.0820439389999996, 3.154124505, 3.000422153, 3.12905237, 2.979421168, 2.9504879, 3.0690991010000004, 2.807380752, 2.80687387, 2.742685153, 2.56134152, 2.8158214289999997, 2.470648085, 2.423755329, 2.3796130840000003, 2.209370404, 2.2084584730000003, 2.19435186, 2.453250597, 2.4082134859999997, 2.225009619, 2.2303308530000003, 2.250143242, 2.178406594, 2.099254986, 2.014941827], \"colorbar\": {\"dtick\": 0.5, \"title\": {\"text\": \"Price to income ratio\"}}, \"colorscale\": [[0.0, \"rgb(103,0,31)\"], [0.1, \"rgb(178,24,43)\"], [0.2, \"rgb(214,96,77)\"], [0.3, \"rgb(244,165,130)\"], [0.4, \"rgb(253,219,199)\"], [0.5, \"rgb(247,247,247)\"], [0.6, \"rgb(209,229,240)\"], [0.7, \"rgb(146,197,222)\"], [0.8, \"rgb(67,147,195)\"], [0.9, \"rgb(33,102,172)\"], [1.0, \"rgb(5,48,97)\"]], \"opacity\": 0.6, \"reversescale\": true, \"size\": 15, \"symbol\": \"circle\"}, \"mode\": \"markers\", \"name\": \"\", \"showlegend\": false, \"type\": \"scattergeo\", \"visible\": false}, {\"hovertemplate\": [\"Los Angeles-Long Beach-Anaheim, CA<br> Price to income: 9.1\", \"San Jose, CA<br> Price to income: 9.2\", \"San Francisco, CA<br> Price to income: 8.1\", \"San Diego, CA<br> Price to income: 6.9\", \"New York, NY<br> Price to income: 6.4\", \"Riverside, CA<br> Price to income: 5.4\", \"Miami-Fort Lauderdale, FL<br> Price to income: 5.5\", \"Sacramento, CA<br> Price to income: 5.0\", \"Seattle, WA<br> Price to income: 4.7\", \"Salt Lake City, UT<br> Price to income: 4.7\", \"Portland, OR<br> Price to income: 4.7\", \"Denver, CO<br> Price to income: 4.8\", \"Boston, MA<br> Price to income: 4.3\", \"Las Vegas, NV<br> Price to income: 4.3\", \"Phoenix, AZ<br> Price to income: 3.8\", \"Austin, TX<br> Price to income: 3.5\", \"Providence, RI<br> Price to income: 3.9\", \"Orlando, FL<br> Price to income: 3.9\", \"Nashville, TN<br> Price to income: 3.5\", \"Washington, DC<br> Price to income: 3.6\", \"Tampa, FL<br> Price to income: 3.4\", \"Jacksonville, FL<br> Price to income: 3.1\", \"Raleigh, NC<br> Price to income: 3.0\", \"Charlotte, NC<br> Price to income: 3.0\", \"New Orleans, LA<br> Price to income: 3.0\", \"Dallas-Fort Worth, TX<br> Price to income: 3.1\", \"Atlanta, GA<br> Price to income: 3.0\", \"Virginia Beach, VA<br> Price to income: 3.1\", \"San Antonio, TX<br> Price to income: 2.9\", \"Minneapolis-St Paul, MN<br> Price to income: 2.9\", \"Baltimore, MD<br> Price to income: 2.9\", \"Houston, TX<br> Price to income: 2.9\", \"Richmond, VA<br> Price to income: 2.8\", \"Philadelphia, PA<br> Price to income: 2.8\", \"Columbus, OH<br> Price to income: 2.7\", \"Chicago, IL<br> Price to income: 2.7\", \"Milwaukee, WI<br> Price to income: 2.4\", \"Kansas City, MO<br> Price to income: 2.5\", \"Louisville-Jefferson County, KY<br> Price to income: 2.3\", \"Memphis, TN<br> Price to income: 2.3\", \"Indianapolis, IN<br> Price to income: 2.3\", \"Buffalo, NY<br> Price to income: 2.3\", \"Hartford, CT<br> Price to income: 2.4\", \"Detroit, MI<br> Price to income: 2.4\", \"Cincinnati, OH<br> Price to income: 2.3\", \"Birmingham, AL<br> Price to income: 2.2\", \"St. Louis, MO<br> Price to income: 2.2\", \"Oklahoma City, OK<br> Price to income: 2.1\", \"Cleveland, OH<br> Price to income: 2.1\", \"Pittsburgh, PA<br> Price to income: 2.0\"], \"lat\": [34.108703000000006, 36.908471999999996, 37.773718, 33.023604, 40.77493, 34.538476, 26.101828, 38.790271999999995, 47.490552, 40.572887, 45.600621999999994, 39.434789, 42.517606, 36.21413, 33.185765, 30.249744, 41.70684, 28.434396000000003, 36.118182, 38.798204999999996, 28.120540999999996, 30.236594, 35.756746, 35.166342, 30.053420000000003, 32.849171000000005, 33.693728, 36.804408, 29.433059999999998, 45.096664000000004, 39.304361, 29.749593, 37.411324, 39.894958, 39.968562, 41.823521, 42.912643, 38.931857, 38.305838, 35.024419, 39.748670000000004, 43.044371000000005, 41.71865, 42.721848, 39.100546, 33.402599, 38.740210999999995, 35.430968, 41.555037, 40.439525], \"lon\": [-118.18275, -121.37137, -122.27443000000001, -116.77611999999999, -73.873758, -116.13453999999999, -80.478755, -121.00563999999999, -121.83398000000001, -112.95325, -122.48438, -104.90106999999999, -71.02199300000001, -115.0144, -112.06786000000001, -97.649842, -71.286687, -81.356084, -86.64412, -77.486882, -82.525188, -81.754446, -78.460441, -80.797285, -89.934502, -96.970489, -84.399911, -76.449526, -98.606973, -93.275361, -76.549501, -95.35364200000001, -77.441816, -75.311982, -82.835911, -87.82829699999999, -87.862312, -94.443841, -85.68164499999999, -89.871971, -86.21238199999999, -78.777335, -72.57391899999999, -83.200846, -84.47953299999999, -86.729515, -90.345825, -97.506966, -81.604957, -79.836097], \"marker\": {\"autocolorscale\": false, \"cmax\": 10.40284413, \"cmin\": 1.9188183419999998, \"color\": [9.106741824, 9.24576151, 8.074594747, 6.887618133999999, 6.385491511000001, 5.439128338, 5.470974269, 5.016095671, 4.710243398999999, 4.650360649, 4.747569262, 4.788502963, 4.345570197, 4.313897305, 3.762624689, 3.4784619830000003, 3.87097171, 3.9203365569999997, 3.53026759, 3.5650589910000003, 3.3590857539999996, 3.1329717710000002, 3.030517503, 2.982337624, 3.036326802, 3.0600883289999996, 3.0021247030000002, 3.0513282110000004, 2.942562192, 2.90779508, 2.929286246, 2.8598329469999997, 2.8307591660000004, 2.7608646880000003, 2.683718863, 2.730386357, 2.4283425419999998, 2.465553097, 2.32430734, 2.318913666, 2.274887352, 2.254089784, 2.440931328, 2.364809988, 2.273062704, 2.244642738, 2.218356865, 2.1185738069999998, 2.115776845, 2.006412192], \"colorbar\": {\"dtick\": 0.5, \"title\": {\"text\": \"Price to income ratio\"}}, \"colorscale\": [[0.0, \"rgb(103,0,31)\"], [0.1, \"rgb(178,24,43)\"], [0.2, \"rgb(214,96,77)\"], [0.3, \"rgb(244,165,130)\"], [0.4, \"rgb(253,219,199)\"], [0.5, \"rgb(247,247,247)\"], [0.6, \"rgb(209,229,240)\"], [0.7, \"rgb(146,197,222)\"], [0.8, \"rgb(67,147,195)\"], [0.9, \"rgb(33,102,172)\"], [1.0, \"rgb(5,48,97)\"]], \"opacity\": 0.6, \"reversescale\": true, \"size\": 15, \"symbol\": \"circle\"}, \"mode\": \"markers\", \"name\": \"\", \"showlegend\": false, \"type\": \"scattergeo\", \"visible\": false}, {\"hovertemplate\": [\"Los Angeles-Long Beach-Anaheim, CA<br> Price to income: 9.1\", \"San Jose, CA<br> Price to income: 8.8\", \"San Francisco, CA<br> Price to income: 7.9\", \"San Diego, CA<br> Price to income: 6.8\", \"New York, NY<br> Price to income: 6.3\", \"Riverside, CA<br> Price to income: 5.3\", \"Miami-Fort Lauderdale, FL<br> Price to income: 5.3\", \"Sacramento, CA<br> Price to income: 5.2\", \"Seattle, WA<br> Price to income: 4.9\", \"Salt Lake City, UT<br> Price to income: 4.7\", \"Portland, OR<br> Price to income: 4.7\", \"Denver, CO<br> Price to income: 4.6\", \"Boston, MA<br> Price to income: 4.3\", \"Las Vegas, NV<br> Price to income: 4.3\", \"Phoenix, AZ<br> Price to income: 3.9\", \"Austin, TX<br> Price to income: 3.6\", \"Providence, RI<br> Price to income: 3.8\", \"Orlando, FL<br> Price to income: 3.9\", \"Nashville, TN<br> Price to income: 3.6\", \"Washington, DC<br> Price to income: 3.6\", \"Tampa, FL<br> Price to income: 3.5\", \"Jacksonville, FL<br> Price to income: 3.2\", \"Raleigh, NC<br> Price to income: 3.1\", \"Charlotte, NC<br> Price to income: 3.0\", \"New Orleans, LA<br> Price to income: 3.1\", \"Dallas-Fort Worth, TX<br> Price to income: 3.1\", \"Atlanta, GA<br> Price to income: 3.1\", \"Virginia Beach, VA<br> Price to income: 3.1\", \"San Antonio, TX<br> Price to income: 3.0\", \"Minneapolis-St Paul, MN<br> Price to income: 3.0\", \"Baltimore, MD<br> Price to income: 2.9\", \"Houston, TX<br> Price to income: 2.9\", \"Richmond, VA<br> Price to income: 2.9\", \"Philadelphia, PA<br> Price to income: 2.7\", \"Columbus, OH<br> Price to income: 2.7\", \"Chicago, IL<br> Price to income: 2.7\", \"Milwaukee, WI<br> Price to income: 2.6\", \"Kansas City, MO<br> Price to income: 2.5\", \"Louisville-Jefferson County, KY<br> Price to income: 2.4\", \"Memphis, TN<br> Price to income: 2.4\", \"Indianapolis, IN<br> Price to income: 2.4\", \"Buffalo, NY<br> Price to income: 2.4\", \"Hartford, CT<br> Price to income: 2.5\", \"Detroit, MI<br> Price to income: 2.4\", \"Cincinnati, OH<br> Price to income: 2.3\", \"Birmingham, AL<br> Price to income: 2.5\", \"St. Louis, MO<br> Price to income: 2.3\", \"Oklahoma City, OK<br> Price to income: 2.2\", \"Cleveland, OH<br> Price to income: 2.2\", \"Pittsburgh, PA<br> Price to income: 2.0\"], \"lat\": [34.108703000000006, 36.908471999999996, 37.773718, 33.023604, 40.77493, 34.538476, 26.101828, 38.790271999999995, 47.490552, 40.572887, 45.600621999999994, 39.434789, 42.517606, 36.21413, 33.185765, 30.249744, 41.70684, 28.434396000000003, 36.118182, 38.798204999999996, 28.120540999999996, 30.236594, 35.756746, 35.166342, 30.053420000000003, 32.849171000000005, 33.693728, 36.804408, 29.433059999999998, 45.096664000000004, 39.304361, 29.749593, 37.411324, 39.894958, 39.968562, 41.823521, 42.912643, 38.931857, 38.305838, 35.024419, 39.748670000000004, 43.044371000000005, 41.71865, 42.721848, 39.100546, 33.402599, 38.740210999999995, 35.430968, 41.555037, 40.439525], \"lon\": [-118.18275, -121.37137, -122.27443000000001, -116.77611999999999, -73.873758, -116.13453999999999, -80.478755, -121.00563999999999, -121.83398000000001, -112.95325, -122.48438, -104.90106999999999, -71.02199300000001, -115.0144, -112.06786000000001, -97.649842, -71.286687, -81.356084, -86.64412, -77.486882, -82.525188, -81.754446, -78.460441, -80.797285, -89.934502, -96.970489, -84.399911, -76.449526, -98.606973, -93.275361, -76.549501, -95.35364200000001, -77.441816, -75.311982, -82.835911, -87.82829699999999, -87.862312, -94.443841, -85.68164499999999, -89.871971, -86.21238199999999, -78.777335, -72.57391899999999, -83.200846, -84.47953299999999, -86.729515, -90.345825, -97.506966, -81.604957, -79.836097], \"marker\": {\"autocolorscale\": false, \"cmax\": 10.40284413, \"cmin\": 1.9188183419999998, \"color\": [9.081483874, 8.830199641, 7.920371908, 6.825691327, 6.275807014, 5.298499395, 5.2830086739999995, 5.15389063, 4.878410455, 4.6991344889999995, 4.743331635, 4.634655929, 4.321650572, 4.276044056, 3.885972372, 3.634012246, 3.843109019, 3.939924375, 3.623175595, 3.587635483, 3.463907833, 3.2291290189999997, 3.1282101680000003, 3.0272764569999997, 3.0639464010000004, 3.0634115, 3.059242249, 3.065897838, 3.0051016230000003, 2.95808843, 2.9264334780000003, 2.861415985, 2.865030641, 2.7011534389999996, 2.650515841, 2.73191858, 2.5526112690000002, 2.508988519, 2.440804174, 2.431334171, 2.373595448, 2.367827579, 2.536893444, 2.419545647, 2.282879549, 2.457015642, 2.274047144, 2.225946575, 2.185915666, 2.036047162], \"colorbar\": {\"dtick\": 0.5, \"title\": {\"text\": \"Price to income ratio\"}}, \"colorscale\": [[0.0, \"rgb(103,0,31)\"], [0.1, \"rgb(178,24,43)\"], [0.2, \"rgb(214,96,77)\"], [0.3, \"rgb(244,165,130)\"], [0.4, \"rgb(253,219,199)\"], [0.5, \"rgb(247,247,247)\"], [0.6, \"rgb(209,229,240)\"], [0.7, \"rgb(146,197,222)\"], [0.8, \"rgb(67,147,195)\"], [0.9, \"rgb(33,102,172)\"], [1.0, \"rgb(5,48,97)\"]], \"opacity\": 0.6, \"reversescale\": true, \"size\": 15, \"symbol\": \"circle\"}, \"mode\": \"markers\", \"name\": \"\", \"showlegend\": false, \"type\": \"scattergeo\", \"visible\": false}, {\"hovertemplate\": [\"Los Angeles-Long Beach-Anaheim, CA<br> Price to income: 9.8\", \"San Jose, CA<br> Price to income: 9.1\", \"San Francisco, CA<br> Price to income: 8.3\", \"San Diego, CA<br> Price to income: 7.8\", \"New York, NY<br> Price to income: 6.6\", \"Riverside, CA<br> Price to income: 6.0\", \"Miami-Fort Lauderdale, FL<br> Price to income: 5.6\", \"Sacramento, CA<br> Price to income: 5.6\", \"Seattle, WA<br> Price to income: 5.5\", \"Salt Lake City, UT<br> Price to income: 5.2\", \"Portland, OR<br> Price to income: 5.1\", \"Denver, CO<br> Price to income: 5.0\", \"Boston, MA<br> Price to income: 4.7\", \"Las Vegas, NV<br> Price to income: 4.7\", \"Phoenix, AZ<br> Price to income: 4.6\", \"Austin, TX<br> Price to income: 4.5\", \"Providence, RI<br> Price to income: 4.4\", \"Orlando, FL<br> Price to income: 4.1\", \"Nashville, TN<br> Price to income: 3.9\", \"Washington, DC<br> Price to income: 3.9\", \"Tampa, FL<br> Price to income: 3.8\", \"Jacksonville, FL<br> Price to income: 3.6\", \"Raleigh, NC<br> Price to income: 3.5\", \"Charlotte, NC<br> Price to income: 3.4\", \"New Orleans, LA<br> Price to income: 3.3\", \"Dallas-Fort Worth, TX<br> Price to income: 3.3\", \"Atlanta, GA<br> Price to income: 3.3\", \"Virginia Beach, VA<br> Price to income: 3.3\", \"San Antonio, TX<br> Price to income: 3.2\", \"Minneapolis-St Paul, MN<br> Price to income: 3.2\", \"Baltimore, MD<br> Price to income: 3.2\", \"Houston, TX<br> Price to income: 3.1\", \"Richmond, VA<br> Price to income: 3.1\", \"Philadelphia, PA<br> Price to income: 3.1\", \"Columbus, OH<br> Price to income: 3.0\", \"Chicago, IL<br> Price to income: 2.9\", \"Milwaukee, WI<br> Price to income: 2.9\", \"Kansas City, MO<br> Price to income: 2.8\", \"Louisville-Jefferson County, KY<br> Price to income: 2.7\", \"Memphis, TN<br> Price to income: 2.7\", \"Indianapolis, IN<br> Price to income: 2.7\", \"Buffalo, NY<br> Price to income: 2.7\", \"Hartford, CT<br> Price to income: 2.7\", \"Detroit, MI<br> Price to income: 2.7\", \"Cincinnati, OH<br> Price to income: 2.6\", \"Birmingham, AL<br> Price to income: 2.5\", \"St. Louis, MO<br> Price to income: 2.5\", \"Oklahoma City, OK<br> Price to income: 2.5\", \"Cleveland, OH<br> Price to income: 2.4\", \"Pittsburgh, PA<br> Price to income: 2.2\"], \"lat\": [34.108703000000006, 36.908471999999996, 37.773718, 33.023604, 40.77493, 34.538476, 26.101828, 38.790271999999995, 47.490552, 40.572887, 45.600621999999994, 39.434789, 42.517606, 36.21413, 33.185765, 30.249744, 41.70684, 28.434396000000003, 36.118182, 38.798204999999996, 28.120540999999996, 30.236594, 35.756746, 35.166342, 30.053420000000003, 32.849171000000005, 33.693728, 36.804408, 29.433059999999998, 45.096664000000004, 39.304361, 29.749593, 37.411324, 39.894958, 39.968562, 41.823521, 42.912643, 38.931857, 38.305838, 35.024419, 39.748670000000004, 43.044371000000005, 41.71865, 42.721848, 39.100546, 33.402599, 38.740210999999995, 35.430968, 41.555037, 40.439525], \"lon\": [-118.18275, -121.37137, -122.27443000000001, -116.77611999999999, -73.873758, -116.13453999999999, -80.478755, -121.00563999999999, -121.83398000000001, -112.95325, -122.48438, -104.90106999999999, -71.02199300000001, -115.0144, -112.06786000000001, -97.649842, -71.286687, -81.356084, -86.64412, -77.486882, -82.525188, -81.754446, -78.460441, -80.797285, -89.934502, -96.970489, -84.399911, -76.449526, -98.606973, -93.275361, -76.549501, -95.35364200000001, -77.441816, -75.311982, -82.835911, -87.82829699999999, -87.862312, -94.443841, -85.68164499999999, -89.871971, -86.21238199999999, -78.777335, -72.57391899999999, -83.200846, -84.47953299999999, -86.729515, -90.345825, -97.506966, -81.604957, -79.836097], \"marker\": {\"autocolorscale\": false, \"cmax\": 10.40284413, \"cmin\": 1.9188183419999998, \"color\": [9.781801625, 9.091798612, 8.298086564, 7.756330179, 6.59010869, 5.971158065, 5.61777459, 5.610194841, 5.476340795, 5.22942282, 5.078152735, 4.99848645, 4.725662252, 4.69867058, 4.618856076, 4.514610718, 4.398226936, 4.14468404, 3.929765718, 3.857108527, 3.821339477, 3.6483790110000003, 3.4762904910000003, 3.4180285039999996, 3.337089872, 3.3243469660000002, 3.318558585, 3.271446746, 3.22780027, 3.1971103910000003, 3.17700647, 3.119663889, 3.117982, 3.087268571, 2.977574582, 2.8978903430000003, 2.8536982230000003, 2.8123523089999996, 2.695941222, 2.6917158660000005, 2.6780698530000002, 2.661586058, 2.6523238730000003, 2.651996875, 2.5929273999999998, 2.530969615, 2.4577223790000002, 2.45329918, 2.373223664, 2.241526297], \"colorbar\": {\"dtick\": 0.5, \"title\": {\"text\": \"Price to income ratio\"}}, \"colorscale\": [[0.0, \"rgb(103,0,31)\"], [0.1, \"rgb(178,24,43)\"], [0.2, \"rgb(214,96,77)\"], [0.3, \"rgb(244,165,130)\"], [0.4, \"rgb(253,219,199)\"], [0.5, \"rgb(247,247,247)\"], [0.6, \"rgb(209,229,240)\"], [0.7, \"rgb(146,197,222)\"], [0.8, \"rgb(67,147,195)\"], [0.9, \"rgb(33,102,172)\"], [1.0, \"rgb(5,48,97)\"]], \"opacity\": 0.6, \"reversescale\": true, \"size\": 15, \"symbol\": \"circle\"}, \"mode\": \"markers\", \"name\": \"\", \"showlegend\": false, \"type\": \"scattergeo\", \"visible\": false}],\n",
       "                        {\"geo\": {\"projection\": {\"type\": \"albers usa\"}, \"scope\": \"usa\", \"showland\": true}, \"sliders\": [{\"active\": 0, \"currentvalue\": {\"prefix\": \"Date: \"}, \"pad\": {\"t\": 1}, \"steps\": [{\"args\": [{\"visible\": [true, false, false, false, false, false, false]}, {\"title\": \"<b>Price to Income Ratio by Metro</b> <br><i>2000 Average: 2.96</i>\"}], \"label\": \"Year 2000\", \"method\": \"update\"}, {\"args\": [{\"visible\": [false, true, false, false, false, false, false]}, {\"title\": \"<b>Price to Income Ratio by Metro</b> <br><i>2008 Average: 3.46</i>\"}], \"label\": \"Year 2008\", \"method\": \"update\"}, {\"args\": [{\"visible\": [false, false, true, false, false, false, false]}, {\"title\": \"<b>Price to Income Ratio by Metro</b> <br><i>2017 Average: 3.72</i>\"}], \"label\": \"Year 2017\", \"method\": \"update\"}, {\"args\": [{\"visible\": [false, false, false, true, false, false, false]}, {\"title\": \"<b>Price to Income Ratio by Metro</b> <br><i>2018 Average: 3.78</i>\"}], \"label\": \"Year 2018\", \"method\": \"update\"}, {\"args\": [{\"visible\": [false, false, false, false, true, false, false]}, {\"title\": \"<b>Price to Income Ratio by Metro</b> <br><i>2019 Average: 3.69</i>\"}], \"label\": \"Year 2019\", \"method\": \"update\"}, {\"args\": [{\"visible\": [false, false, false, false, false, true, false]}, {\"title\": \"<b>Price to Income Ratio by Metro</b> <br><i>2020 Average: 3.71</i>\"}], \"label\": \"Year 2020\", \"method\": \"update\"}, {\"args\": [{\"visible\": [false, false, false, false, false, false, true]}, {\"title\": \"<b>Price to Income Ratio by Metro</b> <br><i>2021 Average: 4.06</i>\"}], \"label\": \"Year 2021\", \"method\": \"update\"}]}], \"template\": {\"data\": {\"bar\": [{\"error_x\": {\"color\": \"#2a3f5f\"}, \"error_y\": {\"color\": \"#2a3f5f\"}, \"marker\": {\"line\": {\"color\": \"#E5ECF6\", \"width\": 0.5}}, \"type\": \"bar\"}], \"barpolar\": [{\"marker\": {\"line\": {\"color\": \"#E5ECF6\", \"width\": 0.5}}, \"type\": \"barpolar\"}], \"carpet\": [{\"aaxis\": {\"endlinecolor\": \"#2a3f5f\", \"gridcolor\": \"white\", \"linecolor\": \"white\", \"minorgridcolor\": \"white\", \"startlinecolor\": \"#2a3f5f\"}, \"baxis\": {\"endlinecolor\": \"#2a3f5f\", \"gridcolor\": \"white\", \"linecolor\": \"white\", \"minorgridcolor\": \"white\", \"startlinecolor\": \"#2a3f5f\"}, \"type\": \"carpet\"}], \"choropleth\": [{\"colorbar\": {\"outlinewidth\": 0, \"ticks\": \"\"}, \"type\": \"choropleth\"}], \"contour\": [{\"colorbar\": {\"outlinewidth\": 0, \"ticks\": \"\"}, \"colorscale\": [[0.0, \"#0d0887\"], [0.1111111111111111, \"#46039f\"], [0.2222222222222222, \"#7201a8\"], [0.3333333333333333, \"#9c179e\"], [0.4444444444444444, \"#bd3786\"], [0.5555555555555556, \"#d8576b\"], [0.6666666666666666, \"#ed7953\"], [0.7777777777777778, \"#fb9f3a\"], [0.8888888888888888, \"#fdca26\"], [1.0, \"#f0f921\"]], \"type\": \"contour\"}], \"contourcarpet\": [{\"colorbar\": {\"outlinewidth\": 0, \"ticks\": \"\"}, \"type\": \"contourcarpet\"}], \"heatmap\": [{\"colorbar\": {\"outlinewidth\": 0, \"ticks\": \"\"}, \"colorscale\": [[0.0, \"#0d0887\"], [0.1111111111111111, \"#46039f\"], [0.2222222222222222, \"#7201a8\"], [0.3333333333333333, \"#9c179e\"], [0.4444444444444444, \"#bd3786\"], [0.5555555555555556, \"#d8576b\"], [0.6666666666666666, \"#ed7953\"], [0.7777777777777778, \"#fb9f3a\"], [0.8888888888888888, \"#fdca26\"], [1.0, \"#f0f921\"]], \"type\": \"heatmap\"}], \"heatmapgl\": [{\"colorbar\": {\"outlinewidth\": 0, \"ticks\": \"\"}, \"colorscale\": [[0.0, \"#0d0887\"], [0.1111111111111111, \"#46039f\"], [0.2222222222222222, \"#7201a8\"], [0.3333333333333333, \"#9c179e\"], [0.4444444444444444, \"#bd3786\"], [0.5555555555555556, \"#d8576b\"], [0.6666666666666666, \"#ed7953\"], [0.7777777777777778, \"#fb9f3a\"], [0.8888888888888888, \"#fdca26\"], [1.0, \"#f0f921\"]], \"type\": \"heatmapgl\"}], \"histogram\": [{\"marker\": {\"colorbar\": {\"outlinewidth\": 0, \"ticks\": \"\"}}, \"type\": \"histogram\"}], \"histogram2d\": [{\"colorbar\": {\"outlinewidth\": 0, \"ticks\": \"\"}, \"colorscale\": [[0.0, \"#0d0887\"], [0.1111111111111111, \"#46039f\"], [0.2222222222222222, \"#7201a8\"], [0.3333333333333333, \"#9c179e\"], [0.4444444444444444, \"#bd3786\"], [0.5555555555555556, \"#d8576b\"], [0.6666666666666666, \"#ed7953\"], [0.7777777777777778, \"#fb9f3a\"], [0.8888888888888888, \"#fdca26\"], [1.0, \"#f0f921\"]], \"type\": \"histogram2d\"}], \"histogram2dcontour\": [{\"colorbar\": {\"outlinewidth\": 0, \"ticks\": \"\"}, \"colorscale\": [[0.0, \"#0d0887\"], [0.1111111111111111, \"#46039f\"], [0.2222222222222222, \"#7201a8\"], [0.3333333333333333, \"#9c179e\"], [0.4444444444444444, \"#bd3786\"], [0.5555555555555556, \"#d8576b\"], [0.6666666666666666, \"#ed7953\"], [0.7777777777777778, \"#fb9f3a\"], [0.8888888888888888, \"#fdca26\"], [1.0, \"#f0f921\"]], \"type\": \"histogram2dcontour\"}], \"mesh3d\": [{\"colorbar\": {\"outlinewidth\": 0, \"ticks\": \"\"}, \"type\": \"mesh3d\"}], \"parcoords\": [{\"line\": {\"colorbar\": {\"outlinewidth\": 0, \"ticks\": \"\"}}, \"type\": \"parcoords\"}], \"pie\": [{\"automargin\": true, \"type\": \"pie\"}], \"scatter\": [{\"marker\": {\"colorbar\": {\"outlinewidth\": 0, \"ticks\": \"\"}}, \"type\": \"scatter\"}], \"scatter3d\": [{\"line\": {\"colorbar\": {\"outlinewidth\": 0, \"ticks\": \"\"}}, \"marker\": {\"colorbar\": {\"outlinewidth\": 0, \"ticks\": \"\"}}, \"type\": \"scatter3d\"}], \"scattercarpet\": [{\"marker\": {\"colorbar\": {\"outlinewidth\": 0, \"ticks\": \"\"}}, \"type\": \"scattercarpet\"}], \"scattergeo\": [{\"marker\": {\"colorbar\": {\"outlinewidth\": 0, \"ticks\": \"\"}}, \"type\": \"scattergeo\"}], \"scattergl\": [{\"marker\": {\"colorbar\": {\"outlinewidth\": 0, \"ticks\": \"\"}}, \"type\": \"scattergl\"}], \"scattermapbox\": [{\"marker\": {\"colorbar\": {\"outlinewidth\": 0, \"ticks\": \"\"}}, \"type\": \"scattermapbox\"}], \"scatterpolar\": [{\"marker\": {\"colorbar\": {\"outlinewidth\": 0, \"ticks\": \"\"}}, \"type\": \"scatterpolar\"}], \"scatterpolargl\": [{\"marker\": {\"colorbar\": {\"outlinewidth\": 0, \"ticks\": \"\"}}, \"type\": \"scatterpolargl\"}], \"scatterternary\": [{\"marker\": {\"colorbar\": {\"outlinewidth\": 0, \"ticks\": \"\"}}, \"type\": \"scatterternary\"}], \"surface\": [{\"colorbar\": {\"outlinewidth\": 0, \"ticks\": \"\"}, \"colorscale\": [[0.0, \"#0d0887\"], [0.1111111111111111, \"#46039f\"], [0.2222222222222222, \"#7201a8\"], [0.3333333333333333, \"#9c179e\"], [0.4444444444444444, \"#bd3786\"], [0.5555555555555556, \"#d8576b\"], [0.6666666666666666, \"#ed7953\"], [0.7777777777777778, \"#fb9f3a\"], [0.8888888888888888, \"#fdca26\"], [1.0, \"#f0f921\"]], \"type\": \"surface\"}], \"table\": [{\"cells\": {\"fill\": {\"color\": \"#EBF0F8\"}, \"line\": {\"color\": \"white\"}}, \"header\": {\"fill\": {\"color\": \"#C8D4E3\"}, \"line\": {\"color\": \"white\"}}, \"type\": \"table\"}]}, \"layout\": {\"annotationdefaults\": {\"arrowcolor\": \"#2a3f5f\", \"arrowhead\": 0, \"arrowwidth\": 1}, \"coloraxis\": {\"colorbar\": {\"outlinewidth\": 0, \"ticks\": \"\"}}, \"colorscale\": {\"diverging\": [[0, \"#8e0152\"], [0.1, \"#c51b7d\"], [0.2, \"#de77ae\"], [0.3, \"#f1b6da\"], [0.4, \"#fde0ef\"], [0.5, \"#f7f7f7\"], [0.6, \"#e6f5d0\"], [0.7, \"#b8e186\"], [0.8, \"#7fbc41\"], [0.9, \"#4d9221\"], [1, \"#276419\"]], \"sequential\": [[0.0, \"#0d0887\"], [0.1111111111111111, \"#46039f\"], [0.2222222222222222, \"#7201a8\"], [0.3333333333333333, \"#9c179e\"], [0.4444444444444444, \"#bd3786\"], [0.5555555555555556, \"#d8576b\"], [0.6666666666666666, \"#ed7953\"], [0.7777777777777778, \"#fb9f3a\"], [0.8888888888888888, \"#fdca26\"], [1.0, \"#f0f921\"]], \"sequentialminus\": [[0.0, \"#0d0887\"], [0.1111111111111111, \"#46039f\"], [0.2222222222222222, \"#7201a8\"], [0.3333333333333333, \"#9c179e\"], [0.4444444444444444, \"#bd3786\"], [0.5555555555555556, \"#d8576b\"], [0.6666666666666666, \"#ed7953\"], [0.7777777777777778, \"#fb9f3a\"], [0.8888888888888888, \"#fdca26\"], [1.0, \"#f0f921\"]]}, \"colorway\": [\"#636efa\", \"#EF553B\", \"#00cc96\", \"#ab63fa\", \"#FFA15A\", \"#19d3f3\", \"#FF6692\", \"#B6E880\", \"#FF97FF\", \"#FECB52\"], \"font\": {\"color\": \"#2a3f5f\"}, \"geo\": {\"bgcolor\": \"white\", \"lakecolor\": \"white\", \"landcolor\": \"#E5ECF6\", \"showlakes\": true, \"showland\": true, \"subunitcolor\": \"white\"}, \"hoverlabel\": {\"align\": \"left\"}, \"hovermode\": \"closest\", \"mapbox\": {\"style\": \"light\"}, \"paper_bgcolor\": \"white\", \"plot_bgcolor\": \"#E5ECF6\", \"polar\": {\"angularaxis\": {\"gridcolor\": \"white\", \"linecolor\": \"white\", \"ticks\": \"\"}, \"bgcolor\": \"#E5ECF6\", \"radialaxis\": {\"gridcolor\": \"white\", \"linecolor\": \"white\", \"ticks\": \"\"}}, \"scene\": {\"xaxis\": {\"backgroundcolor\": \"#E5ECF6\", \"gridcolor\": \"white\", \"gridwidth\": 2, \"linecolor\": \"white\", \"showbackground\": true, \"ticks\": \"\", \"zerolinecolor\": \"white\"}, \"yaxis\": {\"backgroundcolor\": \"#E5ECF6\", \"gridcolor\": \"white\", \"gridwidth\": 2, \"linecolor\": \"white\", \"showbackground\": true, \"ticks\": \"\", \"zerolinecolor\": \"white\"}, \"zaxis\": {\"backgroundcolor\": \"#E5ECF6\", \"gridcolor\": \"white\", \"gridwidth\": 2, \"linecolor\": \"white\", \"showbackground\": true, \"ticks\": \"\", \"zerolinecolor\": \"white\"}}, \"shapedefaults\": {\"line\": {\"color\": \"#2a3f5f\"}}, \"ternary\": {\"aaxis\": {\"gridcolor\": \"white\", \"linecolor\": \"white\", \"ticks\": \"\"}, \"baxis\": {\"gridcolor\": \"white\", \"linecolor\": \"white\", \"ticks\": \"\"}, \"bgcolor\": \"#E5ECF6\", \"caxis\": {\"gridcolor\": \"white\", \"linecolor\": \"white\", \"ticks\": \"\"}}, \"title\": {\"x\": 0.05}, \"xaxis\": {\"automargin\": true, \"gridcolor\": \"white\", \"linecolor\": \"white\", \"ticks\": \"\", \"title\": {\"standoff\": 15}, \"zerolinecolor\": \"white\", \"zerolinewidth\": 2}, \"yaxis\": {\"automargin\": true, \"gridcolor\": \"white\", \"linecolor\": \"white\", \"ticks\": \"\", \"title\": {\"standoff\": 15}, \"zerolinecolor\": \"white\", \"zerolinewidth\": 2}}}, \"title\": {\"text\": \"<b>Price to Income Ratio by Metro</b> <br><i>2000 Average: 2.96</i>\"}},\n",
       "                        {\"responsive\": true}\n",
       "                    ).then(function(){\n",
       "                            \n",
       "var gd = document.getElementById('687c95a9-9d26-4060-8fab-f231736c5682');\n",
       "var x = new MutationObserver(function (mutations, observer) {{\n",
       "        var display = window.getComputedStyle(gd).display;\n",
       "        if (!display || display === 'none') {{\n",
       "            console.log([gd, 'removed!']);\n",
       "            Plotly.purge(gd);\n",
       "            observer.disconnect();\n",
       "        }}\n",
       "}});\n",
       "\n",
       "// Listen for the removal of the full notebook cells\n",
       "var notebookContainer = gd.closest('#notebook-container');\n",
       "if (notebookContainer) {{\n",
       "    x.observe(notebookContainer, {childList: true});\n",
       "}}\n",
       "\n",
       "// Listen for the clearing of the current output cell\n",
       "var outputEl = gd.closest('.output');\n",
       "if (outputEl) {{\n",
       "    x.observe(outputEl, {childList: true});\n",
       "}}\n",
       "\n",
       "                        })\n",
       "                };\n",
       "                });\n",
       "            </script>\n",
       "        </div>"
      ]
     },
     "metadata": {},
     "output_type": "display_data"
    }
   ],
   "source": [
    "#create map using plotly with a slider that updates the map each year in the dataset\n",
    "\n",
    "fig = go.Figure()\n",
    "\n",
    "col_name = metro_data_df.columns\n",
    "n_col = len(metro_data_df.columns)\n",
    "date_list =[]\n",
    "col_ratio = 5 #start column for slider loop (i.e., starts price-to-income data)\n",
    "n_range = 7 #total number of columns\n",
    "\n",
    "#loop through columns to create data for each year to add to map\n",
    "for i in range(n_range):\n",
    "    df = metro_data_df[['Latitude','Longitude', 'ZillowName', col_name[col_ratio]]]\n",
    "    \n",
    "    lat = df['Latitude']\n",
    "    lon = df['Longitude']\n",
    "    \n",
    "\n",
    "    df['text'] = df.apply(lambda x: x[2] + '<br> Price to income: ' + str(round(x[3],1)), axis=1) #pop up text on metro\n",
    "\n",
    "    #add trace using individual lat/long for each metro in each year \n",
    "    fig.add_trace(\n",
    "    go.Scattergeo(\n",
    "        name='',\n",
    "        lon=lon,\n",
    "        lat=lat,\n",
    "        visible=False,\n",
    "        hovertemplate=df['text'],\n",
    "        showlegend=False,\n",
    "        mode='markers',\n",
    "        marker=dict(\n",
    "            size=15, #metro icon size\n",
    "            opacity=0.6, #metro icon opacity\n",
    "            symbol='circle', #metro icon style\n",
    "            reversescale = True,\n",
    "            autocolorscale = False,\n",
    "            colorscale = 'RdBu', #color scale for color bar\n",
    "            cmin = metro_data_long['PIratio'].min(), #sets min for this year as min across all years\n",
    "            color = df[col_name[col_ratio]], #sets color to the individual PI ratio for that metro\n",
    "            cmax = metro_data_long['PIratio'].max(), #sets max for this year as max across all years\n",
    "            colorbar_title = \"Price to income ratio\", #title of the color bar legend\n",
    "            colorbar_dtick=.5, #step increment for color bar legend\n",
    "            ),\n",
    "        )\n",
    "    )\n",
    "    \n",
    "    col_ratio += 1\n",
    "    \n",
    "steps =[]\n",
    "years = metro_data_long['year'].sort_values().unique() #years available in the dataset in chron order as list\n",
    "\n",
    "for i in range(len(fig.data)):\n",
    "    pi_avg = metro_data_long['PIratio'].loc[metro_data_long['year'] == years[i]].mean() #get average ratio for the year\n",
    "    step = dict(\n",
    "        method='update', #update step lets you update data and layout\n",
    "        args = [\n",
    "            {'visible': [False] * len(fig.data)}, #set all data to false visibility\n",
    "            {'title': \"<b>Price to Income Ratio by Metro</b> <br><i>{0} Average: {1}</i>\".format(years[i], round(pi_avg,2))}, #update title to include average for that year\n",
    "        ],\n",
    "        label = 'Year {}'.format(years[i]),\n",
    "    )\n",
    "    \n",
    "    step[\"args\"][0][\"visible\"][i] = True #set visibility of true for appropriate column for specific year\n",
    "    steps.append(step)\n",
    "    \n",
    "#create slider using steps\n",
    "sliders = [dict(\n",
    "    active=0,\n",
    "    currentvalue = {'prefix':'Date: '},\n",
    "    pad = {'t':1},\n",
    "    steps = steps,\n",
    ")]\n",
    "\n",
    "\n",
    "fig.data[0].visible = True\n",
    "min_year = metro_data_long['year'].min()\n",
    "pi_avg = metro_data_long['PIratio'].loc[metro_data_long['year'] == min_year].mean()\n",
    "\n",
    "fig.update_layout(\n",
    "    title = \"<b>Price to Income Ratio by Metro</b> <br><i>{0} Average: {1}</i>\".format(min_year, round(pi_avg,2)), #set initial title for first year in data\n",
    "    sliders=sliders,\n",
    "    geo = dict(\n",
    "        scope = 'usa',\n",
    "        projection_type = 'albers usa',\n",
    "        showland = True,\n",
    "    )\n",
    ")\n",
    "\n",
    "fig.show()\n",
    "#offline.plot(fig, filename='testratio2.html') #download as html file"
   ]
  },
  {
   "cell_type": "code",
   "execution_count": 135,
   "metadata": {},
   "outputs": [],
   "source": [
    "#get home value data for map \n",
    "df2 = metro_data[['Metropolitan statistical area', 'id', 'ZillowName', 'Latitude', 'Longitude','Home2000', 'Home2008','Home2017', 'Home2018', 'Home2019', 'Home2020',\n",
    "       'Home2021']]"
   ]
  },
  {
   "cell_type": "code",
   "execution_count": 136,
   "metadata": {},
   "outputs": [
    {
     "data": {
      "text/plain": [
       "Metropolitan statistical area    False\n",
       "id                               False\n",
       "ZillowName                       False\n",
       "Latitude                         False\n",
       "Longitude                        False\n",
       "Home2000                          True\n",
       "Home2008                         False\n",
       "Home2017                         False\n",
       "Home2018                         False\n",
       "Home2019                         False\n",
       "Home2020                         False\n",
       "Home2021                         False\n",
       "dtype: bool"
      ]
     },
     "execution_count": 136,
     "metadata": {},
     "output_type": "execute_result"
    }
   ],
   "source": [
    "#check home values for nan\n",
    "df2.isna().any()"
   ]
  },
  {
   "cell_type": "code",
   "execution_count": 137,
   "metadata": {
    "scrolled": true
   },
   "outputs": [
    {
     "data": {
      "text/html": [
       "<div>\n",
       "<style scoped>\n",
       "    .dataframe tbody tr th:only-of-type {\n",
       "        vertical-align: middle;\n",
       "    }\n",
       "\n",
       "    .dataframe tbody tr th {\n",
       "        vertical-align: top;\n",
       "    }\n",
       "\n",
       "    .dataframe thead th {\n",
       "        text-align: right;\n",
       "    }\n",
       "</style>\n",
       "<table border=\"1\" class=\"dataframe\">\n",
       "  <thead>\n",
       "    <tr style=\"text-align: right;\">\n",
       "      <th></th>\n",
       "      <th>Metropolitan statistical area</th>\n",
       "      <th>id</th>\n",
       "      <th>ZillowName</th>\n",
       "      <th>Latitude</th>\n",
       "      <th>Longitude</th>\n",
       "      <th>Home2000</th>\n",
       "      <th>Home2008</th>\n",
       "      <th>Home2017</th>\n",
       "      <th>Home2018</th>\n",
       "      <th>Home2019</th>\n",
       "      <th>Home2020</th>\n",
       "      <th>Home2021</th>\n",
       "    </tr>\n",
       "  </thead>\n",
       "  <tbody>\n",
       "    <tr>\n",
       "      <th>40</th>\n",
       "      <td>Indianapolis-Carmel-Anderson, IN MSA</td>\n",
       "      <td>40</td>\n",
       "      <td>Indianapolis, IN</td>\n",
       "      <td>39.74867</td>\n",
       "      <td>-86.212382</td>\n",
       "      <td>NaN</td>\n",
       "      <td>174055.6</td>\n",
       "      <td>176673.54</td>\n",
       "      <td>185627.03</td>\n",
       "      <td>194484.26</td>\n",
       "      <td>205721.63</td>\n",
       "      <td>218530.5</td>\n",
       "    </tr>\n",
       "  </tbody>\n",
       "</table>\n",
       "</div>"
      ],
      "text/plain": [
       "           Metropolitan statistical area  id        ZillowName  Latitude  \\\n",
       "40  Indianapolis-Carmel-Anderson, IN MSA  40  Indianapolis, IN  39.74867   \n",
       "\n",
       "    Longitude  Home2000  Home2008   Home2017   Home2018   Home2019   Home2020  \\\n",
       "40 -86.212382       NaN  174055.6  176673.54  185627.03  194484.26  205721.63   \n",
       "\n",
       "    Home2021  \n",
       "40  218530.5  "
      ]
     },
     "execution_count": 137,
     "metadata": {},
     "output_type": "execute_result"
    }
   ],
   "source": [
    "#find home nans\n",
    "df2.loc[df2['Home2000'].isna() == True]"
   ]
  },
  {
   "cell_type": "code",
   "execution_count": 138,
   "metadata": {},
   "outputs": [
    {
     "name": "stderr",
     "output_type": "stream",
     "text": [
      "/usr/local/lib/python3.7/site-packages/pandas/core/generic.py:6245: SettingWithCopyWarning:\n",
      "\n",
      "\n",
      "A value is trying to be set on a copy of a slice from a DataFrame\n",
      "\n",
      "See the caveats in the documentation: https://pandas.pydata.org/pandas-docs/stable/user_guide/indexing.html#returning-a-view-versus-a-copy\n",
      "\n"
     ]
    }
   ],
   "source": [
    "#replace nan with median for that year (since just 1 data point, this is the easiest)\n",
    "df2['Home2000'].fillna(df2['Home2000'].median(),inplace=True)"
   ]
  },
  {
   "cell_type": "code",
   "execution_count": 140,
   "metadata": {},
   "outputs": [
    {
     "name": "stderr",
     "output_type": "stream",
     "text": [
      "/Users/francescaortegren/Library/Python/3.7/lib/python/site-packages/ipykernel_launcher.py:16: SettingWithCopyWarning:\n",
      "\n",
      "\n",
      "A value is trying to be set on a copy of a slice from a DataFrame.\n",
      "Try using .loc[row_indexer,col_indexer] = value instead\n",
      "\n",
      "See the caveats in the documentation: https://pandas.pydata.org/pandas-docs/stable/user_guide/indexing.html#returning-a-view-versus-a-copy\n",
      "\n"
     ]
    },
    {
     "data": {
      "application/vnd.plotly.v1+json": {
       "config": {
        "plotlyServerURL": "https://plot.ly"
       },
       "data": [
        {
         "hovertemplate": [
          "Los Angeles-Long Beach-Anaheim, CA<br> Home Value: $401467.98",
          "San Jose, CA<br> Home Value: $844200.58",
          "San Francisco, CA<br> Home Value: $671812.54",
          "San Diego, CA<br> Home Value: $413892.2",
          "New York, NY<br> Home Value: $395106.91",
          "Riverside, CA<br> Home Value: $248168.17",
          "Miami-Fort Lauderdale, FL<br> Home Value: $212365.6",
          "Sacramento, CA<br> Home Value: $305713.43",
          "Seattle, WA<br> Home Value: $367782.94",
          "Salt Lake City, UT<br> Home Value: $316699.19",
          "Portland, OR<br> Home Value: $293430.42",
          "Denver, CO<br> Home Value: $354288.7",
          "Boston, MA<br> Home Value: $418132.83",
          "Las Vegas, NV<br> Home Value: $277459.07",
          "Phoenix, AZ<br> Home Value: $238278.24",
          "Austin, TX<br> Home Value: $298725.05",
          "Providence, RI<br> Home Value: $264836.59",
          "Orlando, FL<br> Home Value: $210730.07",
          "Nashville, TN<br> Home Value: $235963.11",
          "Washington, DC<br> Home Value: $326862.95",
          "Tampa, FL<br> Home Value: $177556.41",
          "Jacksonville, FL<br> Home Value: $201559.3",
          "Raleigh, NC<br> Home Value: $290564.34",
          "Charlotte, NC<br> Home Value: $245454.95",
          "New Orleans, LA<br> Home Value: $205217.2",
          "Dallas-Fort Worth, TX<br> Home Value: $211064.24",
          "Atlanta, GA<br> Home Value: $259810.49",
          "Virginia Beach, VA<br> Home Value: $200253.04",
          "San Antonio, TX<br> Home Value: $183606.46",
          "Minneapolis-St Paul, MN<br> Home Value: $274670.14",
          "Baltimore, MD<br> Home Value: $257326.23",
          "Houston, TX<br> Home Value: $201756.36",
          "Richmond, VA<br> Home Value: $213848.26",
          "Philadelphia, PA<br> Home Value: $216646.32",
          "Columbus, OH<br> Home Value: $221190.41",
          "Chicago, IL<br> Home Value: $290056.13",
          "Milwaukee, WI<br> Home Value: $209337.66",
          "Kansas City, MO<br> Home Value: $194768.77",
          "Louisville-Jefferson County, KY<br> Home Value: $187016.35",
          "Memphis, TN<br> Home Value: $198547.51",
          "Indianapolis, IN<br> Home Value: $238278.24",
          "Buffalo, NY<br> Home Value: $151855.39",
          "Hartford, CT<br> Home Value: $271808.56",
          "Detroit, MI<br> Home Value: $243905.05",
          "Cincinnati, OH<br> Home Value: $214564.78",
          "Birmingham, AL<br> Home Value: $192280.27",
          "St. Louis, MO<br> Home Value: $193188.56",
          "Oklahoma City, OK<br> Home Value: $150115.97",
          "Cleveland, OH<br> Home Value: $212883.73",
          "Pittsburgh, PA<br> Home Value: $146860.53"
         ],
         "lat": [
          34.108703000000006,
          36.908471999999996,
          37.773718,
          33.023604,
          40.77493,
          34.538476,
          26.101828,
          38.790271999999995,
          47.490552,
          40.572887,
          45.600621999999994,
          39.434789,
          42.517606,
          36.21413,
          33.185765,
          30.249744,
          41.70684,
          28.434396000000003,
          36.118182,
          38.798204999999996,
          28.120540999999996,
          30.236594,
          35.756746,
          35.166342,
          30.053420000000003,
          32.849171000000005,
          33.693728,
          36.804408,
          29.433059999999998,
          45.096664000000004,
          39.304361,
          29.749593,
          37.411324,
          39.894958,
          39.968562,
          41.823521,
          42.912643,
          38.931857,
          38.305838,
          35.024419,
          39.748670000000004,
          43.044371000000005,
          41.71865,
          42.721848,
          39.100546,
          33.402599,
          38.740210999999995,
          35.430968,
          41.555037,
          40.439525
         ],
         "lon": [
          -118.18275,
          -121.37137,
          -122.27443000000001,
          -116.77611999999999,
          -73.873758,
          -116.13453999999999,
          -80.478755,
          -121.00563999999999,
          -121.83398000000001,
          -112.95325,
          -122.48438,
          -104.90106999999999,
          -71.02199300000001,
          -115.0144,
          -112.06786000000001,
          -97.649842,
          -71.286687,
          -81.356084,
          -86.64412,
          -77.486882,
          -82.525188,
          -81.754446,
          -78.460441,
          -80.797285,
          -89.934502,
          -96.970489,
          -84.399911,
          -76.449526,
          -98.606973,
          -93.275361,
          -76.549501,
          -95.35364200000001,
          -77.441816,
          -75.311982,
          -82.835911,
          -87.82829699999999,
          -87.862312,
          -94.443841,
          -85.68164499999999,
          -89.871971,
          -86.21238199999999,
          -78.777335,
          -72.57391899999999,
          -83.200846,
          -84.47953299999999,
          -86.729515,
          -90.345825,
          -97.506966,
          -81.604957,
          -79.836097
         ],
         "marker": {
          "autocolorscale": false,
          "cmax": 1000000,
          "cmin": 146860.53,
          "color": [
           401467.98,
           844200.58,
           671812.54,
           413892.2,
           395106.91,
           248168.17,
           212365.6,
           305713.43,
           367782.94,
           316699.19,
           293430.42,
           354288.7,
           418132.83,
           277459.07,
           238278.24,
           298725.05,
           264836.59,
           210730.07,
           235963.11,
           326862.95,
           177556.41,
           201559.3,
           290564.34,
           245454.95,
           205217.2,
           211064.24,
           259810.49,
           200253.04,
           183606.46,
           274670.14,
           257326.23,
           201756.36,
           213848.26,
           216646.32,
           221190.41,
           290056.13,
           209337.66,
           194768.77,
           187016.35,
           198547.51,
           238278.24,
           151855.39,
           271808.56,
           243905.05,
           214564.78,
           192280.27,
           193188.56,
           150115.97,
           212883.73,
           146860.53
          ],
          "colorbar": {
           "title": {
            "text": "Home Values"
           }
          },
          "colorscale": [
           [
            0,
            "rgb(0,0,0)"
           ],
           [
            0.3333333333333333,
            "rgb(230,0,0)"
           ],
           [
            0.6666666666666666,
            "rgb(255,210,0)"
           ],
           [
            1,
            "rgb(255,255,255)"
           ]
          ],
          "opacity": 1,
          "reversescale": true,
          "size": 15,
          "symbol": "circle"
         },
         "mode": "markers",
         "name": "",
         "showlegend": false,
         "type": "scattergeo",
         "visible": true
        },
        {
         "hovertemplate": [
          "Los Angeles-Long Beach-Anaheim, CA<br> Home Value: $586060.96",
          "San Jose, CA<br> Home Value: $849987.68",
          "San Francisco, CA<br> Home Value: $803222.47",
          "San Diego, CA<br> Home Value: $519540.37",
          "New York, NY<br> Home Value: $554552.03",
          "Riverside, CA<br> Home Value: $318794.43",
          "Miami-Fort Lauderdale, FL<br> Home Value: $293264.33",
          "Sacramento, CA<br> Home Value: $364712.54",
          "Seattle, WA<br> Home Value: $455249.85",
          "Salt Lake City, UT<br> Home Value: $340339.5",
          "Portland, OR<br> Home Value: $373044.13",
          "Denver, CO<br> Home Value: $317182.8",
          "Boston, MA<br> Home Value: $464321.3",
          "Las Vegas, NV<br> Home Value: $282457.92",
          "Phoenix, AZ<br> Home Value: $255138.44",
          "Austin, TX<br> Home Value: $275048.27",
          "Providence, RI<br> Home Value: $357100.39",
          "Orlando, FL<br> Home Value: $255470.95",
          "Nashville, TN<br> Home Value: $241547.46",
          "Washington, DC<br> Home Value: $465789.49",
          "Tampa, FL<br> Home Value: $219195.42",
          "Jacksonville, FL<br> Home Value: $255017.44",
          "Raleigh, NC<br> Home Value: $284942.8",
          "Charlotte, NC<br> Home Value: $231265.28",
          "New Orleans, LA<br> Home Value: $238707.21",
          "Dallas-Fort Worth, TX<br> Home Value: $195645.34",
          "Atlanta, GA<br> Home Value: $232429.96",
          "Virginia Beach, VA<br> Home Value: $315218.66",
          "San Antonio, TX<br> Home Value: $193546.32",
          "Minneapolis-St Paul, MN<br> Home Value: $290472.45",
          "Baltimore, MD<br> Home Value: $389148.15",
          "Houston, TX<br> Home Value: $195472.78",
          "Richmond, VA<br> Home Value: $284441.23",
          "Philadelphia, PA<br> Home Value: $306730.18",
          "Columbus, OH<br> Home Value: $201736.16",
          "Chicago, IL<br> Home Value: $313389.91",
          "Milwaukee, WI<br> Home Value: $227271.88",
          "Kansas City, MO<br> Home Value: $197935.85",
          "Louisville-Jefferson County, KY<br> Home Value: $182450.07",
          "Memphis, TN<br> Home Value: $168008.28",
          "Indianapolis, IN<br> Home Value: $174055.6",
          "Buffalo, NY<br> Home Value: $160467.47",
          "Hartford, CT<br> Home Value: $334711.61",
          "Detroit, MI<br> Home Value: $166727.68",
          "Cincinnati, OH<br> Home Value: $195270.59",
          "Birmingham, AL<br> Home Value: $195278.32",
          "St. Louis, MO<br> Home Value: $209623.24",
          "Oklahoma City, OK<br> Home Value: $163358.22",
          "Cleveland, OH<br> Home Value: $180547.53",
          "Pittsburgh, PA<br> Home Value: $153547.44"
         ],
         "lat": [
          34.108703000000006,
          36.908471999999996,
          37.773718,
          33.023604,
          40.77493,
          34.538476,
          26.101828,
          38.790271999999995,
          47.490552,
          40.572887,
          45.600621999999994,
          39.434789,
          42.517606,
          36.21413,
          33.185765,
          30.249744,
          41.70684,
          28.434396000000003,
          36.118182,
          38.798204999999996,
          28.120540999999996,
          30.236594,
          35.756746,
          35.166342,
          30.053420000000003,
          32.849171000000005,
          33.693728,
          36.804408,
          29.433059999999998,
          45.096664000000004,
          39.304361,
          29.749593,
          37.411324,
          39.894958,
          39.968562,
          41.823521,
          42.912643,
          38.931857,
          38.305838,
          35.024419,
          39.748670000000004,
          43.044371000000005,
          41.71865,
          42.721848,
          39.100546,
          33.402599,
          38.740210999999995,
          35.430968,
          41.555037,
          40.439525
         ],
         "lon": [
          -118.18275,
          -121.37137,
          -122.27443000000001,
          -116.77611999999999,
          -73.873758,
          -116.13453999999999,
          -80.478755,
          -121.00563999999999,
          -121.83398000000001,
          -112.95325,
          -122.48438,
          -104.90106999999999,
          -71.02199300000001,
          -115.0144,
          -112.06786000000001,
          -97.649842,
          -71.286687,
          -81.356084,
          -86.64412,
          -77.486882,
          -82.525188,
          -81.754446,
          -78.460441,
          -80.797285,
          -89.934502,
          -96.970489,
          -84.399911,
          -76.449526,
          -98.606973,
          -93.275361,
          -76.549501,
          -95.35364200000001,
          -77.441816,
          -75.311982,
          -82.835911,
          -87.82829699999999,
          -87.862312,
          -94.443841,
          -85.68164499999999,
          -89.871971,
          -86.21238199999999,
          -78.777335,
          -72.57391899999999,
          -83.200846,
          -84.47953299999999,
          -86.729515,
          -90.345825,
          -97.506966,
          -81.604957,
          -79.836097
         ],
         "marker": {
          "autocolorscale": false,
          "cmax": 1000000,
          "cmin": 146860.53,
          "color": [
           586060.96,
           849987.68,
           803222.47,
           519540.37,
           554552.03,
           318794.43,
           293264.33,
           364712.54,
           455249.85,
           340339.5,
           373044.13,
           317182.8,
           464321.3,
           282457.92,
           255138.44,
           275048.27,
           357100.39,
           255470.95,
           241547.46,
           465789.49,
           219195.42,
           255017.44,
           284942.8,
           231265.28,
           238707.21,
           195645.34,
           232429.96,
           315218.66,
           193546.32,
           290472.45,
           389148.15,
           195472.78,
           284441.23,
           306730.18,
           201736.16,
           313389.91,
           227271.88,
           197935.85,
           182450.07,
           168008.28,
           174055.6,
           160467.47,
           334711.61,
           166727.68,
           195270.59,
           195278.32,
           209623.24,
           163358.22,
           180547.53,
           153547.44
          ],
          "colorbar": {
           "title": {
            "text": "Home Values"
           }
          },
          "colorscale": [
           [
            0,
            "rgb(0,0,0)"
           ],
           [
            0.3333333333333333,
            "rgb(230,0,0)"
           ],
           [
            0.6666666666666666,
            "rgb(255,210,0)"
           ],
           [
            1,
            "rgb(255,255,255)"
           ]
          ],
          "opacity": 1,
          "reversescale": true,
          "size": 15,
          "symbol": "circle"
         },
         "mode": "markers",
         "name": "",
         "showlegend": false,
         "type": "scattergeo",
         "visible": false
        },
        {
         "hovertemplate": [
          "Los Angeles-Long Beach-Anaheim, CA<br> Home Value: $686422.02",
          "San Jose, CA<br> Home Value: $1214481.4",
          "San Francisco, CA<br> Home Value: $1096254.82",
          "San Diego, CA<br> Home Value: $611483.92",
          "New York, NY<br> Home Value: $497389.87",
          "Riverside, CA<br> Home Value: $378332.65",
          "Miami-Fort Lauderdale, FL<br> Home Value: $303540.12",
          "Sacramento, CA<br> Home Value: $423664.32",
          "Seattle, WA<br> Home Value: $505714.17",
          "Salt Lake City, UT<br> Home Value: $365049.56",
          "Portland, OR<br> Home Value: $431666.98",
          "Denver, CO<br> Home Value: $445446.6",
          "Boston, MA<br> Home Value: $505829.61",
          "Las Vegas, NV<br> Home Value: $265027.48",
          "Phoenix, AZ<br> Home Value: $268462.01",
          "Austin, TX<br> Home Value: $342111.56",
          "Providence, RI<br> Home Value: $321222.24",
          "Orlando, FL<br> Home Value: $247591.85",
          "Nashville, TN<br> Home Value: $277735.36",
          "Washington, DC<br> Home Value: $451071.39",
          "Tampa, FL<br> Home Value: $218188.57",
          "Jacksonville, FL<br> Home Value: $225892.74",
          "Raleigh, NC<br> Home Value: $284185.57",
          "Charlotte, NC<br> Home Value: $227499.59",
          "New Orleans, LA<br> Home Value: $221864.85",
          "Dallas-Fort Worth, TX<br> Home Value: $251030.48",
          "Atlanta, GA<br> Home Value: $229128.68",
          "Virginia Beach, VA<br> Home Value: $255611.53",
          "San Antonio, TX<br> Home Value: $211844.58",
          "Minneapolis-St Paul, MN<br> Home Value: $290556.26",
          "Baltimore, MD<br> Home Value: $315402.12",
          "Houston, TX<br> Home Value: $226105.19",
          "Richmond, VA<br> Home Value: $248230.04",
          "Philadelphia, PA<br> Home Value: $255434.8",
          "Columbus, OH<br> Home Value: $202052.57",
          "Chicago, IL<br> Home Value: $254724.34",
          "Milwaukee, WI<br> Home Value: $200055.88",
          "Kansas City, MO<br> Home Value: $199635.26",
          "Louisville-Jefferson County, KY<br> Home Value: $178404.95",
          "Memphis, TN<br> Home Value: $147424.57",
          "Indianapolis, IN<br> Home Value: $176673.54",
          "Buffalo, NY<br> Home Value: $171328.08",
          "Hartford, CT<br> Home Value: $259012.11",
          "Detroit, MI<br> Home Value: $175093.57",
          "Cincinnati, OH<br> Home Value: $183269.79",
          "Birmingham, AL<br> Home Value: $168744.09",
          "St. Louis, MO<br> Home Value: $184817.68",
          "Oklahoma City, OK<br> Home Value: $164863.36",
          "Cleveland, OH<br> Home Value: $156132.94",
          "Pittsburgh, PA<br> Home Value: $162173.23"
         ],
         "lat": [
          34.108703000000006,
          36.908471999999996,
          37.773718,
          33.023604,
          40.77493,
          34.538476,
          26.101828,
          38.790271999999995,
          47.490552,
          40.572887,
          45.600621999999994,
          39.434789,
          42.517606,
          36.21413,
          33.185765,
          30.249744,
          41.70684,
          28.434396000000003,
          36.118182,
          38.798204999999996,
          28.120540999999996,
          30.236594,
          35.756746,
          35.166342,
          30.053420000000003,
          32.849171000000005,
          33.693728,
          36.804408,
          29.433059999999998,
          45.096664000000004,
          39.304361,
          29.749593,
          37.411324,
          39.894958,
          39.968562,
          41.823521,
          42.912643,
          38.931857,
          38.305838,
          35.024419,
          39.748670000000004,
          43.044371000000005,
          41.71865,
          42.721848,
          39.100546,
          33.402599,
          38.740210999999995,
          35.430968,
          41.555037,
          40.439525
         ],
         "lon": [
          -118.18275,
          -121.37137,
          -122.27443000000001,
          -116.77611999999999,
          -73.873758,
          -116.13453999999999,
          -80.478755,
          -121.00563999999999,
          -121.83398000000001,
          -112.95325,
          -122.48438,
          -104.90106999999999,
          -71.02199300000001,
          -115.0144,
          -112.06786000000001,
          -97.649842,
          -71.286687,
          -81.356084,
          -86.64412,
          -77.486882,
          -82.525188,
          -81.754446,
          -78.460441,
          -80.797285,
          -89.934502,
          -96.970489,
          -84.399911,
          -76.449526,
          -98.606973,
          -93.275361,
          -76.549501,
          -95.35364200000001,
          -77.441816,
          -75.311982,
          -82.835911,
          -87.82829699999999,
          -87.862312,
          -94.443841,
          -85.68164499999999,
          -89.871971,
          -86.21238199999999,
          -78.777335,
          -72.57391899999999,
          -83.200846,
          -84.47953299999999,
          -86.729515,
          -90.345825,
          -97.506966,
          -81.604957,
          -79.836097
         ],
         "marker": {
          "autocolorscale": false,
          "cmax": 1000000,
          "cmin": 146860.53,
          "color": [
           686422.02,
           1214481.4,
           1096254.82,
           611483.92,
           497389.87,
           378332.65,
           303540.12,
           423664.32,
           505714.17,
           365049.56,
           431666.98,
           445446.6,
           505829.61,
           265027.48,
           268462.01,
           342111.56,
           321222.24,
           247591.85,
           277735.36,
           451071.39,
           218188.57,
           225892.74,
           284185.57,
           227499.59,
           221864.85,
           251030.48,
           229128.68,
           255611.53,
           211844.58,
           290556.26,
           315402.12,
           226105.19,
           248230.04,
           255434.8,
           202052.57,
           254724.34,
           200055.88,
           199635.26,
           178404.95,
           147424.57,
           176673.54,
           171328.08,
           259012.11,
           175093.57,
           183269.79,
           168744.09,
           184817.68,
           164863.36,
           156132.94,
           162173.23
          ],
          "colorbar": {
           "title": {
            "text": "Home Values"
           }
          },
          "colorscale": [
           [
            0,
            "rgb(0,0,0)"
           ],
           [
            0.3333333333333333,
            "rgb(230,0,0)"
           ],
           [
            0.6666666666666666,
            "rgb(255,210,0)"
           ],
           [
            1,
            "rgb(255,255,255)"
           ]
          ],
          "opacity": 1,
          "reversescale": true,
          "size": 15,
          "symbol": "circle"
         },
         "mode": "markers",
         "name": "",
         "showlegend": false,
         "type": "scattergeo",
         "visible": false
        },
        {
         "hovertemplate": [
          "Los Angeles-Long Beach-Anaheim, CA<br> Home Value: $716126.23",
          "San Jose, CA<br> Home Value: $1418048.51",
          "San Francisco, CA<br> Home Value: $1202123.02",
          "San Diego, CA<br> Home Value: $638052.71",
          "New York, NY<br> Home Value: $511551.58",
          "Riverside, CA<br> Home Value: $397718.16",
          "Miami-Fort Lauderdale, FL<br> Home Value: $314646.75",
          "Sacramento, CA<br> Home Value: $443039.15",
          "Seattle, WA<br> Home Value: $550471.26",
          "Salt Lake City, UT<br> Home Value: $388317.48",
          "Portland, OR<br> Home Value: $444176.18",
          "Denver, CO<br> Home Value: $466735.97",
          "Boston, MA<br> Home Value: $523874.97",
          "Las Vegas, NV<br> Home Value: $299947.49",
          "Phoenix, AZ<br> Home Value: $281507.88",
          "Austin, TX<br> Home Value: $347862.92",
          "Providence, RI<br> Home Value: $334737.48",
          "Orlando, FL<br> Home Value: $261958.44",
          "Nashville, TN<br> Home Value: $294559.28",
          "Washington, DC<br> Home Value: $455895.3",
          "Tampa, FL<br> Home Value: $231543.21",
          "Jacksonville, FL<br> Home Value: $238415.96",
          "Raleigh, NC<br> Home Value: $292456.33",
          "Charlotte, NC<br> Home Value: $240983.18",
          "New Orleans, LA<br> Home Value: $220129.04",
          "Dallas-Fort Worth, TX<br> Home Value: $265112.87",
          "Atlanta, GA<br> Home Value: $244353.54",
          "Virginia Beach, VA<br> Home Value: $255510.5",
          "San Antonio, TX<br> Home Value: $216692.08",
          "Minneapolis-St Paul, MN<br> Home Value: $302928.54",
          "Baltimore, MD<br> Home Value: $317111.35",
          "Houston, TX<br> Home Value: $228937.97",
          "Richmond, VA<br> Home Value: $254261.68",
          "Philadelphia, PA<br> Home Value: $260988.9",
          "Columbus, OH<br> Home Value: $213056.87",
          "Chicago, IL<br> Home Value: $259364.27",
          "Milwaukee, WI<br> Home Value: $207933.77",
          "Kansas City, MO<br> Home Value: $211112.24",
          "Louisville-Jefferson County, KY<br> Home Value: $185245.24",
          "Memphis, TN<br> Home Value: $154432.34",
          "Indianapolis, IN<br> Home Value: $185627.03",
          "Buffalo, NY<br> Home Value: $178468.48",
          "Hartford, CT<br> Home Value: $258020.19",
          "Detroit, MI<br> Home Value: $185898.5",
          "Cincinnati, OH<br> Home Value: $189682.96",
          "Birmingham, AL<br> Home Value: $172409.95",
          "St. Louis, MO<br> Home Value: $188150.79",
          "Oklahoma City, OK<br> Home Value: $164601.23",
          "Cleveland, OH<br> Home Value: $161591.79",
          "Pittsburgh, PA<br> Home Value: $166728.86"
         ],
         "lat": [
          34.108703000000006,
          36.908471999999996,
          37.773718,
          33.023604,
          40.77493,
          34.538476,
          26.101828,
          38.790271999999995,
          47.490552,
          40.572887,
          45.600621999999994,
          39.434789,
          42.517606,
          36.21413,
          33.185765,
          30.249744,
          41.70684,
          28.434396000000003,
          36.118182,
          38.798204999999996,
          28.120540999999996,
          30.236594,
          35.756746,
          35.166342,
          30.053420000000003,
          32.849171000000005,
          33.693728,
          36.804408,
          29.433059999999998,
          45.096664000000004,
          39.304361,
          29.749593,
          37.411324,
          39.894958,
          39.968562,
          41.823521,
          42.912643,
          38.931857,
          38.305838,
          35.024419,
          39.748670000000004,
          43.044371000000005,
          41.71865,
          42.721848,
          39.100546,
          33.402599,
          38.740210999999995,
          35.430968,
          41.555037,
          40.439525
         ],
         "lon": [
          -118.18275,
          -121.37137,
          -122.27443000000001,
          -116.77611999999999,
          -73.873758,
          -116.13453999999999,
          -80.478755,
          -121.00563999999999,
          -121.83398000000001,
          -112.95325,
          -122.48438,
          -104.90106999999999,
          -71.02199300000001,
          -115.0144,
          -112.06786000000001,
          -97.649842,
          -71.286687,
          -81.356084,
          -86.64412,
          -77.486882,
          -82.525188,
          -81.754446,
          -78.460441,
          -80.797285,
          -89.934502,
          -96.970489,
          -84.399911,
          -76.449526,
          -98.606973,
          -93.275361,
          -76.549501,
          -95.35364200000001,
          -77.441816,
          -75.311982,
          -82.835911,
          -87.82829699999999,
          -87.862312,
          -94.443841,
          -85.68164499999999,
          -89.871971,
          -86.21238199999999,
          -78.777335,
          -72.57391899999999,
          -83.200846,
          -84.47953299999999,
          -86.729515,
          -90.345825,
          -97.506966,
          -81.604957,
          -79.836097
         ],
         "marker": {
          "autocolorscale": false,
          "cmax": 1000000,
          "cmin": 146860.53,
          "color": [
           716126.23,
           1418048.51,
           1202123.02,
           638052.71,
           511551.58,
           397718.16,
           314646.75,
           443039.15,
           550471.26,
           388317.48,
           444176.18,
           466735.97,
           523874.97,
           299947.49,
           281507.88,
           347862.92,
           334737.48,
           261958.44,
           294559.28,
           455895.3,
           231543.21,
           238415.96,
           292456.33,
           240983.18,
           220129.04,
           265112.87,
           244353.54,
           255510.5,
           216692.08,
           302928.54,
           317111.35,
           228937.97,
           254261.68,
           260988.9,
           213056.87,
           259364.27,
           207933.77,
           211112.24,
           185245.24,
           154432.34,
           185627.03,
           178468.48,
           258020.19,
           185898.5,
           189682.96,
           172409.95,
           188150.79,
           164601.23,
           161591.79,
           166728.86
          ],
          "colorbar": {
           "title": {
            "text": "Home Values"
           }
          },
          "colorscale": [
           [
            0,
            "rgb(0,0,0)"
           ],
           [
            0.3333333333333333,
            "rgb(230,0,0)"
           ],
           [
            0.6666666666666666,
            "rgb(255,210,0)"
           ],
           [
            1,
            "rgb(255,255,255)"
           ]
          ],
          "opacity": 1,
          "reversescale": true,
          "size": 15,
          "symbol": "circle"
         },
         "mode": "markers",
         "name": "",
         "showlegend": false,
         "type": "scattergeo",
         "visible": false
        },
        {
         "hovertemplate": [
          "Los Angeles-Long Beach-Anaheim, CA<br> Home Value: $712292.19",
          "San Jose, CA<br> Home Value: $1299917.64",
          "San Francisco, CA<br> Home Value: $1181910.57",
          "San Diego, CA<br> Home Value: $636000.73",
          "New York, NY<br> Home Value: $515844.78",
          "Riverside, CA<br> Home Value: $405639.15",
          "Miami-Fort Lauderdale, FL<br> Home Value: $321377.01",
          "Sacramento, CA<br> Home Value: $448693.57",
          "Seattle, WA<br> Home Value: $547332.12",
          "Salt Lake City, UT<br> Home Value: $411500.09",
          "Portland, OR<br> Home Value: $446516.96",
          "Denver, CO<br> Home Value: $475472.63",
          "Boston, MA<br> Home Value: $526810.52",
          "Las Vegas, NV<br> Home Value: $312951.68",
          "Phoenix, AZ<br> Home Value: $293491.95",
          "Austin, TX<br> Home Value: $356930.48",
          "Providence, RI<br> Home Value: $339220.18",
          "Orlando, FL<br> Home Value: $273075.12",
          "Nashville, TN<br> Home Value: $302186.74",
          "Washington, DC<br> Home Value: $462706.19",
          "Tampa, FL<br> Home Value: $240450.11",
          "Jacksonville, FL<br> Home Value: $246389.15",
          "Raleigh, NC<br> Home Value: $301886.88",
          "Charlotte, NC<br> Home Value: $252093.51",
          "New Orleans, LA<br> Home Value: $218970.78",
          "Dallas-Fort Worth, TX<br> Home Value: $272090.11",
          "Atlanta, GA<br> Home Value: $256014.65",
          "Virginia Beach, VA<br> Home Value: $258904.68",
          "San Antonio, TX<br> Home Value: $223543.36",
          "Minneapolis-St Paul, MN<br> Home Value: $311129.77",
          "Baltimore, MD<br> Home Value: $316563.6",
          "Houston, TX<br> Home Value: $233476.39",
          "Richmond, VA<br> Home Value: $261694.4",
          "Philadelphia, PA<br> Home Value: $266163.01",
          "Columbus, OH<br> Home Value: $223980.09",
          "Chicago, IL<br> Home Value: $260303.24",
          "Milwaukee, WI<br> Home Value: $213839.31",
          "Kansas City, MO<br> Home Value: $218171.32",
          "Louisville-Jefferson County, KY<br> Home Value: $190004.85",
          "Memphis, TN<br> Home Value: $163511.31",
          "Indianapolis, IN<br> Home Value: $194484.26",
          "Buffalo, NY<br> Home Value: $185470.7",
          "Hartford, CT<br> Home Value: $255691.34",
          "Detroit, MI<br> Home Value: $193062.78",
          "Cincinnati, OH<br> Home Value: $197733.27",
          "Birmingham, AL<br> Home Value: $178689.05",
          "St. Louis, MO<br> Home Value: $192974.42",
          "Oklahoma City, OK<br> Home Value: $167292.99",
          "Cleveland, OH<br> Home Value: $166845.74",
          "Pittsburgh, PA<br> Home Value: $171531.83"
         ],
         "lat": [
          34.108703000000006,
          36.908471999999996,
          37.773718,
          33.023604,
          40.77493,
          34.538476,
          26.101828,
          38.790271999999995,
          47.490552,
          40.572887,
          45.600621999999994,
          39.434789,
          42.517606,
          36.21413,
          33.185765,
          30.249744,
          41.70684,
          28.434396000000003,
          36.118182,
          38.798204999999996,
          28.120540999999996,
          30.236594,
          35.756746,
          35.166342,
          30.053420000000003,
          32.849171000000005,
          33.693728,
          36.804408,
          29.433059999999998,
          45.096664000000004,
          39.304361,
          29.749593,
          37.411324,
          39.894958,
          39.968562,
          41.823521,
          42.912643,
          38.931857,
          38.305838,
          35.024419,
          39.748670000000004,
          43.044371000000005,
          41.71865,
          42.721848,
          39.100546,
          33.402599,
          38.740210999999995,
          35.430968,
          41.555037,
          40.439525
         ],
         "lon": [
          -118.18275,
          -121.37137,
          -122.27443000000001,
          -116.77611999999999,
          -73.873758,
          -116.13453999999999,
          -80.478755,
          -121.00563999999999,
          -121.83398000000001,
          -112.95325,
          -122.48438,
          -104.90106999999999,
          -71.02199300000001,
          -115.0144,
          -112.06786000000001,
          -97.649842,
          -71.286687,
          -81.356084,
          -86.64412,
          -77.486882,
          -82.525188,
          -81.754446,
          -78.460441,
          -80.797285,
          -89.934502,
          -96.970489,
          -84.399911,
          -76.449526,
          -98.606973,
          -93.275361,
          -76.549501,
          -95.35364200000001,
          -77.441816,
          -75.311982,
          -82.835911,
          -87.82829699999999,
          -87.862312,
          -94.443841,
          -85.68164499999999,
          -89.871971,
          -86.21238199999999,
          -78.777335,
          -72.57391899999999,
          -83.200846,
          -84.47953299999999,
          -86.729515,
          -90.345825,
          -97.506966,
          -81.604957,
          -79.836097
         ],
         "marker": {
          "autocolorscale": false,
          "cmax": 1000000,
          "cmin": 146860.53,
          "color": [
           712292.19,
           1299917.64,
           1181910.57,
           636000.73,
           515844.78,
           405639.15,
           321377.01,
           448693.57,
           547332.12,
           411500.09,
           446516.96,
           475472.63,
           526810.52,
           312951.68,
           293491.95,
           356930.48,
           339220.18,
           273075.12,
           302186.74,
           462706.19,
           240450.11,
           246389.15,
           301886.88,
           252093.51,
           218970.78,
           272090.11,
           256014.65,
           258904.68,
           223543.36,
           311129.77,
           316563.6,
           233476.39,
           261694.4,
           266163.01,
           223980.09,
           260303.24,
           213839.31,
           218171.32,
           190004.85,
           163511.31,
           194484.26,
           185470.7,
           255691.34,
           193062.78,
           197733.27,
           178689.05,
           192974.42,
           167292.99,
           166845.74,
           171531.83
          ],
          "colorbar": {
           "title": {
            "text": "Home Values"
           }
          },
          "colorscale": [
           [
            0,
            "rgb(0,0,0)"
           ],
           [
            0.3333333333333333,
            "rgb(230,0,0)"
           ],
           [
            0.6666666666666666,
            "rgb(255,210,0)"
           ],
           [
            1,
            "rgb(255,255,255)"
           ]
          ],
          "opacity": 1,
          "reversescale": true,
          "size": 15,
          "symbol": "circle"
         },
         "mode": "markers",
         "name": "",
         "showlegend": false,
         "type": "scattergeo",
         "visible": false
        },
        {
         "hovertemplate": [
          "Los Angeles-Long Beach-Anaheim, CA<br> Home Value: $741985.93",
          "San Jose, CA<br> Home Value: $1321579.07",
          "San Francisco, CA<br> Home Value: $1197966.31",
          "San Diego, CA<br> Home Value: $668783.83",
          "New York, NY<br> Home Value: $522039.89",
          "Riverside, CA<br> Home Value: $421703.54",
          "Miami-Fort Lauderdale, FL<br> Home Value: $330010.85",
          "Sacramento, CA<br> Home Value: $470116.36",
          "Seattle, WA<br> Home Value: $584208.19",
          "Salt Lake City, UT<br> Home Value: $436582.3",
          "Portland, OR<br> Home Value: $461745.31",
          "Denver, CO<br> Home Value: $489865.52",
          "Boston, MA<br> Home Value: $543570.64",
          "Las Vegas, NV<br> Home Value: $319988.82",
          "Phoenix, AZ<br> Home Value: $319549.92",
          "Austin, TX<br> Home Value: $374882.85",
          "Providence, RI<br> Home Value: $353395.78",
          "Orlando, FL<br> Home Value: $283592.25",
          "Nashville, TN<br> Home Value: $315172.69",
          "Washington, DC<br> Home Value: $477791.32",
          "Tampa, FL<br> Home Value: $253356.35",
          "Jacksonville, FL<br> Home Value: $255980.0",
          "Raleigh, NC<br> Home Value: $311132.19",
          "Charlotte, NC<br> Home Value: $267176.31",
          "New Orleans, LA<br> Home Value: $227988.65",
          "Dallas-Fort Worth, TX<br> Home Value: $279107.82",
          "Atlanta, GA<br> Home Value: $267410.69",
          "Virginia Beach, VA<br> Home Value: $267344.36",
          "San Antonio, TX<br> Home Value: $228692.05",
          "Minneapolis-St Paul, MN<br> Home Value: $323289.1",
          "Baltimore, MD<br> Home Value: $321685.42",
          "Houston, TX<br> Home Value: $238323.36",
          "Richmond, VA<br> Home Value: $270723.65",
          "Philadelphia, PA<br> Home Value: $275794.6",
          "Columbus, OH<br> Home Value: $236726.29",
          "Chicago, IL<br> Home Value: $262765.6",
          "Milwaukee, WI<br> Home Value: $226093.51",
          "Kansas City, MO<br> Home Value: $228063.87",
          "Louisville-Jefferson County, KY<br> Home Value: $199937.4",
          "Memphis, TN<br> Home Value: $174491.31",
          "Indianapolis, IN<br> Home Value: $205721.63",
          "Buffalo, NY<br> Home Value: $194209.81",
          "Hartford, CT<br> Home Value: $261168.36",
          "Detroit, MI<br> Home Value: $200753.38",
          "Cincinnati, OH<br> Home Value: $208234.73",
          "Birmingham, AL<br> Home Value: $189838.66",
          "St. Louis, MO<br> Home Value: $199256.9",
          "Oklahoma City, OK<br> Home Value: $175043.92",
          "Cleveland, OH<br> Home Value: $175592.66",
          "Pittsburgh, PA<br> Home Value: $178618.04"
         ],
         "lat": [
          34.108703000000006,
          36.908471999999996,
          37.773718,
          33.023604,
          40.77493,
          34.538476,
          26.101828,
          38.790271999999995,
          47.490552,
          40.572887,
          45.600621999999994,
          39.434789,
          42.517606,
          36.21413,
          33.185765,
          30.249744,
          41.70684,
          28.434396000000003,
          36.118182,
          38.798204999999996,
          28.120540999999996,
          30.236594,
          35.756746,
          35.166342,
          30.053420000000003,
          32.849171000000005,
          33.693728,
          36.804408,
          29.433059999999998,
          45.096664000000004,
          39.304361,
          29.749593,
          37.411324,
          39.894958,
          39.968562,
          41.823521,
          42.912643,
          38.931857,
          38.305838,
          35.024419,
          39.748670000000004,
          43.044371000000005,
          41.71865,
          42.721848,
          39.100546,
          33.402599,
          38.740210999999995,
          35.430968,
          41.555037,
          40.439525
         ],
         "lon": [
          -118.18275,
          -121.37137,
          -122.27443000000001,
          -116.77611999999999,
          -73.873758,
          -116.13453999999999,
          -80.478755,
          -121.00563999999999,
          -121.83398000000001,
          -112.95325,
          -122.48438,
          -104.90106999999999,
          -71.02199300000001,
          -115.0144,
          -112.06786000000001,
          -97.649842,
          -71.286687,
          -81.356084,
          -86.64412,
          -77.486882,
          -82.525188,
          -81.754446,
          -78.460441,
          -80.797285,
          -89.934502,
          -96.970489,
          -84.399911,
          -76.449526,
          -98.606973,
          -93.275361,
          -76.549501,
          -95.35364200000001,
          -77.441816,
          -75.311982,
          -82.835911,
          -87.82829699999999,
          -87.862312,
          -94.443841,
          -85.68164499999999,
          -89.871971,
          -86.21238199999999,
          -78.777335,
          -72.57391899999999,
          -83.200846,
          -84.47953299999999,
          -86.729515,
          -90.345825,
          -97.506966,
          -81.604957,
          -79.836097
         ],
         "marker": {
          "autocolorscale": false,
          "cmax": 1000000,
          "cmin": 146860.53,
          "color": [
           741985.93,
           1321579.07,
           1197966.31,
           668783.83,
           522039.89,
           421703.54,
           330010.85,
           470116.36,
           584208.19,
           436582.3,
           461745.31,
           489865.52,
           543570.64,
           319988.82,
           319549.92,
           374882.85,
           353395.78,
           283592.25,
           315172.69,
           477791.32,
           253356.35,
           255980,
           311132.19,
           267176.31,
           227988.65,
           279107.82,
           267410.69,
           267344.36,
           228692.05,
           323289.1,
           321685.42,
           238323.36,
           270723.65,
           275794.6,
           236726.29,
           262765.6,
           226093.51,
           228063.87,
           199937.4,
           174491.31,
           205721.63,
           194209.81,
           261168.36,
           200753.38,
           208234.73,
           189838.66,
           199256.9,
           175043.92,
           175592.66,
           178618.04
          ],
          "colorbar": {
           "title": {
            "text": "Home Values"
           }
          },
          "colorscale": [
           [
            0,
            "rgb(0,0,0)"
           ],
           [
            0.3333333333333333,
            "rgb(230,0,0)"
           ],
           [
            0.6666666666666666,
            "rgb(255,210,0)"
           ],
           [
            1,
            "rgb(255,255,255)"
           ]
          ],
          "opacity": 1,
          "reversescale": true,
          "size": 15,
          "symbol": "circle"
         },
         "mode": "markers",
         "name": "",
         "showlegend": false,
         "type": "scattergeo",
         "visible": false
        },
        {
         "hovertemplate": [
          "Los Angeles-Long Beach-Anaheim, CA<br> Home Value: $782544.13",
          "San Jose, CA<br> Home Value: $1375589.13",
          "San Francisco, CA<br> Home Value: $1241393.75",
          "San Diego, CA<br> Home Value: $737627.0",
          "New York, NY<br> Home Value: $538411.88",
          "Riverside, CA<br> Home Value: $462764.75",
          "Miami-Fort Lauderdale, FL<br> Home Value: $342684.25",
          "Sacramento, CA<br> Home Value: $511088.75",
          "Seattle, WA<br> Home Value: $633612.63",
          "Salt Lake City, UT<br> Home Value: $485813.38",
          "Portland, OR<br> Home Value: $492073.0",
          "Denver, CO<br> Home Value: $523841.38",
          "Boston, MA<br> Home Value: $570860.0",
          "Las Vegas, NV<br> Home Value: $340183.75",
          "Phoenix, AZ<br> Home Value: $364889.63",
          "Austin, TX<br> Home Value: $446495.0",
          "Providence, RI<br> Home Value: $380446.63",
          "Orlando, FL<br> Home Value: $293443.63",
          "Nashville, TN<br> Home Value: $331279.25",
          "Washington, DC<br> Home Value: $497567.0",
          "Tampa, FL<br> Home Value: $277811.38",
          "Jacksonville, FL<br> Home Value: $272898.75",
          "Raleigh, NC<br> Home Value: $332681.0",
          "Charlotte, NC<br> Home Value: $287798.0",
          "New Orleans, LA<br> Home Value: $233930.0",
          "Dallas-Fort Worth, TX<br> Home Value: $295866.88",
          "Atlanta, GA<br> Home Value: $286059.75",
          "Virginia Beach, VA<br> Home Value: $276437.25",
          "San Antonio, TX<br> Home Value: $239180.0",
          "Minneapolis-St Paul, MN<br> Home Value: $335376.88",
          "Baltimore, MD<br> Home Value: $333903.38",
          "Houston, TX<br> Home Value: $247077.38",
          "Richmond, VA<br> Home Value: $280618.38",
          "Philadelphia, PA<br> Home Value: $291746.88",
          "Columbus, OH<br> Home Value: $249520.75",
          "Chicago, IL<br> Home Value: $270083.38",
          "Milwaukee, WI<br> Home Value: $240852.13",
          "Kansas City, MO<br> Home Value: $243549.71",
          "Louisville-Jefferson County, KY<br> Home Value: $207317.88",
          "Memphis, TN<br> Home Value: $184920.88",
          "Indianapolis, IN<br> Home Value: $218530.5",
          "Buffalo, NY<br> Home Value: $209999.14",
          "Hartford, CT<br> Home Value: $276637.38",
          "Detroit, MI<br> Home Value: $212159.75",
          "Cincinnati, OH<br> Home Value: $221436.0",
          "Birmingham, AL<br> Home Value: $197415.63",
          "St. Louis, MO<br> Home Value: $208660.63",
          "Oklahoma City, OK<br> Home Value: $179581.5",
          "Cleveland, OH<br> Home Value: $186535.38",
          "Pittsburgh, PA<br> Home Value: $190081.43"
         ],
         "lat": [
          34.108703000000006,
          36.908471999999996,
          37.773718,
          33.023604,
          40.77493,
          34.538476,
          26.101828,
          38.790271999999995,
          47.490552,
          40.572887,
          45.600621999999994,
          39.434789,
          42.517606,
          36.21413,
          33.185765,
          30.249744,
          41.70684,
          28.434396000000003,
          36.118182,
          38.798204999999996,
          28.120540999999996,
          30.236594,
          35.756746,
          35.166342,
          30.053420000000003,
          32.849171000000005,
          33.693728,
          36.804408,
          29.433059999999998,
          45.096664000000004,
          39.304361,
          29.749593,
          37.411324,
          39.894958,
          39.968562,
          41.823521,
          42.912643,
          38.931857,
          38.305838,
          35.024419,
          39.748670000000004,
          43.044371000000005,
          41.71865,
          42.721848,
          39.100546,
          33.402599,
          38.740210999999995,
          35.430968,
          41.555037,
          40.439525
         ],
         "lon": [
          -118.18275,
          -121.37137,
          -122.27443000000001,
          -116.77611999999999,
          -73.873758,
          -116.13453999999999,
          -80.478755,
          -121.00563999999999,
          -121.83398000000001,
          -112.95325,
          -122.48438,
          -104.90106999999999,
          -71.02199300000001,
          -115.0144,
          -112.06786000000001,
          -97.649842,
          -71.286687,
          -81.356084,
          -86.64412,
          -77.486882,
          -82.525188,
          -81.754446,
          -78.460441,
          -80.797285,
          -89.934502,
          -96.970489,
          -84.399911,
          -76.449526,
          -98.606973,
          -93.275361,
          -76.549501,
          -95.35364200000001,
          -77.441816,
          -75.311982,
          -82.835911,
          -87.82829699999999,
          -87.862312,
          -94.443841,
          -85.68164499999999,
          -89.871971,
          -86.21238199999999,
          -78.777335,
          -72.57391899999999,
          -83.200846,
          -84.47953299999999,
          -86.729515,
          -90.345825,
          -97.506966,
          -81.604957,
          -79.836097
         ],
         "marker": {
          "autocolorscale": false,
          "cmax": 1000000,
          "cmin": 146860.53,
          "color": [
           782544.13,
           1375589.13,
           1241393.75,
           737627,
           538411.88,
           462764.75,
           342684.25,
           511088.75,
           633612.63,
           485813.38,
           492073,
           523841.38,
           570860,
           340183.75,
           364889.63,
           446495,
           380446.63,
           293443.63,
           331279.25,
           497567,
           277811.38,
           272898.75,
           332681,
           287798,
           233930,
           295866.88,
           286059.75,
           276437.25,
           239180,
           335376.88,
           333903.38,
           247077.38,
           280618.38,
           291746.88,
           249520.75,
           270083.38,
           240852.13,
           243549.71,
           207317.88,
           184920.88,
           218530.5,
           209999.14,
           276637.38,
           212159.75,
           221436,
           197415.63,
           208660.63,
           179581.5,
           186535.38,
           190081.43
          ],
          "colorbar": {
           "title": {
            "text": "Home Values"
           }
          },
          "colorscale": [
           [
            0,
            "rgb(0,0,0)"
           ],
           [
            0.3333333333333333,
            "rgb(230,0,0)"
           ],
           [
            0.6666666666666666,
            "rgb(255,210,0)"
           ],
           [
            1,
            "rgb(255,255,255)"
           ]
          ],
          "opacity": 1,
          "reversescale": true,
          "size": 15,
          "symbol": "circle"
         },
         "mode": "markers",
         "name": "",
         "showlegend": false,
         "type": "scattergeo",
         "visible": false
        }
       ],
       "layout": {
        "geo": {
         "projection": {
          "type": "albers usa"
         },
         "scope": "usa",
         "showland": true
        },
        "sliders": [
         {
          "active": 0,
          "currentvalue": {
           "prefix": "Date: "
          },
          "pad": {
           "t": 1
          },
          "steps": [
           {
            "args": [
             {
              "visible": [
               true,
               false,
               false,
               false,
               false,
               false,
               false
              ]
             },
             {
              "title": "<b>Home Values by Metro</b> <br><i>2000 Average: 271706.73</i>"
             }
            ],
            "label": "Year 2000",
            "method": "restyle"
           },
           {
            "args": [
             {
              "visible": [
               false,
               true,
               false,
               false,
               false,
               false,
               false
              ]
             },
             {
              "title": "<b>Home Values by Metro</b> <br><i>2008 Average: 304588.77</i>"
             }
            ],
            "label": "Year 2008",
            "method": "restyle"
           },
           {
            "args": [
             {
              "visible": [
               false,
               false,
               true,
               false,
               false,
               false,
               false
              ]
             },
             {
              "title": "<b>Home Values by Metro</b> <br><i>2017 Average: 321677.58</i>"
             }
            ],
            "label": "Year 2017",
            "method": "restyle"
           },
           {
            "args": [
             {
              "visible": [
               false,
               false,
               false,
               true,
               false,
               false,
               false
              ]
             },
             {
              "title": "<b>Home Values by Metro</b> <br><i>2018 Average: 338862.01</i>"
             }
            ],
            "label": "Year 2018",
            "method": "restyle"
           },
           {
            "args": [
             {
              "visible": [
               false,
               false,
               false,
               false,
               true,
               false,
               false
              ]
             },
             {
              "title": "<b>Home Values by Metro</b> <br><i>2019 Average: 342056.54</i>"
             }
            ],
            "label": "Year 2019",
            "method": "restyle"
           },
           {
            "args": [
             {
              "visible": [
               false,
               false,
               false,
               false,
               false,
               true,
               false
              ]
             },
             {
              "title": "<b>Home Values by Metro</b> <br><i>2020 Average: 354781.04</i>"
             }
            ],
            "label": "Year 2020",
            "method": "restyle"
           },
           {
            "args": [
             {
              "visible": [
               false,
               false,
               false,
               false,
               false,
               false,
               true
              ]
             },
             {
              "title": "<b>Home Values by Metro</b> <br><i>2021 Average: 376825.54</i>"
             }
            ],
            "label": "Year 2021",
            "method": "restyle"
           }
          ]
         }
        ],
        "template": {
         "data": {
          "bar": [
           {
            "error_x": {
             "color": "#2a3f5f"
            },
            "error_y": {
             "color": "#2a3f5f"
            },
            "marker": {
             "line": {
              "color": "#E5ECF6",
              "width": 0.5
             }
            },
            "type": "bar"
           }
          ],
          "barpolar": [
           {
            "marker": {
             "line": {
              "color": "#E5ECF6",
              "width": 0.5
             }
            },
            "type": "barpolar"
           }
          ],
          "carpet": [
           {
            "aaxis": {
             "endlinecolor": "#2a3f5f",
             "gridcolor": "white",
             "linecolor": "white",
             "minorgridcolor": "white",
             "startlinecolor": "#2a3f5f"
            },
            "baxis": {
             "endlinecolor": "#2a3f5f",
             "gridcolor": "white",
             "linecolor": "white",
             "minorgridcolor": "white",
             "startlinecolor": "#2a3f5f"
            },
            "type": "carpet"
           }
          ],
          "choropleth": [
           {
            "colorbar": {
             "outlinewidth": 0,
             "ticks": ""
            },
            "type": "choropleth"
           }
          ],
          "contour": [
           {
            "colorbar": {
             "outlinewidth": 0,
             "ticks": ""
            },
            "colorscale": [
             [
              0,
              "#0d0887"
             ],
             [
              0.1111111111111111,
              "#46039f"
             ],
             [
              0.2222222222222222,
              "#7201a8"
             ],
             [
              0.3333333333333333,
              "#9c179e"
             ],
             [
              0.4444444444444444,
              "#bd3786"
             ],
             [
              0.5555555555555556,
              "#d8576b"
             ],
             [
              0.6666666666666666,
              "#ed7953"
             ],
             [
              0.7777777777777778,
              "#fb9f3a"
             ],
             [
              0.8888888888888888,
              "#fdca26"
             ],
             [
              1,
              "#f0f921"
             ]
            ],
            "type": "contour"
           }
          ],
          "contourcarpet": [
           {
            "colorbar": {
             "outlinewidth": 0,
             "ticks": ""
            },
            "type": "contourcarpet"
           }
          ],
          "heatmap": [
           {
            "colorbar": {
             "outlinewidth": 0,
             "ticks": ""
            },
            "colorscale": [
             [
              0,
              "#0d0887"
             ],
             [
              0.1111111111111111,
              "#46039f"
             ],
             [
              0.2222222222222222,
              "#7201a8"
             ],
             [
              0.3333333333333333,
              "#9c179e"
             ],
             [
              0.4444444444444444,
              "#bd3786"
             ],
             [
              0.5555555555555556,
              "#d8576b"
             ],
             [
              0.6666666666666666,
              "#ed7953"
             ],
             [
              0.7777777777777778,
              "#fb9f3a"
             ],
             [
              0.8888888888888888,
              "#fdca26"
             ],
             [
              1,
              "#f0f921"
             ]
            ],
            "type": "heatmap"
           }
          ],
          "heatmapgl": [
           {
            "colorbar": {
             "outlinewidth": 0,
             "ticks": ""
            },
            "colorscale": [
             [
              0,
              "#0d0887"
             ],
             [
              0.1111111111111111,
              "#46039f"
             ],
             [
              0.2222222222222222,
              "#7201a8"
             ],
             [
              0.3333333333333333,
              "#9c179e"
             ],
             [
              0.4444444444444444,
              "#bd3786"
             ],
             [
              0.5555555555555556,
              "#d8576b"
             ],
             [
              0.6666666666666666,
              "#ed7953"
             ],
             [
              0.7777777777777778,
              "#fb9f3a"
             ],
             [
              0.8888888888888888,
              "#fdca26"
             ],
             [
              1,
              "#f0f921"
             ]
            ],
            "type": "heatmapgl"
           }
          ],
          "histogram": [
           {
            "marker": {
             "colorbar": {
              "outlinewidth": 0,
              "ticks": ""
             }
            },
            "type": "histogram"
           }
          ],
          "histogram2d": [
           {
            "colorbar": {
             "outlinewidth": 0,
             "ticks": ""
            },
            "colorscale": [
             [
              0,
              "#0d0887"
             ],
             [
              0.1111111111111111,
              "#46039f"
             ],
             [
              0.2222222222222222,
              "#7201a8"
             ],
             [
              0.3333333333333333,
              "#9c179e"
             ],
             [
              0.4444444444444444,
              "#bd3786"
             ],
             [
              0.5555555555555556,
              "#d8576b"
             ],
             [
              0.6666666666666666,
              "#ed7953"
             ],
             [
              0.7777777777777778,
              "#fb9f3a"
             ],
             [
              0.8888888888888888,
              "#fdca26"
             ],
             [
              1,
              "#f0f921"
             ]
            ],
            "type": "histogram2d"
           }
          ],
          "histogram2dcontour": [
           {
            "colorbar": {
             "outlinewidth": 0,
             "ticks": ""
            },
            "colorscale": [
             [
              0,
              "#0d0887"
             ],
             [
              0.1111111111111111,
              "#46039f"
             ],
             [
              0.2222222222222222,
              "#7201a8"
             ],
             [
              0.3333333333333333,
              "#9c179e"
             ],
             [
              0.4444444444444444,
              "#bd3786"
             ],
             [
              0.5555555555555556,
              "#d8576b"
             ],
             [
              0.6666666666666666,
              "#ed7953"
             ],
             [
              0.7777777777777778,
              "#fb9f3a"
             ],
             [
              0.8888888888888888,
              "#fdca26"
             ],
             [
              1,
              "#f0f921"
             ]
            ],
            "type": "histogram2dcontour"
           }
          ],
          "mesh3d": [
           {
            "colorbar": {
             "outlinewidth": 0,
             "ticks": ""
            },
            "type": "mesh3d"
           }
          ],
          "parcoords": [
           {
            "line": {
             "colorbar": {
              "outlinewidth": 0,
              "ticks": ""
             }
            },
            "type": "parcoords"
           }
          ],
          "pie": [
           {
            "automargin": true,
            "type": "pie"
           }
          ],
          "scatter": [
           {
            "marker": {
             "colorbar": {
              "outlinewidth": 0,
              "ticks": ""
             }
            },
            "type": "scatter"
           }
          ],
          "scatter3d": [
           {
            "line": {
             "colorbar": {
              "outlinewidth": 0,
              "ticks": ""
             }
            },
            "marker": {
             "colorbar": {
              "outlinewidth": 0,
              "ticks": ""
             }
            },
            "type": "scatter3d"
           }
          ],
          "scattercarpet": [
           {
            "marker": {
             "colorbar": {
              "outlinewidth": 0,
              "ticks": ""
             }
            },
            "type": "scattercarpet"
           }
          ],
          "scattergeo": [
           {
            "marker": {
             "colorbar": {
              "outlinewidth": 0,
              "ticks": ""
             }
            },
            "type": "scattergeo"
           }
          ],
          "scattergl": [
           {
            "marker": {
             "colorbar": {
              "outlinewidth": 0,
              "ticks": ""
             }
            },
            "type": "scattergl"
           }
          ],
          "scattermapbox": [
           {
            "marker": {
             "colorbar": {
              "outlinewidth": 0,
              "ticks": ""
             }
            },
            "type": "scattermapbox"
           }
          ],
          "scatterpolar": [
           {
            "marker": {
             "colorbar": {
              "outlinewidth": 0,
              "ticks": ""
             }
            },
            "type": "scatterpolar"
           }
          ],
          "scatterpolargl": [
           {
            "marker": {
             "colorbar": {
              "outlinewidth": 0,
              "ticks": ""
             }
            },
            "type": "scatterpolargl"
           }
          ],
          "scatterternary": [
           {
            "marker": {
             "colorbar": {
              "outlinewidth": 0,
              "ticks": ""
             }
            },
            "type": "scatterternary"
           }
          ],
          "surface": [
           {
            "colorbar": {
             "outlinewidth": 0,
             "ticks": ""
            },
            "colorscale": [
             [
              0,
              "#0d0887"
             ],
             [
              0.1111111111111111,
              "#46039f"
             ],
             [
              0.2222222222222222,
              "#7201a8"
             ],
             [
              0.3333333333333333,
              "#9c179e"
             ],
             [
              0.4444444444444444,
              "#bd3786"
             ],
             [
              0.5555555555555556,
              "#d8576b"
             ],
             [
              0.6666666666666666,
              "#ed7953"
             ],
             [
              0.7777777777777778,
              "#fb9f3a"
             ],
             [
              0.8888888888888888,
              "#fdca26"
             ],
             [
              1,
              "#f0f921"
             ]
            ],
            "type": "surface"
           }
          ],
          "table": [
           {
            "cells": {
             "fill": {
              "color": "#EBF0F8"
             },
             "line": {
              "color": "white"
             }
            },
            "header": {
             "fill": {
              "color": "#C8D4E3"
             },
             "line": {
              "color": "white"
             }
            },
            "type": "table"
           }
          ]
         },
         "layout": {
          "annotationdefaults": {
           "arrowcolor": "#2a3f5f",
           "arrowhead": 0,
           "arrowwidth": 1
          },
          "coloraxis": {
           "colorbar": {
            "outlinewidth": 0,
            "ticks": ""
           }
          },
          "colorscale": {
           "diverging": [
            [
             0,
             "#8e0152"
            ],
            [
             0.1,
             "#c51b7d"
            ],
            [
             0.2,
             "#de77ae"
            ],
            [
             0.3,
             "#f1b6da"
            ],
            [
             0.4,
             "#fde0ef"
            ],
            [
             0.5,
             "#f7f7f7"
            ],
            [
             0.6,
             "#e6f5d0"
            ],
            [
             0.7,
             "#b8e186"
            ],
            [
             0.8,
             "#7fbc41"
            ],
            [
             0.9,
             "#4d9221"
            ],
            [
             1,
             "#276419"
            ]
           ],
           "sequential": [
            [
             0,
             "#0d0887"
            ],
            [
             0.1111111111111111,
             "#46039f"
            ],
            [
             0.2222222222222222,
             "#7201a8"
            ],
            [
             0.3333333333333333,
             "#9c179e"
            ],
            [
             0.4444444444444444,
             "#bd3786"
            ],
            [
             0.5555555555555556,
             "#d8576b"
            ],
            [
             0.6666666666666666,
             "#ed7953"
            ],
            [
             0.7777777777777778,
             "#fb9f3a"
            ],
            [
             0.8888888888888888,
             "#fdca26"
            ],
            [
             1,
             "#f0f921"
            ]
           ],
           "sequentialminus": [
            [
             0,
             "#0d0887"
            ],
            [
             0.1111111111111111,
             "#46039f"
            ],
            [
             0.2222222222222222,
             "#7201a8"
            ],
            [
             0.3333333333333333,
             "#9c179e"
            ],
            [
             0.4444444444444444,
             "#bd3786"
            ],
            [
             0.5555555555555556,
             "#d8576b"
            ],
            [
             0.6666666666666666,
             "#ed7953"
            ],
            [
             0.7777777777777778,
             "#fb9f3a"
            ],
            [
             0.8888888888888888,
             "#fdca26"
            ],
            [
             1,
             "#f0f921"
            ]
           ]
          },
          "colorway": [
           "#636efa",
           "#EF553B",
           "#00cc96",
           "#ab63fa",
           "#FFA15A",
           "#19d3f3",
           "#FF6692",
           "#B6E880",
           "#FF97FF",
           "#FECB52"
          ],
          "font": {
           "color": "#2a3f5f"
          },
          "geo": {
           "bgcolor": "white",
           "lakecolor": "white",
           "landcolor": "#E5ECF6",
           "showlakes": true,
           "showland": true,
           "subunitcolor": "white"
          },
          "hoverlabel": {
           "align": "left"
          },
          "hovermode": "closest",
          "mapbox": {
           "style": "light"
          },
          "paper_bgcolor": "white",
          "plot_bgcolor": "#E5ECF6",
          "polar": {
           "angularaxis": {
            "gridcolor": "white",
            "linecolor": "white",
            "ticks": ""
           },
           "bgcolor": "#E5ECF6",
           "radialaxis": {
            "gridcolor": "white",
            "linecolor": "white",
            "ticks": ""
           }
          },
          "scene": {
           "xaxis": {
            "backgroundcolor": "#E5ECF6",
            "gridcolor": "white",
            "gridwidth": 2,
            "linecolor": "white",
            "showbackground": true,
            "ticks": "",
            "zerolinecolor": "white"
           },
           "yaxis": {
            "backgroundcolor": "#E5ECF6",
            "gridcolor": "white",
            "gridwidth": 2,
            "linecolor": "white",
            "showbackground": true,
            "ticks": "",
            "zerolinecolor": "white"
           },
           "zaxis": {
            "backgroundcolor": "#E5ECF6",
            "gridcolor": "white",
            "gridwidth": 2,
            "linecolor": "white",
            "showbackground": true,
            "ticks": "",
            "zerolinecolor": "white"
           }
          },
          "shapedefaults": {
           "line": {
            "color": "#2a3f5f"
           }
          },
          "ternary": {
           "aaxis": {
            "gridcolor": "white",
            "linecolor": "white",
            "ticks": ""
           },
           "baxis": {
            "gridcolor": "white",
            "linecolor": "white",
            "ticks": ""
           },
           "bgcolor": "#E5ECF6",
           "caxis": {
            "gridcolor": "white",
            "linecolor": "white",
            "ticks": ""
           }
          },
          "title": {
           "x": 0.05
          },
          "xaxis": {
           "automargin": true,
           "gridcolor": "white",
           "linecolor": "white",
           "ticks": "",
           "title": {
            "standoff": 15
           },
           "zerolinecolor": "white",
           "zerolinewidth": 2
          },
          "yaxis": {
           "automargin": true,
           "gridcolor": "white",
           "linecolor": "white",
           "ticks": "",
           "title": {
            "standoff": 15
           },
           "zerolinecolor": "white",
           "zerolinewidth": 2
          }
         }
        },
        "title": {
         "text": "<b>Home Values by Metro</b> <br><i>2000 Average: 271706.73</i>"
        }
       }
      },
      "text/html": [
       "<div>\n",
       "        \n",
       "        \n",
       "            <div id=\"eb7a55d5-4efa-4a25-a135-5650c473de7b\" class=\"plotly-graph-div\" style=\"height:525px; width:100%;\"></div>\n",
       "            <script type=\"text/javascript\">\n",
       "                require([\"plotly\"], function(Plotly) {\n",
       "                    window.PLOTLYENV=window.PLOTLYENV || {};\n",
       "                    \n",
       "                if (document.getElementById(\"eb7a55d5-4efa-4a25-a135-5650c473de7b\")) {\n",
       "                    Plotly.newPlot(\n",
       "                        'eb7a55d5-4efa-4a25-a135-5650c473de7b',\n",
       "                        [{\"hovertemplate\": [\"Los Angeles-Long Beach-Anaheim, CA<br> Home Value: $401467.98\", \"San Jose, CA<br> Home Value: $844200.58\", \"San Francisco, CA<br> Home Value: $671812.54\", \"San Diego, CA<br> Home Value: $413892.2\", \"New York, NY<br> Home Value: $395106.91\", \"Riverside, CA<br> Home Value: $248168.17\", \"Miami-Fort Lauderdale, FL<br> Home Value: $212365.6\", \"Sacramento, CA<br> Home Value: $305713.43\", \"Seattle, WA<br> Home Value: $367782.94\", \"Salt Lake City, UT<br> Home Value: $316699.19\", \"Portland, OR<br> Home Value: $293430.42\", \"Denver, CO<br> Home Value: $354288.7\", \"Boston, MA<br> Home Value: $418132.83\", \"Las Vegas, NV<br> Home Value: $277459.07\", \"Phoenix, AZ<br> Home Value: $238278.24\", \"Austin, TX<br> Home Value: $298725.05\", \"Providence, RI<br> Home Value: $264836.59\", \"Orlando, FL<br> Home Value: $210730.07\", \"Nashville, TN<br> Home Value: $235963.11\", \"Washington, DC<br> Home Value: $326862.95\", \"Tampa, FL<br> Home Value: $177556.41\", \"Jacksonville, FL<br> Home Value: $201559.3\", \"Raleigh, NC<br> Home Value: $290564.34\", \"Charlotte, NC<br> Home Value: $245454.95\", \"New Orleans, LA<br> Home Value: $205217.2\", \"Dallas-Fort Worth, TX<br> Home Value: $211064.24\", \"Atlanta, GA<br> Home Value: $259810.49\", \"Virginia Beach, VA<br> Home Value: $200253.04\", \"San Antonio, TX<br> Home Value: $183606.46\", \"Minneapolis-St Paul, MN<br> Home Value: $274670.14\", \"Baltimore, MD<br> Home Value: $257326.23\", \"Houston, TX<br> Home Value: $201756.36\", \"Richmond, VA<br> Home Value: $213848.26\", \"Philadelphia, PA<br> Home Value: $216646.32\", \"Columbus, OH<br> Home Value: $221190.41\", \"Chicago, IL<br> Home Value: $290056.13\", \"Milwaukee, WI<br> Home Value: $209337.66\", \"Kansas City, MO<br> Home Value: $194768.77\", \"Louisville-Jefferson County, KY<br> Home Value: $187016.35\", \"Memphis, TN<br> Home Value: $198547.51\", \"Indianapolis, IN<br> Home Value: $238278.24\", \"Buffalo, NY<br> Home Value: $151855.39\", \"Hartford, CT<br> Home Value: $271808.56\", \"Detroit, MI<br> Home Value: $243905.05\", \"Cincinnati, OH<br> Home Value: $214564.78\", \"Birmingham, AL<br> Home Value: $192280.27\", \"St. Louis, MO<br> Home Value: $193188.56\", \"Oklahoma City, OK<br> Home Value: $150115.97\", \"Cleveland, OH<br> Home Value: $212883.73\", \"Pittsburgh, PA<br> Home Value: $146860.53\"], \"lat\": [34.108703000000006, 36.908471999999996, 37.773718, 33.023604, 40.77493, 34.538476, 26.101828, 38.790271999999995, 47.490552, 40.572887, 45.600621999999994, 39.434789, 42.517606, 36.21413, 33.185765, 30.249744, 41.70684, 28.434396000000003, 36.118182, 38.798204999999996, 28.120540999999996, 30.236594, 35.756746, 35.166342, 30.053420000000003, 32.849171000000005, 33.693728, 36.804408, 29.433059999999998, 45.096664000000004, 39.304361, 29.749593, 37.411324, 39.894958, 39.968562, 41.823521, 42.912643, 38.931857, 38.305838, 35.024419, 39.748670000000004, 43.044371000000005, 41.71865, 42.721848, 39.100546, 33.402599, 38.740210999999995, 35.430968, 41.555037, 40.439525], \"lon\": [-118.18275, -121.37137, -122.27443000000001, -116.77611999999999, -73.873758, -116.13453999999999, -80.478755, -121.00563999999999, -121.83398000000001, -112.95325, -122.48438, -104.90106999999999, -71.02199300000001, -115.0144, -112.06786000000001, -97.649842, -71.286687, -81.356084, -86.64412, -77.486882, -82.525188, -81.754446, -78.460441, -80.797285, -89.934502, -96.970489, -84.399911, -76.449526, -98.606973, -93.275361, -76.549501, -95.35364200000001, -77.441816, -75.311982, -82.835911, -87.82829699999999, -87.862312, -94.443841, -85.68164499999999, -89.871971, -86.21238199999999, -78.777335, -72.57391899999999, -83.200846, -84.47953299999999, -86.729515, -90.345825, -97.506966, -81.604957, -79.836097], \"marker\": {\"autocolorscale\": false, \"cmax\": 1000000, \"cmin\": 146860.53, \"color\": [401467.98, 844200.58, 671812.54, 413892.2, 395106.91, 248168.17, 212365.6, 305713.43, 367782.94, 316699.19, 293430.42, 354288.7, 418132.83, 277459.07, 238278.24, 298725.05, 264836.59, 210730.07, 235963.11, 326862.95, 177556.41, 201559.3, 290564.34, 245454.95, 205217.2, 211064.24, 259810.49, 200253.04, 183606.46, 274670.14, 257326.23, 201756.36, 213848.26, 216646.32, 221190.41, 290056.13, 209337.66, 194768.77, 187016.35, 198547.51, 238278.24, 151855.39, 271808.56, 243905.05, 214564.78, 192280.27, 193188.56, 150115.97, 212883.73, 146860.53], \"colorbar\": {\"title\": {\"text\": \"Home Values\"}}, \"colorscale\": [[0.0, \"rgb(0,0,0)\"], [0.3333333333333333, \"rgb(230,0,0)\"], [0.6666666666666666, \"rgb(255,210,0)\"], [1.0, \"rgb(255,255,255)\"]], \"opacity\": 1, \"reversescale\": true, \"size\": 15, \"symbol\": \"circle\"}, \"mode\": \"markers\", \"name\": \"\", \"showlegend\": false, \"type\": \"scattergeo\", \"visible\": true}, {\"hovertemplate\": [\"Los Angeles-Long Beach-Anaheim, CA<br> Home Value: $586060.96\", \"San Jose, CA<br> Home Value: $849987.68\", \"San Francisco, CA<br> Home Value: $803222.47\", \"San Diego, CA<br> Home Value: $519540.37\", \"New York, NY<br> Home Value: $554552.03\", \"Riverside, CA<br> Home Value: $318794.43\", \"Miami-Fort Lauderdale, FL<br> Home Value: $293264.33\", \"Sacramento, CA<br> Home Value: $364712.54\", \"Seattle, WA<br> Home Value: $455249.85\", \"Salt Lake City, UT<br> Home Value: $340339.5\", \"Portland, OR<br> Home Value: $373044.13\", \"Denver, CO<br> Home Value: $317182.8\", \"Boston, MA<br> Home Value: $464321.3\", \"Las Vegas, NV<br> Home Value: $282457.92\", \"Phoenix, AZ<br> Home Value: $255138.44\", \"Austin, TX<br> Home Value: $275048.27\", \"Providence, RI<br> Home Value: $357100.39\", \"Orlando, FL<br> Home Value: $255470.95\", \"Nashville, TN<br> Home Value: $241547.46\", \"Washington, DC<br> Home Value: $465789.49\", \"Tampa, FL<br> Home Value: $219195.42\", \"Jacksonville, FL<br> Home Value: $255017.44\", \"Raleigh, NC<br> Home Value: $284942.8\", \"Charlotte, NC<br> Home Value: $231265.28\", \"New Orleans, LA<br> Home Value: $238707.21\", \"Dallas-Fort Worth, TX<br> Home Value: $195645.34\", \"Atlanta, GA<br> Home Value: $232429.96\", \"Virginia Beach, VA<br> Home Value: $315218.66\", \"San Antonio, TX<br> Home Value: $193546.32\", \"Minneapolis-St Paul, MN<br> Home Value: $290472.45\", \"Baltimore, MD<br> Home Value: $389148.15\", \"Houston, TX<br> Home Value: $195472.78\", \"Richmond, VA<br> Home Value: $284441.23\", \"Philadelphia, PA<br> Home Value: $306730.18\", \"Columbus, OH<br> Home Value: $201736.16\", \"Chicago, IL<br> Home Value: $313389.91\", \"Milwaukee, WI<br> Home Value: $227271.88\", \"Kansas City, MO<br> Home Value: $197935.85\", \"Louisville-Jefferson County, KY<br> Home Value: $182450.07\", \"Memphis, TN<br> Home Value: $168008.28\", \"Indianapolis, IN<br> Home Value: $174055.6\", \"Buffalo, NY<br> Home Value: $160467.47\", \"Hartford, CT<br> Home Value: $334711.61\", \"Detroit, MI<br> Home Value: $166727.68\", \"Cincinnati, OH<br> Home Value: $195270.59\", \"Birmingham, AL<br> Home Value: $195278.32\", \"St. Louis, MO<br> Home Value: $209623.24\", \"Oklahoma City, OK<br> Home Value: $163358.22\", \"Cleveland, OH<br> Home Value: $180547.53\", \"Pittsburgh, PA<br> Home Value: $153547.44\"], \"lat\": [34.108703000000006, 36.908471999999996, 37.773718, 33.023604, 40.77493, 34.538476, 26.101828, 38.790271999999995, 47.490552, 40.572887, 45.600621999999994, 39.434789, 42.517606, 36.21413, 33.185765, 30.249744, 41.70684, 28.434396000000003, 36.118182, 38.798204999999996, 28.120540999999996, 30.236594, 35.756746, 35.166342, 30.053420000000003, 32.849171000000005, 33.693728, 36.804408, 29.433059999999998, 45.096664000000004, 39.304361, 29.749593, 37.411324, 39.894958, 39.968562, 41.823521, 42.912643, 38.931857, 38.305838, 35.024419, 39.748670000000004, 43.044371000000005, 41.71865, 42.721848, 39.100546, 33.402599, 38.740210999999995, 35.430968, 41.555037, 40.439525], \"lon\": [-118.18275, -121.37137, -122.27443000000001, -116.77611999999999, -73.873758, -116.13453999999999, -80.478755, -121.00563999999999, -121.83398000000001, -112.95325, -122.48438, -104.90106999999999, -71.02199300000001, -115.0144, -112.06786000000001, -97.649842, -71.286687, -81.356084, -86.64412, -77.486882, -82.525188, -81.754446, -78.460441, -80.797285, -89.934502, -96.970489, -84.399911, -76.449526, -98.606973, -93.275361, -76.549501, -95.35364200000001, -77.441816, -75.311982, -82.835911, -87.82829699999999, -87.862312, -94.443841, -85.68164499999999, -89.871971, -86.21238199999999, -78.777335, -72.57391899999999, -83.200846, -84.47953299999999, -86.729515, -90.345825, -97.506966, -81.604957, -79.836097], \"marker\": {\"autocolorscale\": false, \"cmax\": 1000000, \"cmin\": 146860.53, \"color\": [586060.96, 849987.68, 803222.47, 519540.37, 554552.03, 318794.43, 293264.33, 364712.54, 455249.85, 340339.5, 373044.13, 317182.8, 464321.3, 282457.92, 255138.44, 275048.27, 357100.39, 255470.95, 241547.46, 465789.49, 219195.42, 255017.44, 284942.8, 231265.28, 238707.21, 195645.34, 232429.96, 315218.66, 193546.32, 290472.45, 389148.15, 195472.78, 284441.23, 306730.18, 201736.16, 313389.91, 227271.88, 197935.85, 182450.07, 168008.28, 174055.6, 160467.47, 334711.61, 166727.68, 195270.59, 195278.32, 209623.24, 163358.22, 180547.53, 153547.44], \"colorbar\": {\"title\": {\"text\": \"Home Values\"}}, \"colorscale\": [[0.0, \"rgb(0,0,0)\"], [0.3333333333333333, \"rgb(230,0,0)\"], [0.6666666666666666, \"rgb(255,210,0)\"], [1.0, \"rgb(255,255,255)\"]], \"opacity\": 1, \"reversescale\": true, \"size\": 15, \"symbol\": \"circle\"}, \"mode\": \"markers\", \"name\": \"\", \"showlegend\": false, \"type\": \"scattergeo\", \"visible\": false}, {\"hovertemplate\": [\"Los Angeles-Long Beach-Anaheim, CA<br> Home Value: $686422.02\", \"San Jose, CA<br> Home Value: $1214481.4\", \"San Francisco, CA<br> Home Value: $1096254.82\", \"San Diego, CA<br> Home Value: $611483.92\", \"New York, NY<br> Home Value: $497389.87\", \"Riverside, CA<br> Home Value: $378332.65\", \"Miami-Fort Lauderdale, FL<br> Home Value: $303540.12\", \"Sacramento, CA<br> Home Value: $423664.32\", \"Seattle, WA<br> Home Value: $505714.17\", \"Salt Lake City, UT<br> Home Value: $365049.56\", \"Portland, OR<br> Home Value: $431666.98\", \"Denver, CO<br> Home Value: $445446.6\", \"Boston, MA<br> Home Value: $505829.61\", \"Las Vegas, NV<br> Home Value: $265027.48\", \"Phoenix, AZ<br> Home Value: $268462.01\", \"Austin, TX<br> Home Value: $342111.56\", \"Providence, RI<br> Home Value: $321222.24\", \"Orlando, FL<br> Home Value: $247591.85\", \"Nashville, TN<br> Home Value: $277735.36\", \"Washington, DC<br> Home Value: $451071.39\", \"Tampa, FL<br> Home Value: $218188.57\", \"Jacksonville, FL<br> Home Value: $225892.74\", \"Raleigh, NC<br> Home Value: $284185.57\", \"Charlotte, NC<br> Home Value: $227499.59\", \"New Orleans, LA<br> Home Value: $221864.85\", \"Dallas-Fort Worth, TX<br> Home Value: $251030.48\", \"Atlanta, GA<br> Home Value: $229128.68\", \"Virginia Beach, VA<br> Home Value: $255611.53\", \"San Antonio, TX<br> Home Value: $211844.58\", \"Minneapolis-St Paul, MN<br> Home Value: $290556.26\", \"Baltimore, MD<br> Home Value: $315402.12\", \"Houston, TX<br> Home Value: $226105.19\", \"Richmond, VA<br> Home Value: $248230.04\", \"Philadelphia, PA<br> Home Value: $255434.8\", \"Columbus, OH<br> Home Value: $202052.57\", \"Chicago, IL<br> Home Value: $254724.34\", \"Milwaukee, WI<br> Home Value: $200055.88\", \"Kansas City, MO<br> Home Value: $199635.26\", \"Louisville-Jefferson County, KY<br> Home Value: $178404.95\", \"Memphis, TN<br> Home Value: $147424.57\", \"Indianapolis, IN<br> Home Value: $176673.54\", \"Buffalo, NY<br> Home Value: $171328.08\", \"Hartford, CT<br> Home Value: $259012.11\", \"Detroit, MI<br> Home Value: $175093.57\", \"Cincinnati, OH<br> Home Value: $183269.79\", \"Birmingham, AL<br> Home Value: $168744.09\", \"St. Louis, MO<br> Home Value: $184817.68\", \"Oklahoma City, OK<br> Home Value: $164863.36\", \"Cleveland, OH<br> Home Value: $156132.94\", \"Pittsburgh, PA<br> Home Value: $162173.23\"], \"lat\": [34.108703000000006, 36.908471999999996, 37.773718, 33.023604, 40.77493, 34.538476, 26.101828, 38.790271999999995, 47.490552, 40.572887, 45.600621999999994, 39.434789, 42.517606, 36.21413, 33.185765, 30.249744, 41.70684, 28.434396000000003, 36.118182, 38.798204999999996, 28.120540999999996, 30.236594, 35.756746, 35.166342, 30.053420000000003, 32.849171000000005, 33.693728, 36.804408, 29.433059999999998, 45.096664000000004, 39.304361, 29.749593, 37.411324, 39.894958, 39.968562, 41.823521, 42.912643, 38.931857, 38.305838, 35.024419, 39.748670000000004, 43.044371000000005, 41.71865, 42.721848, 39.100546, 33.402599, 38.740210999999995, 35.430968, 41.555037, 40.439525], \"lon\": [-118.18275, -121.37137, -122.27443000000001, -116.77611999999999, -73.873758, -116.13453999999999, -80.478755, -121.00563999999999, -121.83398000000001, -112.95325, -122.48438, -104.90106999999999, -71.02199300000001, -115.0144, -112.06786000000001, -97.649842, -71.286687, -81.356084, -86.64412, -77.486882, -82.525188, -81.754446, -78.460441, -80.797285, -89.934502, -96.970489, -84.399911, -76.449526, -98.606973, -93.275361, -76.549501, -95.35364200000001, -77.441816, -75.311982, -82.835911, -87.82829699999999, -87.862312, -94.443841, -85.68164499999999, -89.871971, -86.21238199999999, -78.777335, -72.57391899999999, -83.200846, -84.47953299999999, -86.729515, -90.345825, -97.506966, -81.604957, -79.836097], \"marker\": {\"autocolorscale\": false, \"cmax\": 1000000, \"cmin\": 146860.53, \"color\": [686422.02, 1214481.4, 1096254.82, 611483.92, 497389.87, 378332.65, 303540.12, 423664.32, 505714.17, 365049.56, 431666.98, 445446.6, 505829.61, 265027.48, 268462.01, 342111.56, 321222.24, 247591.85, 277735.36, 451071.39, 218188.57, 225892.74, 284185.57, 227499.59, 221864.85, 251030.48, 229128.68, 255611.53, 211844.58, 290556.26, 315402.12, 226105.19, 248230.04, 255434.8, 202052.57, 254724.34, 200055.88, 199635.26, 178404.95, 147424.57, 176673.54, 171328.08, 259012.11, 175093.57, 183269.79, 168744.09, 184817.68, 164863.36, 156132.94, 162173.23], \"colorbar\": {\"title\": {\"text\": \"Home Values\"}}, \"colorscale\": [[0.0, \"rgb(0,0,0)\"], [0.3333333333333333, \"rgb(230,0,0)\"], [0.6666666666666666, \"rgb(255,210,0)\"], [1.0, \"rgb(255,255,255)\"]], \"opacity\": 1, \"reversescale\": true, \"size\": 15, \"symbol\": \"circle\"}, \"mode\": \"markers\", \"name\": \"\", \"showlegend\": false, \"type\": \"scattergeo\", \"visible\": false}, {\"hovertemplate\": [\"Los Angeles-Long Beach-Anaheim, CA<br> Home Value: $716126.23\", \"San Jose, CA<br> Home Value: $1418048.51\", \"San Francisco, CA<br> Home Value: $1202123.02\", \"San Diego, CA<br> Home Value: $638052.71\", \"New York, NY<br> Home Value: $511551.58\", \"Riverside, CA<br> Home Value: $397718.16\", \"Miami-Fort Lauderdale, FL<br> Home Value: $314646.75\", \"Sacramento, CA<br> Home Value: $443039.15\", \"Seattle, WA<br> Home Value: $550471.26\", \"Salt Lake City, UT<br> Home Value: $388317.48\", \"Portland, OR<br> Home Value: $444176.18\", \"Denver, CO<br> Home Value: $466735.97\", \"Boston, MA<br> Home Value: $523874.97\", \"Las Vegas, NV<br> Home Value: $299947.49\", \"Phoenix, AZ<br> Home Value: $281507.88\", \"Austin, TX<br> Home Value: $347862.92\", \"Providence, RI<br> Home Value: $334737.48\", \"Orlando, FL<br> Home Value: $261958.44\", \"Nashville, TN<br> Home Value: $294559.28\", \"Washington, DC<br> Home Value: $455895.3\", \"Tampa, FL<br> Home Value: $231543.21\", \"Jacksonville, FL<br> Home Value: $238415.96\", \"Raleigh, NC<br> Home Value: $292456.33\", \"Charlotte, NC<br> Home Value: $240983.18\", \"New Orleans, LA<br> Home Value: $220129.04\", \"Dallas-Fort Worth, TX<br> Home Value: $265112.87\", \"Atlanta, GA<br> Home Value: $244353.54\", \"Virginia Beach, VA<br> Home Value: $255510.5\", \"San Antonio, TX<br> Home Value: $216692.08\", \"Minneapolis-St Paul, MN<br> Home Value: $302928.54\", \"Baltimore, MD<br> Home Value: $317111.35\", \"Houston, TX<br> Home Value: $228937.97\", \"Richmond, VA<br> Home Value: $254261.68\", \"Philadelphia, PA<br> Home Value: $260988.9\", \"Columbus, OH<br> Home Value: $213056.87\", \"Chicago, IL<br> Home Value: $259364.27\", \"Milwaukee, WI<br> Home Value: $207933.77\", \"Kansas City, MO<br> Home Value: $211112.24\", \"Louisville-Jefferson County, KY<br> Home Value: $185245.24\", \"Memphis, TN<br> Home Value: $154432.34\", \"Indianapolis, IN<br> Home Value: $185627.03\", \"Buffalo, NY<br> Home Value: $178468.48\", \"Hartford, CT<br> Home Value: $258020.19\", \"Detroit, MI<br> Home Value: $185898.5\", \"Cincinnati, OH<br> Home Value: $189682.96\", \"Birmingham, AL<br> Home Value: $172409.95\", \"St. Louis, MO<br> Home Value: $188150.79\", \"Oklahoma City, OK<br> Home Value: $164601.23\", \"Cleveland, OH<br> Home Value: $161591.79\", \"Pittsburgh, PA<br> Home Value: $166728.86\"], \"lat\": [34.108703000000006, 36.908471999999996, 37.773718, 33.023604, 40.77493, 34.538476, 26.101828, 38.790271999999995, 47.490552, 40.572887, 45.600621999999994, 39.434789, 42.517606, 36.21413, 33.185765, 30.249744, 41.70684, 28.434396000000003, 36.118182, 38.798204999999996, 28.120540999999996, 30.236594, 35.756746, 35.166342, 30.053420000000003, 32.849171000000005, 33.693728, 36.804408, 29.433059999999998, 45.096664000000004, 39.304361, 29.749593, 37.411324, 39.894958, 39.968562, 41.823521, 42.912643, 38.931857, 38.305838, 35.024419, 39.748670000000004, 43.044371000000005, 41.71865, 42.721848, 39.100546, 33.402599, 38.740210999999995, 35.430968, 41.555037, 40.439525], \"lon\": [-118.18275, -121.37137, -122.27443000000001, -116.77611999999999, -73.873758, -116.13453999999999, -80.478755, -121.00563999999999, -121.83398000000001, -112.95325, -122.48438, -104.90106999999999, -71.02199300000001, -115.0144, -112.06786000000001, -97.649842, -71.286687, -81.356084, -86.64412, -77.486882, -82.525188, -81.754446, -78.460441, -80.797285, -89.934502, -96.970489, -84.399911, -76.449526, -98.606973, -93.275361, -76.549501, -95.35364200000001, -77.441816, -75.311982, -82.835911, -87.82829699999999, -87.862312, -94.443841, -85.68164499999999, -89.871971, -86.21238199999999, -78.777335, -72.57391899999999, -83.200846, -84.47953299999999, -86.729515, -90.345825, -97.506966, -81.604957, -79.836097], \"marker\": {\"autocolorscale\": false, \"cmax\": 1000000, \"cmin\": 146860.53, \"color\": [716126.23, 1418048.51, 1202123.02, 638052.71, 511551.58, 397718.16, 314646.75, 443039.15, 550471.26, 388317.48, 444176.18, 466735.97, 523874.97, 299947.49, 281507.88, 347862.92, 334737.48, 261958.44, 294559.28, 455895.3, 231543.21, 238415.96, 292456.33, 240983.18, 220129.04, 265112.87, 244353.54, 255510.5, 216692.08, 302928.54, 317111.35, 228937.97, 254261.68, 260988.9, 213056.87, 259364.27, 207933.77, 211112.24, 185245.24, 154432.34, 185627.03, 178468.48, 258020.19, 185898.5, 189682.96, 172409.95, 188150.79, 164601.23, 161591.79, 166728.86], \"colorbar\": {\"title\": {\"text\": \"Home Values\"}}, \"colorscale\": [[0.0, \"rgb(0,0,0)\"], [0.3333333333333333, \"rgb(230,0,0)\"], [0.6666666666666666, \"rgb(255,210,0)\"], [1.0, \"rgb(255,255,255)\"]], \"opacity\": 1, \"reversescale\": true, \"size\": 15, \"symbol\": \"circle\"}, \"mode\": \"markers\", \"name\": \"\", \"showlegend\": false, \"type\": \"scattergeo\", \"visible\": false}, {\"hovertemplate\": [\"Los Angeles-Long Beach-Anaheim, CA<br> Home Value: $712292.19\", \"San Jose, CA<br> Home Value: $1299917.64\", \"San Francisco, CA<br> Home Value: $1181910.57\", \"San Diego, CA<br> Home Value: $636000.73\", \"New York, NY<br> Home Value: $515844.78\", \"Riverside, CA<br> Home Value: $405639.15\", \"Miami-Fort Lauderdale, FL<br> Home Value: $321377.01\", \"Sacramento, CA<br> Home Value: $448693.57\", \"Seattle, WA<br> Home Value: $547332.12\", \"Salt Lake City, UT<br> Home Value: $411500.09\", \"Portland, OR<br> Home Value: $446516.96\", \"Denver, CO<br> Home Value: $475472.63\", \"Boston, MA<br> Home Value: $526810.52\", \"Las Vegas, NV<br> Home Value: $312951.68\", \"Phoenix, AZ<br> Home Value: $293491.95\", \"Austin, TX<br> Home Value: $356930.48\", \"Providence, RI<br> Home Value: $339220.18\", \"Orlando, FL<br> Home Value: $273075.12\", \"Nashville, TN<br> Home Value: $302186.74\", \"Washington, DC<br> Home Value: $462706.19\", \"Tampa, FL<br> Home Value: $240450.11\", \"Jacksonville, FL<br> Home Value: $246389.15\", \"Raleigh, NC<br> Home Value: $301886.88\", \"Charlotte, NC<br> Home Value: $252093.51\", \"New Orleans, LA<br> Home Value: $218970.78\", \"Dallas-Fort Worth, TX<br> Home Value: $272090.11\", \"Atlanta, GA<br> Home Value: $256014.65\", \"Virginia Beach, VA<br> Home Value: $258904.68\", \"San Antonio, TX<br> Home Value: $223543.36\", \"Minneapolis-St Paul, MN<br> Home Value: $311129.77\", \"Baltimore, MD<br> Home Value: $316563.6\", \"Houston, TX<br> Home Value: $233476.39\", \"Richmond, VA<br> Home Value: $261694.4\", \"Philadelphia, PA<br> Home Value: $266163.01\", \"Columbus, OH<br> Home Value: $223980.09\", \"Chicago, IL<br> Home Value: $260303.24\", \"Milwaukee, WI<br> Home Value: $213839.31\", \"Kansas City, MO<br> Home Value: $218171.32\", \"Louisville-Jefferson County, KY<br> Home Value: $190004.85\", \"Memphis, TN<br> Home Value: $163511.31\", \"Indianapolis, IN<br> Home Value: $194484.26\", \"Buffalo, NY<br> Home Value: $185470.7\", \"Hartford, CT<br> Home Value: $255691.34\", \"Detroit, MI<br> Home Value: $193062.78\", \"Cincinnati, OH<br> Home Value: $197733.27\", \"Birmingham, AL<br> Home Value: $178689.05\", \"St. Louis, MO<br> Home Value: $192974.42\", \"Oklahoma City, OK<br> Home Value: $167292.99\", \"Cleveland, OH<br> Home Value: $166845.74\", \"Pittsburgh, PA<br> Home Value: $171531.83\"], \"lat\": [34.108703000000006, 36.908471999999996, 37.773718, 33.023604, 40.77493, 34.538476, 26.101828, 38.790271999999995, 47.490552, 40.572887, 45.600621999999994, 39.434789, 42.517606, 36.21413, 33.185765, 30.249744, 41.70684, 28.434396000000003, 36.118182, 38.798204999999996, 28.120540999999996, 30.236594, 35.756746, 35.166342, 30.053420000000003, 32.849171000000005, 33.693728, 36.804408, 29.433059999999998, 45.096664000000004, 39.304361, 29.749593, 37.411324, 39.894958, 39.968562, 41.823521, 42.912643, 38.931857, 38.305838, 35.024419, 39.748670000000004, 43.044371000000005, 41.71865, 42.721848, 39.100546, 33.402599, 38.740210999999995, 35.430968, 41.555037, 40.439525], \"lon\": [-118.18275, -121.37137, -122.27443000000001, -116.77611999999999, -73.873758, -116.13453999999999, -80.478755, -121.00563999999999, -121.83398000000001, -112.95325, -122.48438, -104.90106999999999, -71.02199300000001, -115.0144, -112.06786000000001, -97.649842, -71.286687, -81.356084, -86.64412, -77.486882, -82.525188, -81.754446, -78.460441, -80.797285, -89.934502, -96.970489, -84.399911, -76.449526, -98.606973, -93.275361, -76.549501, -95.35364200000001, -77.441816, -75.311982, -82.835911, -87.82829699999999, -87.862312, -94.443841, -85.68164499999999, -89.871971, -86.21238199999999, -78.777335, -72.57391899999999, -83.200846, -84.47953299999999, -86.729515, -90.345825, -97.506966, -81.604957, -79.836097], \"marker\": {\"autocolorscale\": false, \"cmax\": 1000000, \"cmin\": 146860.53, \"color\": [712292.19, 1299917.64, 1181910.57, 636000.73, 515844.78, 405639.15, 321377.01, 448693.57, 547332.12, 411500.09, 446516.96, 475472.63, 526810.52, 312951.68, 293491.95, 356930.48, 339220.18, 273075.12, 302186.74, 462706.19, 240450.11, 246389.15, 301886.88, 252093.51, 218970.78, 272090.11, 256014.65, 258904.68, 223543.36, 311129.77, 316563.6, 233476.39, 261694.4, 266163.01, 223980.09, 260303.24, 213839.31, 218171.32, 190004.85, 163511.31, 194484.26, 185470.7, 255691.34, 193062.78, 197733.27, 178689.05, 192974.42, 167292.99, 166845.74, 171531.83], \"colorbar\": {\"title\": {\"text\": \"Home Values\"}}, \"colorscale\": [[0.0, \"rgb(0,0,0)\"], [0.3333333333333333, \"rgb(230,0,0)\"], [0.6666666666666666, \"rgb(255,210,0)\"], [1.0, \"rgb(255,255,255)\"]], \"opacity\": 1, \"reversescale\": true, \"size\": 15, \"symbol\": \"circle\"}, \"mode\": \"markers\", \"name\": \"\", \"showlegend\": false, \"type\": \"scattergeo\", \"visible\": false}, {\"hovertemplate\": [\"Los Angeles-Long Beach-Anaheim, CA<br> Home Value: $741985.93\", \"San Jose, CA<br> Home Value: $1321579.07\", \"San Francisco, CA<br> Home Value: $1197966.31\", \"San Diego, CA<br> Home Value: $668783.83\", \"New York, NY<br> Home Value: $522039.89\", \"Riverside, CA<br> Home Value: $421703.54\", \"Miami-Fort Lauderdale, FL<br> Home Value: $330010.85\", \"Sacramento, CA<br> Home Value: $470116.36\", \"Seattle, WA<br> Home Value: $584208.19\", \"Salt Lake City, UT<br> Home Value: $436582.3\", \"Portland, OR<br> Home Value: $461745.31\", \"Denver, CO<br> Home Value: $489865.52\", \"Boston, MA<br> Home Value: $543570.64\", \"Las Vegas, NV<br> Home Value: $319988.82\", \"Phoenix, AZ<br> Home Value: $319549.92\", \"Austin, TX<br> Home Value: $374882.85\", \"Providence, RI<br> Home Value: $353395.78\", \"Orlando, FL<br> Home Value: $283592.25\", \"Nashville, TN<br> Home Value: $315172.69\", \"Washington, DC<br> Home Value: $477791.32\", \"Tampa, FL<br> Home Value: $253356.35\", \"Jacksonville, FL<br> Home Value: $255980.0\", \"Raleigh, NC<br> Home Value: $311132.19\", \"Charlotte, NC<br> Home Value: $267176.31\", \"New Orleans, LA<br> Home Value: $227988.65\", \"Dallas-Fort Worth, TX<br> Home Value: $279107.82\", \"Atlanta, GA<br> Home Value: $267410.69\", \"Virginia Beach, VA<br> Home Value: $267344.36\", \"San Antonio, TX<br> Home Value: $228692.05\", \"Minneapolis-St Paul, MN<br> Home Value: $323289.1\", \"Baltimore, MD<br> Home Value: $321685.42\", \"Houston, TX<br> Home Value: $238323.36\", \"Richmond, VA<br> Home Value: $270723.65\", \"Philadelphia, PA<br> Home Value: $275794.6\", \"Columbus, OH<br> Home Value: $236726.29\", \"Chicago, IL<br> Home Value: $262765.6\", \"Milwaukee, WI<br> Home Value: $226093.51\", \"Kansas City, MO<br> Home Value: $228063.87\", \"Louisville-Jefferson County, KY<br> Home Value: $199937.4\", \"Memphis, TN<br> Home Value: $174491.31\", \"Indianapolis, IN<br> Home Value: $205721.63\", \"Buffalo, NY<br> Home Value: $194209.81\", \"Hartford, CT<br> Home Value: $261168.36\", \"Detroit, MI<br> Home Value: $200753.38\", \"Cincinnati, OH<br> Home Value: $208234.73\", \"Birmingham, AL<br> Home Value: $189838.66\", \"St. Louis, MO<br> Home Value: $199256.9\", \"Oklahoma City, OK<br> Home Value: $175043.92\", \"Cleveland, OH<br> Home Value: $175592.66\", \"Pittsburgh, PA<br> Home Value: $178618.04\"], \"lat\": [34.108703000000006, 36.908471999999996, 37.773718, 33.023604, 40.77493, 34.538476, 26.101828, 38.790271999999995, 47.490552, 40.572887, 45.600621999999994, 39.434789, 42.517606, 36.21413, 33.185765, 30.249744, 41.70684, 28.434396000000003, 36.118182, 38.798204999999996, 28.120540999999996, 30.236594, 35.756746, 35.166342, 30.053420000000003, 32.849171000000005, 33.693728, 36.804408, 29.433059999999998, 45.096664000000004, 39.304361, 29.749593, 37.411324, 39.894958, 39.968562, 41.823521, 42.912643, 38.931857, 38.305838, 35.024419, 39.748670000000004, 43.044371000000005, 41.71865, 42.721848, 39.100546, 33.402599, 38.740210999999995, 35.430968, 41.555037, 40.439525], \"lon\": [-118.18275, -121.37137, -122.27443000000001, -116.77611999999999, -73.873758, -116.13453999999999, -80.478755, -121.00563999999999, -121.83398000000001, -112.95325, -122.48438, -104.90106999999999, -71.02199300000001, -115.0144, -112.06786000000001, -97.649842, -71.286687, -81.356084, -86.64412, -77.486882, -82.525188, -81.754446, -78.460441, -80.797285, -89.934502, -96.970489, -84.399911, -76.449526, -98.606973, -93.275361, -76.549501, -95.35364200000001, -77.441816, -75.311982, -82.835911, -87.82829699999999, -87.862312, -94.443841, -85.68164499999999, -89.871971, -86.21238199999999, -78.777335, -72.57391899999999, -83.200846, -84.47953299999999, -86.729515, -90.345825, -97.506966, -81.604957, -79.836097], \"marker\": {\"autocolorscale\": false, \"cmax\": 1000000, \"cmin\": 146860.53, \"color\": [741985.93, 1321579.07, 1197966.31, 668783.83, 522039.89, 421703.54, 330010.85, 470116.36, 584208.19, 436582.3, 461745.31, 489865.52, 543570.64, 319988.82, 319549.92, 374882.85, 353395.78, 283592.25, 315172.69, 477791.32, 253356.35, 255980.0, 311132.19, 267176.31, 227988.65, 279107.82, 267410.69, 267344.36, 228692.05, 323289.1, 321685.42, 238323.36, 270723.65, 275794.6, 236726.29, 262765.6, 226093.51, 228063.87, 199937.4, 174491.31, 205721.63, 194209.81, 261168.36, 200753.38, 208234.73, 189838.66, 199256.9, 175043.92, 175592.66, 178618.04], \"colorbar\": {\"title\": {\"text\": \"Home Values\"}}, \"colorscale\": [[0.0, \"rgb(0,0,0)\"], [0.3333333333333333, \"rgb(230,0,0)\"], [0.6666666666666666, \"rgb(255,210,0)\"], [1.0, \"rgb(255,255,255)\"]], \"opacity\": 1, \"reversescale\": true, \"size\": 15, \"symbol\": \"circle\"}, \"mode\": \"markers\", \"name\": \"\", \"showlegend\": false, \"type\": \"scattergeo\", \"visible\": false}, {\"hovertemplate\": [\"Los Angeles-Long Beach-Anaheim, CA<br> Home Value: $782544.13\", \"San Jose, CA<br> Home Value: $1375589.13\", \"San Francisco, CA<br> Home Value: $1241393.75\", \"San Diego, CA<br> Home Value: $737627.0\", \"New York, NY<br> Home Value: $538411.88\", \"Riverside, CA<br> Home Value: $462764.75\", \"Miami-Fort Lauderdale, FL<br> Home Value: $342684.25\", \"Sacramento, CA<br> Home Value: $511088.75\", \"Seattle, WA<br> Home Value: $633612.63\", \"Salt Lake City, UT<br> Home Value: $485813.38\", \"Portland, OR<br> Home Value: $492073.0\", \"Denver, CO<br> Home Value: $523841.38\", \"Boston, MA<br> Home Value: $570860.0\", \"Las Vegas, NV<br> Home Value: $340183.75\", \"Phoenix, AZ<br> Home Value: $364889.63\", \"Austin, TX<br> Home Value: $446495.0\", \"Providence, RI<br> Home Value: $380446.63\", \"Orlando, FL<br> Home Value: $293443.63\", \"Nashville, TN<br> Home Value: $331279.25\", \"Washington, DC<br> Home Value: $497567.0\", \"Tampa, FL<br> Home Value: $277811.38\", \"Jacksonville, FL<br> Home Value: $272898.75\", \"Raleigh, NC<br> Home Value: $332681.0\", \"Charlotte, NC<br> Home Value: $287798.0\", \"New Orleans, LA<br> Home Value: $233930.0\", \"Dallas-Fort Worth, TX<br> Home Value: $295866.88\", \"Atlanta, GA<br> Home Value: $286059.75\", \"Virginia Beach, VA<br> Home Value: $276437.25\", \"San Antonio, TX<br> Home Value: $239180.0\", \"Minneapolis-St Paul, MN<br> Home Value: $335376.88\", \"Baltimore, MD<br> Home Value: $333903.38\", \"Houston, TX<br> Home Value: $247077.38\", \"Richmond, VA<br> Home Value: $280618.38\", \"Philadelphia, PA<br> Home Value: $291746.88\", \"Columbus, OH<br> Home Value: $249520.75\", \"Chicago, IL<br> Home Value: $270083.38\", \"Milwaukee, WI<br> Home Value: $240852.13\", \"Kansas City, MO<br> Home Value: $243549.71\", \"Louisville-Jefferson County, KY<br> Home Value: $207317.88\", \"Memphis, TN<br> Home Value: $184920.88\", \"Indianapolis, IN<br> Home Value: $218530.5\", \"Buffalo, NY<br> Home Value: $209999.14\", \"Hartford, CT<br> Home Value: $276637.38\", \"Detroit, MI<br> Home Value: $212159.75\", \"Cincinnati, OH<br> Home Value: $221436.0\", \"Birmingham, AL<br> Home Value: $197415.63\", \"St. Louis, MO<br> Home Value: $208660.63\", \"Oklahoma City, OK<br> Home Value: $179581.5\", \"Cleveland, OH<br> Home Value: $186535.38\", \"Pittsburgh, PA<br> Home Value: $190081.43\"], \"lat\": [34.108703000000006, 36.908471999999996, 37.773718, 33.023604, 40.77493, 34.538476, 26.101828, 38.790271999999995, 47.490552, 40.572887, 45.600621999999994, 39.434789, 42.517606, 36.21413, 33.185765, 30.249744, 41.70684, 28.434396000000003, 36.118182, 38.798204999999996, 28.120540999999996, 30.236594, 35.756746, 35.166342, 30.053420000000003, 32.849171000000005, 33.693728, 36.804408, 29.433059999999998, 45.096664000000004, 39.304361, 29.749593, 37.411324, 39.894958, 39.968562, 41.823521, 42.912643, 38.931857, 38.305838, 35.024419, 39.748670000000004, 43.044371000000005, 41.71865, 42.721848, 39.100546, 33.402599, 38.740210999999995, 35.430968, 41.555037, 40.439525], \"lon\": [-118.18275, -121.37137, -122.27443000000001, -116.77611999999999, -73.873758, -116.13453999999999, -80.478755, -121.00563999999999, -121.83398000000001, -112.95325, -122.48438, -104.90106999999999, -71.02199300000001, -115.0144, -112.06786000000001, -97.649842, -71.286687, -81.356084, -86.64412, -77.486882, -82.525188, -81.754446, -78.460441, -80.797285, -89.934502, -96.970489, -84.399911, -76.449526, -98.606973, -93.275361, -76.549501, -95.35364200000001, -77.441816, -75.311982, -82.835911, -87.82829699999999, -87.862312, -94.443841, -85.68164499999999, -89.871971, -86.21238199999999, -78.777335, -72.57391899999999, -83.200846, -84.47953299999999, -86.729515, -90.345825, -97.506966, -81.604957, -79.836097], \"marker\": {\"autocolorscale\": false, \"cmax\": 1000000, \"cmin\": 146860.53, \"color\": [782544.13, 1375589.13, 1241393.75, 737627.0, 538411.88, 462764.75, 342684.25, 511088.75, 633612.63, 485813.38, 492073.0, 523841.38, 570860.0, 340183.75, 364889.63, 446495.0, 380446.63, 293443.63, 331279.25, 497567.0, 277811.38, 272898.75, 332681.0, 287798.0, 233930.0, 295866.88, 286059.75, 276437.25, 239180.0, 335376.88, 333903.38, 247077.38, 280618.38, 291746.88, 249520.75, 270083.38, 240852.13, 243549.71, 207317.88, 184920.88, 218530.5, 209999.14, 276637.38, 212159.75, 221436.0, 197415.63, 208660.63, 179581.5, 186535.38, 190081.43], \"colorbar\": {\"title\": {\"text\": \"Home Values\"}}, \"colorscale\": [[0.0, \"rgb(0,0,0)\"], [0.3333333333333333, \"rgb(230,0,0)\"], [0.6666666666666666, \"rgb(255,210,0)\"], [1.0, \"rgb(255,255,255)\"]], \"opacity\": 1, \"reversescale\": true, \"size\": 15, \"symbol\": \"circle\"}, \"mode\": \"markers\", \"name\": \"\", \"showlegend\": false, \"type\": \"scattergeo\", \"visible\": false}],\n",
       "                        {\"geo\": {\"projection\": {\"type\": \"albers usa\"}, \"scope\": \"usa\", \"showland\": true}, \"sliders\": [{\"active\": 0, \"currentvalue\": {\"prefix\": \"Date: \"}, \"pad\": {\"t\": 1}, \"steps\": [{\"args\": [{\"visible\": [true, false, false, false, false, false, false]}, {\"title\": \"<b>Home Values by Metro</b> <br><i>2000 Average: 271706.73</i>\"}], \"label\": \"Year 2000\", \"method\": \"restyle\"}, {\"args\": [{\"visible\": [false, true, false, false, false, false, false]}, {\"title\": \"<b>Home Values by Metro</b> <br><i>2008 Average: 304588.77</i>\"}], \"label\": \"Year 2008\", \"method\": \"restyle\"}, {\"args\": [{\"visible\": [false, false, true, false, false, false, false]}, {\"title\": \"<b>Home Values by Metro</b> <br><i>2017 Average: 321677.58</i>\"}], \"label\": \"Year 2017\", \"method\": \"restyle\"}, {\"args\": [{\"visible\": [false, false, false, true, false, false, false]}, {\"title\": \"<b>Home Values by Metro</b> <br><i>2018 Average: 338862.01</i>\"}], \"label\": \"Year 2018\", \"method\": \"restyle\"}, {\"args\": [{\"visible\": [false, false, false, false, true, false, false]}, {\"title\": \"<b>Home Values by Metro</b> <br><i>2019 Average: 342056.54</i>\"}], \"label\": \"Year 2019\", \"method\": \"restyle\"}, {\"args\": [{\"visible\": [false, false, false, false, false, true, false]}, {\"title\": \"<b>Home Values by Metro</b> <br><i>2020 Average: 354781.04</i>\"}], \"label\": \"Year 2020\", \"method\": \"restyle\"}, {\"args\": [{\"visible\": [false, false, false, false, false, false, true]}, {\"title\": \"<b>Home Values by Metro</b> <br><i>2021 Average: 376825.54</i>\"}], \"label\": \"Year 2021\", \"method\": \"restyle\"}]}], \"template\": {\"data\": {\"bar\": [{\"error_x\": {\"color\": \"#2a3f5f\"}, \"error_y\": {\"color\": \"#2a3f5f\"}, \"marker\": {\"line\": {\"color\": \"#E5ECF6\", \"width\": 0.5}}, \"type\": \"bar\"}], \"barpolar\": [{\"marker\": {\"line\": {\"color\": \"#E5ECF6\", \"width\": 0.5}}, \"type\": \"barpolar\"}], \"carpet\": [{\"aaxis\": {\"endlinecolor\": \"#2a3f5f\", \"gridcolor\": \"white\", \"linecolor\": \"white\", \"minorgridcolor\": \"white\", \"startlinecolor\": \"#2a3f5f\"}, \"baxis\": {\"endlinecolor\": \"#2a3f5f\", \"gridcolor\": \"white\", \"linecolor\": \"white\", \"minorgridcolor\": \"white\", \"startlinecolor\": \"#2a3f5f\"}, \"type\": \"carpet\"}], \"choropleth\": [{\"colorbar\": {\"outlinewidth\": 0, \"ticks\": \"\"}, \"type\": \"choropleth\"}], \"contour\": [{\"colorbar\": {\"outlinewidth\": 0, \"ticks\": \"\"}, \"colorscale\": [[0.0, \"#0d0887\"], [0.1111111111111111, \"#46039f\"], [0.2222222222222222, \"#7201a8\"], [0.3333333333333333, \"#9c179e\"], [0.4444444444444444, \"#bd3786\"], [0.5555555555555556, \"#d8576b\"], [0.6666666666666666, \"#ed7953\"], [0.7777777777777778, \"#fb9f3a\"], [0.8888888888888888, \"#fdca26\"], [1.0, \"#f0f921\"]], \"type\": \"contour\"}], \"contourcarpet\": [{\"colorbar\": {\"outlinewidth\": 0, \"ticks\": \"\"}, \"type\": \"contourcarpet\"}], \"heatmap\": [{\"colorbar\": {\"outlinewidth\": 0, \"ticks\": \"\"}, \"colorscale\": [[0.0, \"#0d0887\"], [0.1111111111111111, \"#46039f\"], [0.2222222222222222, \"#7201a8\"], [0.3333333333333333, \"#9c179e\"], [0.4444444444444444, \"#bd3786\"], [0.5555555555555556, \"#d8576b\"], [0.6666666666666666, \"#ed7953\"], [0.7777777777777778, \"#fb9f3a\"], [0.8888888888888888, \"#fdca26\"], [1.0, \"#f0f921\"]], \"type\": \"heatmap\"}], \"heatmapgl\": [{\"colorbar\": {\"outlinewidth\": 0, \"ticks\": \"\"}, \"colorscale\": [[0.0, \"#0d0887\"], [0.1111111111111111, \"#46039f\"], [0.2222222222222222, \"#7201a8\"], [0.3333333333333333, \"#9c179e\"], [0.4444444444444444, \"#bd3786\"], [0.5555555555555556, \"#d8576b\"], [0.6666666666666666, \"#ed7953\"], [0.7777777777777778, \"#fb9f3a\"], [0.8888888888888888, \"#fdca26\"], [1.0, \"#f0f921\"]], \"type\": \"heatmapgl\"}], \"histogram\": [{\"marker\": {\"colorbar\": {\"outlinewidth\": 0, \"ticks\": \"\"}}, \"type\": \"histogram\"}], \"histogram2d\": [{\"colorbar\": {\"outlinewidth\": 0, \"ticks\": \"\"}, \"colorscale\": [[0.0, \"#0d0887\"], [0.1111111111111111, \"#46039f\"], [0.2222222222222222, \"#7201a8\"], [0.3333333333333333, \"#9c179e\"], [0.4444444444444444, \"#bd3786\"], [0.5555555555555556, \"#d8576b\"], [0.6666666666666666, \"#ed7953\"], [0.7777777777777778, \"#fb9f3a\"], [0.8888888888888888, \"#fdca26\"], [1.0, \"#f0f921\"]], \"type\": \"histogram2d\"}], \"histogram2dcontour\": [{\"colorbar\": {\"outlinewidth\": 0, \"ticks\": \"\"}, \"colorscale\": [[0.0, \"#0d0887\"], [0.1111111111111111, \"#46039f\"], [0.2222222222222222, \"#7201a8\"], [0.3333333333333333, \"#9c179e\"], [0.4444444444444444, \"#bd3786\"], [0.5555555555555556, \"#d8576b\"], [0.6666666666666666, \"#ed7953\"], [0.7777777777777778, \"#fb9f3a\"], [0.8888888888888888, \"#fdca26\"], [1.0, \"#f0f921\"]], \"type\": \"histogram2dcontour\"}], \"mesh3d\": [{\"colorbar\": {\"outlinewidth\": 0, \"ticks\": \"\"}, \"type\": \"mesh3d\"}], \"parcoords\": [{\"line\": {\"colorbar\": {\"outlinewidth\": 0, \"ticks\": \"\"}}, \"type\": \"parcoords\"}], \"pie\": [{\"automargin\": true, \"type\": \"pie\"}], \"scatter\": [{\"marker\": {\"colorbar\": {\"outlinewidth\": 0, \"ticks\": \"\"}}, \"type\": \"scatter\"}], \"scatter3d\": [{\"line\": {\"colorbar\": {\"outlinewidth\": 0, \"ticks\": \"\"}}, \"marker\": {\"colorbar\": {\"outlinewidth\": 0, \"ticks\": \"\"}}, \"type\": \"scatter3d\"}], \"scattercarpet\": [{\"marker\": {\"colorbar\": {\"outlinewidth\": 0, \"ticks\": \"\"}}, \"type\": \"scattercarpet\"}], \"scattergeo\": [{\"marker\": {\"colorbar\": {\"outlinewidth\": 0, \"ticks\": \"\"}}, \"type\": \"scattergeo\"}], \"scattergl\": [{\"marker\": {\"colorbar\": {\"outlinewidth\": 0, \"ticks\": \"\"}}, \"type\": \"scattergl\"}], \"scattermapbox\": [{\"marker\": {\"colorbar\": {\"outlinewidth\": 0, \"ticks\": \"\"}}, \"type\": \"scattermapbox\"}], \"scatterpolar\": [{\"marker\": {\"colorbar\": {\"outlinewidth\": 0, \"ticks\": \"\"}}, \"type\": \"scatterpolar\"}], \"scatterpolargl\": [{\"marker\": {\"colorbar\": {\"outlinewidth\": 0, \"ticks\": \"\"}}, \"type\": \"scatterpolargl\"}], \"scatterternary\": [{\"marker\": {\"colorbar\": {\"outlinewidth\": 0, \"ticks\": \"\"}}, \"type\": \"scatterternary\"}], \"surface\": [{\"colorbar\": {\"outlinewidth\": 0, \"ticks\": \"\"}, \"colorscale\": [[0.0, \"#0d0887\"], [0.1111111111111111, \"#46039f\"], [0.2222222222222222, \"#7201a8\"], [0.3333333333333333, \"#9c179e\"], [0.4444444444444444, \"#bd3786\"], [0.5555555555555556, \"#d8576b\"], [0.6666666666666666, \"#ed7953\"], [0.7777777777777778, \"#fb9f3a\"], [0.8888888888888888, \"#fdca26\"], [1.0, \"#f0f921\"]], \"type\": \"surface\"}], \"table\": [{\"cells\": {\"fill\": {\"color\": \"#EBF0F8\"}, \"line\": {\"color\": \"white\"}}, \"header\": {\"fill\": {\"color\": \"#C8D4E3\"}, \"line\": {\"color\": \"white\"}}, \"type\": \"table\"}]}, \"layout\": {\"annotationdefaults\": {\"arrowcolor\": \"#2a3f5f\", \"arrowhead\": 0, \"arrowwidth\": 1}, \"coloraxis\": {\"colorbar\": {\"outlinewidth\": 0, \"ticks\": \"\"}}, \"colorscale\": {\"diverging\": [[0, \"#8e0152\"], [0.1, \"#c51b7d\"], [0.2, \"#de77ae\"], [0.3, \"#f1b6da\"], [0.4, \"#fde0ef\"], [0.5, \"#f7f7f7\"], [0.6, \"#e6f5d0\"], [0.7, \"#b8e186\"], [0.8, \"#7fbc41\"], [0.9, \"#4d9221\"], [1, \"#276419\"]], \"sequential\": [[0.0, \"#0d0887\"], [0.1111111111111111, \"#46039f\"], [0.2222222222222222, \"#7201a8\"], [0.3333333333333333, \"#9c179e\"], [0.4444444444444444, \"#bd3786\"], [0.5555555555555556, \"#d8576b\"], [0.6666666666666666, \"#ed7953\"], [0.7777777777777778, \"#fb9f3a\"], [0.8888888888888888, \"#fdca26\"], [1.0, \"#f0f921\"]], \"sequentialminus\": [[0.0, \"#0d0887\"], [0.1111111111111111, \"#46039f\"], [0.2222222222222222, \"#7201a8\"], [0.3333333333333333, \"#9c179e\"], [0.4444444444444444, \"#bd3786\"], [0.5555555555555556, \"#d8576b\"], [0.6666666666666666, \"#ed7953\"], [0.7777777777777778, \"#fb9f3a\"], [0.8888888888888888, \"#fdca26\"], [1.0, \"#f0f921\"]]}, \"colorway\": [\"#636efa\", \"#EF553B\", \"#00cc96\", \"#ab63fa\", \"#FFA15A\", \"#19d3f3\", \"#FF6692\", \"#B6E880\", \"#FF97FF\", \"#FECB52\"], \"font\": {\"color\": \"#2a3f5f\"}, \"geo\": {\"bgcolor\": \"white\", \"lakecolor\": \"white\", \"landcolor\": \"#E5ECF6\", \"showlakes\": true, \"showland\": true, \"subunitcolor\": \"white\"}, \"hoverlabel\": {\"align\": \"left\"}, \"hovermode\": \"closest\", \"mapbox\": {\"style\": \"light\"}, \"paper_bgcolor\": \"white\", \"plot_bgcolor\": \"#E5ECF6\", \"polar\": {\"angularaxis\": {\"gridcolor\": \"white\", \"linecolor\": \"white\", \"ticks\": \"\"}, \"bgcolor\": \"#E5ECF6\", \"radialaxis\": {\"gridcolor\": \"white\", \"linecolor\": \"white\", \"ticks\": \"\"}}, \"scene\": {\"xaxis\": {\"backgroundcolor\": \"#E5ECF6\", \"gridcolor\": \"white\", \"gridwidth\": 2, \"linecolor\": \"white\", \"showbackground\": true, \"ticks\": \"\", \"zerolinecolor\": \"white\"}, \"yaxis\": {\"backgroundcolor\": \"#E5ECF6\", \"gridcolor\": \"white\", \"gridwidth\": 2, \"linecolor\": \"white\", \"showbackground\": true, \"ticks\": \"\", \"zerolinecolor\": \"white\"}, \"zaxis\": {\"backgroundcolor\": \"#E5ECF6\", \"gridcolor\": \"white\", \"gridwidth\": 2, \"linecolor\": \"white\", \"showbackground\": true, \"ticks\": \"\", \"zerolinecolor\": \"white\"}}, \"shapedefaults\": {\"line\": {\"color\": \"#2a3f5f\"}}, \"ternary\": {\"aaxis\": {\"gridcolor\": \"white\", \"linecolor\": \"white\", \"ticks\": \"\"}, \"baxis\": {\"gridcolor\": \"white\", \"linecolor\": \"white\", \"ticks\": \"\"}, \"bgcolor\": \"#E5ECF6\", \"caxis\": {\"gridcolor\": \"white\", \"linecolor\": \"white\", \"ticks\": \"\"}}, \"title\": {\"x\": 0.05}, \"xaxis\": {\"automargin\": true, \"gridcolor\": \"white\", \"linecolor\": \"white\", \"ticks\": \"\", \"title\": {\"standoff\": 15}, \"zerolinecolor\": \"white\", \"zerolinewidth\": 2}, \"yaxis\": {\"automargin\": true, \"gridcolor\": \"white\", \"linecolor\": \"white\", \"ticks\": \"\", \"title\": {\"standoff\": 15}, \"zerolinecolor\": \"white\", \"zerolinewidth\": 2}}}, \"title\": {\"text\": \"<b>Home Values by Metro</b> <br><i>2000 Average: 271706.73</i>\"}},\n",
       "                        {\"responsive\": true}\n",
       "                    ).then(function(){\n",
       "                            \n",
       "var gd = document.getElementById('eb7a55d5-4efa-4a25-a135-5650c473de7b');\n",
       "var x = new MutationObserver(function (mutations, observer) {{\n",
       "        var display = window.getComputedStyle(gd).display;\n",
       "        if (!display || display === 'none') {{\n",
       "            console.log([gd, 'removed!']);\n",
       "            Plotly.purge(gd);\n",
       "            observer.disconnect();\n",
       "        }}\n",
       "}});\n",
       "\n",
       "// Listen for the removal of the full notebook cells\n",
       "var notebookContainer = gd.closest('#notebook-container');\n",
       "if (notebookContainer) {{\n",
       "    x.observe(notebookContainer, {childList: true});\n",
       "}}\n",
       "\n",
       "// Listen for the clearing of the current output cell\n",
       "var outputEl = gd.closest('.output');\n",
       "if (outputEl) {{\n",
       "    x.observe(outputEl, {childList: true});\n",
       "}}\n",
       "\n",
       "                        })\n",
       "                };\n",
       "                });\n",
       "            </script>\n",
       "        </div>"
      ]
     },
     "metadata": {},
     "output_type": "display_data"
    }
   ],
   "source": [
    "#same as above figure but for home values\n",
    "\n",
    "fig = go.Figure()\n",
    "\n",
    "col_name = df2.columns\n",
    "n_col = len(df2.columns)\n",
    "date_list =[]\n",
    "col_values = 5\n",
    "n_range = 7\n",
    "\n",
    "for i in range(n_range):\n",
    "    df = df2[['Latitude','Longitude', 'ZillowName',col_name[col_values]]]\n",
    "    lat = df['Latitude']\n",
    "    lon = df['Longitude']\n",
    "\n",
    "    df['text'] = df.apply(lambda x: x[2] + '<br> Home Value: $' + str(round(x[3],2)), axis=1)\n",
    "\n",
    "\n",
    "    fig.add_trace(\n",
    "    go.Scattergeo(\n",
    "        name='',\n",
    "        lon=lon,\n",
    "        lat=lat,\n",
    "        visible=False,\n",
    "        hovertemplate=df['text'],\n",
    "        showlegend=False,\n",
    "        mode='markers',\n",
    "        marker=dict(\n",
    "            size=15,\n",
    "            opacity=1,\n",
    "            symbol='circle',\n",
    "            reversescale = True,\n",
    "            autocolorscale = False,\n",
    "            colorscale = 'Hot',\n",
    "            cmin = metro_data_long['Home'].min(),\n",
    "            color = df[col_name[col_values]],\n",
    "            cmax = 1000000,#metro_data_long['Home'].max(), #set this as a specific number to make higher values more obvious\n",
    "            #cmid=300000.0,\n",
    "            colorbar_title = \"Home Values\",\n",
    "            #colorbar_dtick=.5,\n",
    "            ),\n",
    "        )\n",
    "    )\n",
    "    \n",
    "    col_values += 1\n",
    "    \n",
    "steps =[]\n",
    "years = metro_data_long['year'].sort_values().unique()\n",
    "\n",
    "for i in range(len(fig.data)):\n",
    "    value_avg = metro_data_long['Home'].loc[metro_data_long['year'] == years[i]].mean()\n",
    "    step = dict(\n",
    "        method='restyle',\n",
    "        args = [\n",
    "            {'visible': [False] * len(fig.data)}, #set all data to false visibility\n",
    "            {'title': \"<b>Home Values by Metro</b> <br><i>{0} Average: ${1}</i>\".format(years[i], round(value_avg,2))}, #update title to include average for that year\n",
    "        ],\n",
    "        label = 'Year {}'.format(years[i]),\n",
    "    )\n",
    "    \n",
    "    step[\"args\"][0][\"visible\"][i] = True\n",
    "    steps.append(step)\n",
    "    \n",
    "\n",
    "sliders = [dict(\n",
    "    active=0,\n",
    "    currentvalue = {'prefix':'Date: '},\n",
    "    pad = {'t':1},\n",
    "    steps = steps,\n",
    ")]\n",
    "\n",
    "\n",
    "fig.data[0].visible = True\n",
    "min_year = metro_data_long['year'].min()\n",
    "values_avg = metro_data_long['Home'].loc[metro_data_long['year'] == min_year].mean()\n",
    "\n",
    "fig.update_layout(\n",
    "    title = \"<b>Home Values by Metro</b> <br><i>{0} Average: ${1}</i>\".format(min_year, round(values_avg,2)),\n",
    "    sliders=sliders,\n",
    "    geo = dict(\n",
    "        scope = 'usa',\n",
    "        projection_type = 'albers usa',\n",
    "        showland = True,\n",
    "    )\n",
    ")\n",
    "\n",
    "fig.show()\n",
    "#offline.plot(fig, filename='testhomevalues.html')"
   ]
  },
  {
   "cell_type": "code",
   "execution_count": 98,
   "metadata": {},
   "outputs": [],
   "source": [
    "underwaterdf = pd.read_json('underwater.json')"
   ]
  },
  {
   "cell_type": "code",
   "execution_count": 99,
   "metadata": {
    "scrolled": true
   },
   "outputs": [
    {
     "data": {
      "text/html": [
       "<div>\n",
       "<style scoped>\n",
       "    .dataframe tbody tr th:only-of-type {\n",
       "        vertical-align: middle;\n",
       "    }\n",
       "\n",
       "    .dataframe tbody tr th {\n",
       "        vertical-align: top;\n",
       "    }\n",
       "\n",
       "    .dataframe thead th {\n",
       "        text-align: right;\n",
       "    }\n",
       "</style>\n",
       "<table border=\"1\" class=\"dataframe\">\n",
       "  <thead>\n",
       "    <tr style=\"text-align: right;\">\n",
       "      <th></th>\n",
       "      <th>State</th>\n",
       "      <th>County</th>\n",
       "      <th>percentage</th>\n",
       "    </tr>\n",
       "  </thead>\n",
       "  <tbody>\n",
       "    <tr>\n",
       "      <th>0</th>\n",
       "      <td>Alabama</td>\n",
       "      <td>Russell</td>\n",
       "      <td>0.448457</td>\n",
       "    </tr>\n",
       "    <tr>\n",
       "      <th>1</th>\n",
       "      <td>Alabama</td>\n",
       "      <td>Lee</td>\n",
       "      <td>0.286311</td>\n",
       "    </tr>\n",
       "    <tr>\n",
       "      <th>2</th>\n",
       "      <td>Alabama</td>\n",
       "      <td>Etowah</td>\n",
       "      <td>0.253189</td>\n",
       "    </tr>\n",
       "    <tr>\n",
       "      <th>3</th>\n",
       "      <td>Alabama</td>\n",
       "      <td>Chambers</td>\n",
       "      <td>0.217227</td>\n",
       "    </tr>\n",
       "    <tr>\n",
       "      <th>4</th>\n",
       "      <td>Alabama</td>\n",
       "      <td>Calhoun</td>\n",
       "      <td>0.180075</td>\n",
       "    </tr>\n",
       "  </tbody>\n",
       "</table>\n",
       "</div>"
      ],
      "text/plain": [
       "     State    County  percentage\n",
       "0  Alabama   Russell    0.448457\n",
       "1  Alabama       Lee    0.286311\n",
       "2  Alabama    Etowah    0.253189\n",
       "3  Alabama  Chambers    0.217227\n",
       "4  Alabama   Calhoun    0.180075"
      ]
     },
     "execution_count": 99,
     "metadata": {},
     "output_type": "execute_result"
    }
   ],
   "source": [
    "underwaterdf.head()"
   ]
  },
  {
   "cell_type": "code",
   "execution_count": 106,
   "metadata": {},
   "outputs": [
    {
     "data": {
      "text/plain": [
       "array(['Alabama', 'Alaska', 'Arizona', 'Arkansas', 'California',\n",
       "       'Colorado', 'Connecticut', 'Delaware', 'District of Columbia',\n",
       "       'Florida', 'Georgia', 'Hawaii', 'Idaho', 'Illinois', 'Indiana',\n",
       "       'Iowa', 'Kansas', 'Kentucky', 'Louisiana', 'Maine', 'Maryland',\n",
       "       'Massachusetts', 'Michigan', 'Minnesota', 'Mississippi',\n",
       "       'Missouri', 'Montana', 'Nebraska', 'Nevada', 'New Hampshire',\n",
       "       'New Jersey', 'New Mexico', 'New York', 'North Carolina',\n",
       "       'North Dakota', 'Ohio', 'Oklahoma', 'Oregon', 'Pennsylvania',\n",
       "       'Rhode Island', 'South Carolina', 'South Dakota', 'Tennessee',\n",
       "       'Texas', 'Utah', 'Vermont', 'Virginia', 'Washington',\n",
       "       'West Virginia', 'Wisconsin', 'Wyoming'], dtype=object)"
      ]
     },
     "execution_count": 106,
     "metadata": {},
     "output_type": "execute_result"
    }
   ],
   "source": [
    "underwaterdf['State'].unique()"
   ]
  },
  {
   "cell_type": "code",
   "execution_count": 101,
   "metadata": {},
   "outputs": [],
   "source": [
    "countycrosswalk = pd.read_csv('cbsatocountycrosswalk.csv')"
   ]
  },
  {
   "cell_type": "code",
   "execution_count": 103,
   "metadata": {},
   "outputs": [],
   "source": [
    "countycrosswalk.dropna(subset=['cbsa'], inplace=True)"
   ]
  },
  {
   "cell_type": "code",
   "execution_count": 104,
   "metadata": {},
   "outputs": [
    {
     "data": {
      "text/html": [
       "<div>\n",
       "<style scoped>\n",
       "    .dataframe tbody tr th:only-of-type {\n",
       "        vertical-align: middle;\n",
       "    }\n",
       "\n",
       "    .dataframe tbody tr th {\n",
       "        vertical-align: top;\n",
       "    }\n",
       "\n",
       "    .dataframe thead th {\n",
       "        text-align: right;\n",
       "    }\n",
       "</style>\n",
       "<table border=\"1\" class=\"dataframe\">\n",
       "  <thead>\n",
       "    <tr style=\"text-align: right;\">\n",
       "      <th></th>\n",
       "      <th>countyname</th>\n",
       "      <th>state</th>\n",
       "      <th>ssacounty</th>\n",
       "      <th>fipscounty</th>\n",
       "      <th>msa</th>\n",
       "      <th>l</th>\n",
       "      <th>msaname</th>\n",
       "      <th>cbsa</th>\n",
       "      <th>cbsaname</th>\n",
       "      <th>cbsaold</th>\n",
       "      <th>...</th>\n",
       "      <th>ssast</th>\n",
       "      <th>fipst</th>\n",
       "      <th>y2005</th>\n",
       "      <th>y2011</th>\n",
       "      <th>y2012</th>\n",
       "      <th>y2013</th>\n",
       "      <th>y2014</th>\n",
       "      <th>y2015</th>\n",
       "      <th>y2016</th>\n",
       "      <th>y2017</th>\n",
       "    </tr>\n",
       "  </thead>\n",
       "  <tbody>\n",
       "    <tr>\n",
       "      <th>0</th>\n",
       "      <td>AUTAUGA</td>\n",
       "      <td>AL</td>\n",
       "      <td>1000</td>\n",
       "      <td>1001</td>\n",
       "      <td>5240.0</td>\n",
       "      <td>NaN</td>\n",
       "      <td>MONTGOMERY, AL</td>\n",
       "      <td>33860.0</td>\n",
       "      <td>Montgomery, AL</td>\n",
       "      <td>33860.0</td>\n",
       "      <td>...</td>\n",
       "      <td>1</td>\n",
       "      <td>1</td>\n",
       "      <td>2005.0</td>\n",
       "      <td>2011.0</td>\n",
       "      <td>2012.0</td>\n",
       "      <td>2013.0</td>\n",
       "      <td>2014.0</td>\n",
       "      <td>2015.0</td>\n",
       "      <td>2016.0</td>\n",
       "      <td>2017.0</td>\n",
       "    </tr>\n",
       "    <tr>\n",
       "      <th>3</th>\n",
       "      <td>BIBB</td>\n",
       "      <td>AL</td>\n",
       "      <td>1030</td>\n",
       "      <td>1007</td>\n",
       "      <td>1.0</td>\n",
       "      <td>NaN</td>\n",
       "      <td>ALABAMA</td>\n",
       "      <td>13820.0</td>\n",
       "      <td>Birmingham-Hoover, AL</td>\n",
       "      <td>13820.0</td>\n",
       "      <td>...</td>\n",
       "      <td>1</td>\n",
       "      <td>1</td>\n",
       "      <td>2005.0</td>\n",
       "      <td>2011.0</td>\n",
       "      <td>2012.0</td>\n",
       "      <td>2013.0</td>\n",
       "      <td>2014.0</td>\n",
       "      <td>2015.0</td>\n",
       "      <td>2016.0</td>\n",
       "      <td>2017.0</td>\n",
       "    </tr>\n",
       "    <tr>\n",
       "      <th>4</th>\n",
       "      <td>BLOUNT</td>\n",
       "      <td>AL</td>\n",
       "      <td>1040</td>\n",
       "      <td>1009</td>\n",
       "      <td>1000.0</td>\n",
       "      <td>NaN</td>\n",
       "      <td>BIRMINGHAM, AL</td>\n",
       "      <td>13820.0</td>\n",
       "      <td>Birmingham-Hoover, AL</td>\n",
       "      <td>13820.0</td>\n",
       "      <td>...</td>\n",
       "      <td>1</td>\n",
       "      <td>1</td>\n",
       "      <td>2005.0</td>\n",
       "      <td>2011.0</td>\n",
       "      <td>2012.0</td>\n",
       "      <td>2013.0</td>\n",
       "      <td>2014.0</td>\n",
       "      <td>2015.0</td>\n",
       "      <td>2016.0</td>\n",
       "      <td>2017.0</td>\n",
       "    </tr>\n",
       "    <tr>\n",
       "      <th>7</th>\n",
       "      <td>CALHOUN</td>\n",
       "      <td>AL</td>\n",
       "      <td>1070</td>\n",
       "      <td>1015</td>\n",
       "      <td>450.0</td>\n",
       "      <td>NaN</td>\n",
       "      <td>ANNISTON,AL</td>\n",
       "      <td>11500.0</td>\n",
       "      <td>Anniston-Oxford, AL</td>\n",
       "      <td>11500.0</td>\n",
       "      <td>...</td>\n",
       "      <td>1</td>\n",
       "      <td>1</td>\n",
       "      <td>2005.0</td>\n",
       "      <td>2011.0</td>\n",
       "      <td>2012.0</td>\n",
       "      <td>2013.0</td>\n",
       "      <td>2014.0</td>\n",
       "      <td>2015.0</td>\n",
       "      <td>2016.0</td>\n",
       "      <td>2017.0</td>\n",
       "    </tr>\n",
       "    <tr>\n",
       "      <th>10</th>\n",
       "      <td>CHILTON</td>\n",
       "      <td>AL</td>\n",
       "      <td>1100</td>\n",
       "      <td>1021</td>\n",
       "      <td>1.0</td>\n",
       "      <td>NaN</td>\n",
       "      <td>ALABAMA</td>\n",
       "      <td>13820.0</td>\n",
       "      <td>Birmingham-Hoover, AL</td>\n",
       "      <td>13820.0</td>\n",
       "      <td>...</td>\n",
       "      <td>1</td>\n",
       "      <td>1</td>\n",
       "      <td>2005.0</td>\n",
       "      <td>2011.0</td>\n",
       "      <td>2012.0</td>\n",
       "      <td>2013.0</td>\n",
       "      <td>2014.0</td>\n",
       "      <td>2015.0</td>\n",
       "      <td>2016.0</td>\n",
       "      <td>2017.0</td>\n",
       "    </tr>\n",
       "  </tbody>\n",
       "</table>\n",
       "<p>5 rows × 21 columns</p>\n",
       "</div>"
      ],
      "text/plain": [
       "   countyname state  ssacounty  fipscounty     msa    l         msaname  \\\n",
       "0     AUTAUGA    AL       1000        1001  5240.0  NaN  MONTGOMERY, AL   \n",
       "3        BIBB    AL       1030        1007     1.0  NaN         ALABAMA   \n",
       "4      BLOUNT    AL       1040        1009  1000.0  NaN  BIRMINGHAM, AL   \n",
       "7     CALHOUN    AL       1070        1015   450.0  NaN     ANNISTON,AL   \n",
       "10    CHILTON    AL       1100        1021     1.0  NaN         ALABAMA   \n",
       "\n",
       "       cbsa               cbsaname  cbsaold  ... ssast  fipst   y2005   y2011  \\\n",
       "0   33860.0         Montgomery, AL  33860.0  ...     1      1  2005.0  2011.0   \n",
       "3   13820.0  Birmingham-Hoover, AL  13820.0  ...     1      1  2005.0  2011.0   \n",
       "4   13820.0  Birmingham-Hoover, AL  13820.0  ...     1      1  2005.0  2011.0   \n",
       "7   11500.0    Anniston-Oxford, AL  11500.0  ...     1      1  2005.0  2011.0   \n",
       "10  13820.0  Birmingham-Hoover, AL  13820.0  ...     1      1  2005.0  2011.0   \n",
       "\n",
       "     y2012   y2013   y2014   y2015   y2016   y2017  \n",
       "0   2012.0  2013.0  2014.0  2015.0  2016.0  2017.0  \n",
       "3   2012.0  2013.0  2014.0  2015.0  2016.0  2017.0  \n",
       "4   2012.0  2013.0  2014.0  2015.0  2016.0  2017.0  \n",
       "7   2012.0  2013.0  2014.0  2015.0  2016.0  2017.0  \n",
       "10  2012.0  2013.0  2014.0  2015.0  2016.0  2017.0  \n",
       "\n",
       "[5 rows x 21 columns]"
      ]
     },
     "execution_count": 104,
     "metadata": {},
     "output_type": "execute_result"
    }
   ],
   "source": [
    "countycrosswalk.head()"
   ]
  },
  {
   "cell_type": "code",
   "execution_count": 107,
   "metadata": {},
   "outputs": [],
   "source": [
    "us_state_to_abbrev = {\n",
    "    \"Alabama\": \"AL\",\n",
    "    \"Alaska\": \"AK\",\n",
    "    \"Arizona\": \"AZ\",\n",
    "    \"Arkansas\": \"AR\",\n",
    "    \"California\": \"CA\",\n",
    "    \"Colorado\": \"CO\",\n",
    "    \"Connecticut\": \"CT\",\n",
    "    \"Delaware\": \"DE\",\n",
    "    \"Florida\": \"FL\",\n",
    "    \"Georgia\": \"GA\",\n",
    "    \"Hawaii\": \"HI\",\n",
    "    \"Idaho\": \"ID\",\n",
    "    \"Illinois\": \"IL\",\n",
    "    \"Indiana\": \"IN\",\n",
    "    \"Iowa\": \"IA\",\n",
    "    \"Kansas\": \"KS\",\n",
    "    \"Kentucky\": \"KY\",\n",
    "    \"Louisiana\": \"LA\",\n",
    "    \"Maine\": \"ME\",\n",
    "    \"Maryland\": \"MD\",\n",
    "    \"Massachusetts\": \"MA\",\n",
    "    \"Michigan\": \"MI\",\n",
    "    \"Minnesota\": \"MN\",\n",
    "    \"Mississippi\": \"MS\",\n",
    "    \"Missouri\": \"MO\",\n",
    "    \"Montana\": \"MT\",\n",
    "    \"Nebraska\": \"NE\",\n",
    "    \"Nevada\": \"NV\",\n",
    "    \"New Hampshire\": \"NH\",\n",
    "    \"New Jersey\": \"NJ\",\n",
    "    \"New Mexico\": \"NM\",\n",
    "    \"New York\": \"NY\",\n",
    "    \"North Carolina\": \"NC\",\n",
    "    \"North Dakota\": \"ND\",\n",
    "    \"Ohio\": \"OH\",\n",
    "    \"Oklahoma\": \"OK\",\n",
    "    \"Oregon\": \"OR\",\n",
    "    \"Pennsylvania\": \"PA\",\n",
    "    \"Rhode Island\": \"RI\",\n",
    "    \"South Carolina\": \"SC\",\n",
    "    \"South Dakota\": \"SD\",\n",
    "    \"Tennessee\": \"TN\",\n",
    "    \"Texas\": \"TX\",\n",
    "    \"Utah\": \"UT\",\n",
    "    \"Vermont\": \"VT\",\n",
    "    \"Virginia\": \"VA\",\n",
    "    \"Washington\": \"WA\",\n",
    "    \"West Virginia\": \"WV\",\n",
    "    \"Wisconsin\": \"WI\",\n",
    "    \"Wyoming\": \"WY\",\n",
    "    \"District of Columbia\": \"DC\",\n",
    "    \"American Samoa\": \"AS\",\n",
    "    \"Guam\": \"GU\",\n",
    "    \"Northern Mariana Islands\": \"MP\",\n",
    "    \"Puerto Rico\": \"PR\",\n",
    "    \"United States Minor Outlying Islands\": \"UM\",\n",
    "    \"U.S. Virgin Islands\": \"VI\",\n",
    "}"
   ]
  },
  {
   "cell_type": "code",
   "execution_count": 108,
   "metadata": {},
   "outputs": [],
   "source": [
    "underwaterdf['state'] = underwaterdf['State'].map(lambda x: us_state_to_abbrev[x])"
   ]
  },
  {
   "cell_type": "code",
   "execution_count": 109,
   "metadata": {},
   "outputs": [
    {
     "data": {
      "text/html": [
       "<div>\n",
       "<style scoped>\n",
       "    .dataframe tbody tr th:only-of-type {\n",
       "        vertical-align: middle;\n",
       "    }\n",
       "\n",
       "    .dataframe tbody tr th {\n",
       "        vertical-align: top;\n",
       "    }\n",
       "\n",
       "    .dataframe thead th {\n",
       "        text-align: right;\n",
       "    }\n",
       "</style>\n",
       "<table border=\"1\" class=\"dataframe\">\n",
       "  <thead>\n",
       "    <tr style=\"text-align: right;\">\n",
       "      <th></th>\n",
       "      <th>State</th>\n",
       "      <th>County</th>\n",
       "      <th>percentage</th>\n",
       "      <th>state</th>\n",
       "    </tr>\n",
       "  </thead>\n",
       "  <tbody>\n",
       "    <tr>\n",
       "      <th>0</th>\n",
       "      <td>Alabama</td>\n",
       "      <td>Russell</td>\n",
       "      <td>0.448457</td>\n",
       "      <td>AL</td>\n",
       "    </tr>\n",
       "    <tr>\n",
       "      <th>1</th>\n",
       "      <td>Alabama</td>\n",
       "      <td>Lee</td>\n",
       "      <td>0.286311</td>\n",
       "      <td>AL</td>\n",
       "    </tr>\n",
       "    <tr>\n",
       "      <th>2</th>\n",
       "      <td>Alabama</td>\n",
       "      <td>Etowah</td>\n",
       "      <td>0.253189</td>\n",
       "      <td>AL</td>\n",
       "    </tr>\n",
       "    <tr>\n",
       "      <th>3</th>\n",
       "      <td>Alabama</td>\n",
       "      <td>Chambers</td>\n",
       "      <td>0.217227</td>\n",
       "      <td>AL</td>\n",
       "    </tr>\n",
       "    <tr>\n",
       "      <th>4</th>\n",
       "      <td>Alabama</td>\n",
       "      <td>Calhoun</td>\n",
       "      <td>0.180075</td>\n",
       "      <td>AL</td>\n",
       "    </tr>\n",
       "  </tbody>\n",
       "</table>\n",
       "</div>"
      ],
      "text/plain": [
       "     State    County  percentage state\n",
       "0  Alabama   Russell    0.448457    AL\n",
       "1  Alabama       Lee    0.286311    AL\n",
       "2  Alabama    Etowah    0.253189    AL\n",
       "3  Alabama  Chambers    0.217227    AL\n",
       "4  Alabama   Calhoun    0.180075    AL"
      ]
     },
     "execution_count": 109,
     "metadata": {},
     "output_type": "execute_result"
    }
   ],
   "source": [
    "underwaterdf.head()"
   ]
  },
  {
   "cell_type": "code",
   "execution_count": 110,
   "metadata": {},
   "outputs": [],
   "source": [
    "countycrosswalk.rename(columns={'countyname':'County'}, inplace = True)"
   ]
  },
  {
   "cell_type": "code",
   "execution_count": 112,
   "metadata": {},
   "outputs": [],
   "source": [
    "countycrosswalk['County'] = countycrosswalk['County'].str.lower()"
   ]
  },
  {
   "cell_type": "code",
   "execution_count": 113,
   "metadata": {},
   "outputs": [],
   "source": [
    "underwaterdf['County'] = underwaterdf['County'].str.lower()"
   ]
  },
  {
   "cell_type": "code",
   "execution_count": 114,
   "metadata": {},
   "outputs": [
    {
     "data": {
      "text/html": [
       "<div>\n",
       "<style scoped>\n",
       "    .dataframe tbody tr th:only-of-type {\n",
       "        vertical-align: middle;\n",
       "    }\n",
       "\n",
       "    .dataframe tbody tr th {\n",
       "        vertical-align: top;\n",
       "    }\n",
       "\n",
       "    .dataframe thead th {\n",
       "        text-align: right;\n",
       "    }\n",
       "</style>\n",
       "<table border=\"1\" class=\"dataframe\">\n",
       "  <thead>\n",
       "    <tr style=\"text-align: right;\">\n",
       "      <th></th>\n",
       "      <th>County</th>\n",
       "      <th>state</th>\n",
       "      <th>ssacounty</th>\n",
       "      <th>fipscounty</th>\n",
       "      <th>msa</th>\n",
       "      <th>l</th>\n",
       "      <th>msaname</th>\n",
       "      <th>cbsa</th>\n",
       "      <th>cbsaname</th>\n",
       "      <th>cbsaold</th>\n",
       "      <th>...</th>\n",
       "      <th>ssast</th>\n",
       "      <th>fipst</th>\n",
       "      <th>y2005</th>\n",
       "      <th>y2011</th>\n",
       "      <th>y2012</th>\n",
       "      <th>y2013</th>\n",
       "      <th>y2014</th>\n",
       "      <th>y2015</th>\n",
       "      <th>y2016</th>\n",
       "      <th>y2017</th>\n",
       "    </tr>\n",
       "  </thead>\n",
       "  <tbody>\n",
       "    <tr>\n",
       "      <th>0</th>\n",
       "      <td>autauga</td>\n",
       "      <td>AL</td>\n",
       "      <td>1000</td>\n",
       "      <td>1001</td>\n",
       "      <td>5240.0</td>\n",
       "      <td>NaN</td>\n",
       "      <td>MONTGOMERY, AL</td>\n",
       "      <td>33860.0</td>\n",
       "      <td>Montgomery, AL</td>\n",
       "      <td>33860.0</td>\n",
       "      <td>...</td>\n",
       "      <td>1</td>\n",
       "      <td>1</td>\n",
       "      <td>2005.0</td>\n",
       "      <td>2011.0</td>\n",
       "      <td>2012.0</td>\n",
       "      <td>2013.0</td>\n",
       "      <td>2014.0</td>\n",
       "      <td>2015.0</td>\n",
       "      <td>2016.0</td>\n",
       "      <td>2017.0</td>\n",
       "    </tr>\n",
       "    <tr>\n",
       "      <th>3</th>\n",
       "      <td>bibb</td>\n",
       "      <td>AL</td>\n",
       "      <td>1030</td>\n",
       "      <td>1007</td>\n",
       "      <td>1.0</td>\n",
       "      <td>NaN</td>\n",
       "      <td>ALABAMA</td>\n",
       "      <td>13820.0</td>\n",
       "      <td>Birmingham-Hoover, AL</td>\n",
       "      <td>13820.0</td>\n",
       "      <td>...</td>\n",
       "      <td>1</td>\n",
       "      <td>1</td>\n",
       "      <td>2005.0</td>\n",
       "      <td>2011.0</td>\n",
       "      <td>2012.0</td>\n",
       "      <td>2013.0</td>\n",
       "      <td>2014.0</td>\n",
       "      <td>2015.0</td>\n",
       "      <td>2016.0</td>\n",
       "      <td>2017.0</td>\n",
       "    </tr>\n",
       "    <tr>\n",
       "      <th>4</th>\n",
       "      <td>blount</td>\n",
       "      <td>AL</td>\n",
       "      <td>1040</td>\n",
       "      <td>1009</td>\n",
       "      <td>1000.0</td>\n",
       "      <td>NaN</td>\n",
       "      <td>BIRMINGHAM, AL</td>\n",
       "      <td>13820.0</td>\n",
       "      <td>Birmingham-Hoover, AL</td>\n",
       "      <td>13820.0</td>\n",
       "      <td>...</td>\n",
       "      <td>1</td>\n",
       "      <td>1</td>\n",
       "      <td>2005.0</td>\n",
       "      <td>2011.0</td>\n",
       "      <td>2012.0</td>\n",
       "      <td>2013.0</td>\n",
       "      <td>2014.0</td>\n",
       "      <td>2015.0</td>\n",
       "      <td>2016.0</td>\n",
       "      <td>2017.0</td>\n",
       "    </tr>\n",
       "    <tr>\n",
       "      <th>7</th>\n",
       "      <td>calhoun</td>\n",
       "      <td>AL</td>\n",
       "      <td>1070</td>\n",
       "      <td>1015</td>\n",
       "      <td>450.0</td>\n",
       "      <td>NaN</td>\n",
       "      <td>ANNISTON,AL</td>\n",
       "      <td>11500.0</td>\n",
       "      <td>Anniston-Oxford, AL</td>\n",
       "      <td>11500.0</td>\n",
       "      <td>...</td>\n",
       "      <td>1</td>\n",
       "      <td>1</td>\n",
       "      <td>2005.0</td>\n",
       "      <td>2011.0</td>\n",
       "      <td>2012.0</td>\n",
       "      <td>2013.0</td>\n",
       "      <td>2014.0</td>\n",
       "      <td>2015.0</td>\n",
       "      <td>2016.0</td>\n",
       "      <td>2017.0</td>\n",
       "    </tr>\n",
       "    <tr>\n",
       "      <th>10</th>\n",
       "      <td>chilton</td>\n",
       "      <td>AL</td>\n",
       "      <td>1100</td>\n",
       "      <td>1021</td>\n",
       "      <td>1.0</td>\n",
       "      <td>NaN</td>\n",
       "      <td>ALABAMA</td>\n",
       "      <td>13820.0</td>\n",
       "      <td>Birmingham-Hoover, AL</td>\n",
       "      <td>13820.0</td>\n",
       "      <td>...</td>\n",
       "      <td>1</td>\n",
       "      <td>1</td>\n",
       "      <td>2005.0</td>\n",
       "      <td>2011.0</td>\n",
       "      <td>2012.0</td>\n",
       "      <td>2013.0</td>\n",
       "      <td>2014.0</td>\n",
       "      <td>2015.0</td>\n",
       "      <td>2016.0</td>\n",
       "      <td>2017.0</td>\n",
       "    </tr>\n",
       "  </tbody>\n",
       "</table>\n",
       "<p>5 rows × 21 columns</p>\n",
       "</div>"
      ],
      "text/plain": [
       "     County state  ssacounty  fipscounty     msa    l         msaname  \\\n",
       "0   autauga    AL       1000        1001  5240.0  NaN  MONTGOMERY, AL   \n",
       "3      bibb    AL       1030        1007     1.0  NaN         ALABAMA   \n",
       "4    blount    AL       1040        1009  1000.0  NaN  BIRMINGHAM, AL   \n",
       "7   calhoun    AL       1070        1015   450.0  NaN     ANNISTON,AL   \n",
       "10  chilton    AL       1100        1021     1.0  NaN         ALABAMA   \n",
       "\n",
       "       cbsa               cbsaname  cbsaold  ... ssast  fipst   y2005   y2011  \\\n",
       "0   33860.0         Montgomery, AL  33860.0  ...     1      1  2005.0  2011.0   \n",
       "3   13820.0  Birmingham-Hoover, AL  13820.0  ...     1      1  2005.0  2011.0   \n",
       "4   13820.0  Birmingham-Hoover, AL  13820.0  ...     1      1  2005.0  2011.0   \n",
       "7   11500.0    Anniston-Oxford, AL  11500.0  ...     1      1  2005.0  2011.0   \n",
       "10  13820.0  Birmingham-Hoover, AL  13820.0  ...     1      1  2005.0  2011.0   \n",
       "\n",
       "     y2012   y2013   y2014   y2015   y2016   y2017  \n",
       "0   2012.0  2013.0  2014.0  2015.0  2016.0  2017.0  \n",
       "3   2012.0  2013.0  2014.0  2015.0  2016.0  2017.0  \n",
       "4   2012.0  2013.0  2014.0  2015.0  2016.0  2017.0  \n",
       "7   2012.0  2013.0  2014.0  2015.0  2016.0  2017.0  \n",
       "10  2012.0  2013.0  2014.0  2015.0  2016.0  2017.0  \n",
       "\n",
       "[5 rows x 21 columns]"
      ]
     },
     "execution_count": 114,
     "metadata": {},
     "output_type": "execute_result"
    }
   ],
   "source": [
    "countycrosswalk.head()"
   ]
  },
  {
   "cell_type": "code",
   "execution_count": 115,
   "metadata": {},
   "outputs": [],
   "source": [
    "underwater = underwaterdf.merge(countycrosswalk[['County','state','msaname','cbsaname']], on=['County','state'], how='left')"
   ]
  },
  {
   "cell_type": "code",
   "execution_count": 117,
   "metadata": {},
   "outputs": [
    {
     "data": {
      "text/html": [
       "<div>\n",
       "<style scoped>\n",
       "    .dataframe tbody tr th:only-of-type {\n",
       "        vertical-align: middle;\n",
       "    }\n",
       "\n",
       "    .dataframe tbody tr th {\n",
       "        vertical-align: top;\n",
       "    }\n",
       "\n",
       "    .dataframe thead th {\n",
       "        text-align: right;\n",
       "    }\n",
       "</style>\n",
       "<table border=\"1\" class=\"dataframe\">\n",
       "  <thead>\n",
       "    <tr style=\"text-align: right;\">\n",
       "      <th></th>\n",
       "      <th>cbsaname</th>\n",
       "      <th>percentage</th>\n",
       "    </tr>\n",
       "  </thead>\n",
       "  <tbody>\n",
       "    <tr>\n",
       "      <th>0</th>\n",
       "      <td>Abilene, TX</td>\n",
       "      <td>0.039741</td>\n",
       "    </tr>\n",
       "    <tr>\n",
       "      <th>1</th>\n",
       "      <td>Akron, OH</td>\n",
       "      <td>0.110980</td>\n",
       "    </tr>\n",
       "    <tr>\n",
       "      <th>2</th>\n",
       "      <td>Albany, GA</td>\n",
       "      <td>0.264066</td>\n",
       "    </tr>\n",
       "    <tr>\n",
       "      <th>3</th>\n",
       "      <td>Albany-Schenectady-Troy, NY</td>\n",
       "      <td>0.123337</td>\n",
       "    </tr>\n",
       "    <tr>\n",
       "      <th>4</th>\n",
       "      <td>Albuquerque, NM</td>\n",
       "      <td>0.053284</td>\n",
       "    </tr>\n",
       "    <tr>\n",
       "      <th>...</th>\n",
       "      <td>...</td>\n",
       "      <td>...</td>\n",
       "    </tr>\n",
       "    <tr>\n",
       "      <th>369</th>\n",
       "      <td>Yakima, WA</td>\n",
       "      <td>0.023803</td>\n",
       "    </tr>\n",
       "    <tr>\n",
       "      <th>370</th>\n",
       "      <td>York-Hanover, PA</td>\n",
       "      <td>0.057253</td>\n",
       "    </tr>\n",
       "    <tr>\n",
       "      <th>371</th>\n",
       "      <td>Youngstown-Warren-Boardman, OH-PA</td>\n",
       "      <td>0.145424</td>\n",
       "    </tr>\n",
       "    <tr>\n",
       "      <th>372</th>\n",
       "      <td>Yuba City, CA</td>\n",
       "      <td>0.043707</td>\n",
       "    </tr>\n",
       "    <tr>\n",
       "      <th>373</th>\n",
       "      <td>Yuma, AZ</td>\n",
       "      <td>0.036289</td>\n",
       "    </tr>\n",
       "  </tbody>\n",
       "</table>\n",
       "<p>374 rows × 2 columns</p>\n",
       "</div>"
      ],
      "text/plain": [
       "                              cbsaname  percentage\n",
       "0                          Abilene, TX    0.039741\n",
       "1                            Akron, OH    0.110980\n",
       "2                           Albany, GA    0.264066\n",
       "3          Albany-Schenectady-Troy, NY    0.123337\n",
       "4                      Albuquerque, NM    0.053284\n",
       "..                                 ...         ...\n",
       "369                         Yakima, WA    0.023803\n",
       "370                   York-Hanover, PA    0.057253\n",
       "371  Youngstown-Warren-Boardman, OH-PA    0.145424\n",
       "372                      Yuba City, CA    0.043707\n",
       "373                           Yuma, AZ    0.036289\n",
       "\n",
       "[374 rows x 2 columns]"
      ]
     },
     "execution_count": 117,
     "metadata": {},
     "output_type": "execute_result"
    }
   ],
   "source": [
    "underwater.groupby('cbsaname', as_index=False).mean()"
   ]
  },
  {
   "cell_type": "code",
   "execution_count": null,
   "metadata": {},
   "outputs": [],
   "source": []
  }
 ],
 "metadata": {
  "kernelspec": {
   "display_name": "Python 3",
   "language": "python",
   "name": "python3"
  },
  "language_info": {
   "codemirror_mode": {
    "name": "ipython",
    "version": 3
   },
   "file_extension": ".py",
   "mimetype": "text/x-python",
   "name": "python",
   "nbconvert_exporter": "python",
   "pygments_lexer": "ipython3",
   "version": "3.7.6"
  }
 },
 "nbformat": 4,
 "nbformat_minor": 4
}
